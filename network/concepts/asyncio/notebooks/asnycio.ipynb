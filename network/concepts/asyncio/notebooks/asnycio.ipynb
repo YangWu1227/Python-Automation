{
 "cells": [
  {
   "cell_type": "code",
   "execution_count": 5,
   "metadata": {},
   "outputs": [],
   "source": [
    "import asyncio"
   ]
  },
  {
   "cell_type": "markdown",
   "metadata": {},
   "source": [
    "# The `asyncio` Library\n",
    "\n",
    "## Coroutine\n",
    "\n",
    "From the [Fluent Python](https://www.fluentpython.com/extra/classic-coroutines/#intro), there are three kinds of coroutines in Python:\n",
    "\n",
    "* classic coroutines: A generator function that consumes data sent to it via `coro_func.send(data)` calls, and reads that data by using `yield` in an expression. \n",
    "\n",
    "* generator-based coroutines: A generator function decorated with `@types.coroutine`, which makes it compatible with the new `await` keyword, introduced in Python 3.5.\n",
    "\n",
    "* native coroutines: A coroutine defined with `async def`. We can delegate from a native coroutine to another native coroutine or to a generator-based coroutine using the `await` keyword, similar to how classic coroutines use `yield from`."
   ]
  },
  {
   "cell_type": "markdown",
   "metadata": {},
   "source": [
    "```python\n",
    "#!/usr/bin/env python3\n",
    "\n",
    "import asyncio\n",
    "\n",
    "async def async_count() -> None:\n",
    "    \"\"\"\n",
    "    Asynchronously prints 'One', waits for 1 second, then prints 'Two'.\n",
    "    \"\"\"\n",
    "    print('One')\n",
    "    await asyncio.sleep(1)\n",
    "    print('Two')\n",
    "    \n",
    "async def main() -> None:\n",
    "    \"\"\"\n",
    "    Runs three async_count tasks concurrently.\n",
    "    \"\"\"\n",
    "    await asyncio.gather(\n",
    "        async_count(), async_count(), async_count()\n",
    "    )\n",
    "    \n",
    "if __name__ == \"__main__\":\n",
    "    import time\n",
    "    import os\n",
    "    start_time = time.perf_counter()\n",
    "    asyncio.run(main())\n",
    "    elapsed = time.perf_counter() - start_time\n",
    "    file_name = os.path.basename(__file__)\n",
    "    print(f\"The module {file_name} executed in {elapsed:.2f} seconds\")\n",
    "```"
   ]
  },
  {
   "cell_type": "code",
   "execution_count": 2,
   "metadata": {},
   "outputs": [
    {
     "name": "stdout",
     "output_type": "stream",
     "text": [
      "One\n",
      "One\n",
      "One\n",
      "Two\n",
      "Two\n",
      "Two\n",
      "The module count_async.py executed in 1.00 seconds\n"
     ]
    }
   ],
   "source": [
    "!python3 ../scripts/count_async.py"
   ]
  },
  {
   "cell_type": "markdown",
   "metadata": {},
   "source": [
    "## Event Loop\n",
    "\n",
    "The event loop is the core of every `asyncio` application. We can think of it as a conductor that will manage all the asynchronous tasks sent to it. In the example above, the `asyncio.run` starts the event loop and returns only when the event loop exits.\n",
    "\n",
    "When each task reaches the `await asyncio.sleep(1)` line, the keyword `await` returns the function control to the event loop to run other tasks, suspending the execution of the surrounding coroutine. After 1 second, the task will resume and print 'Two'.\n",
    "\n",
    "This can be contrasted with the synchronous version of the code:\n",
    "\n",
    "```python\n",
    "#!/usr/bin/env python3\n",
    "import time\n",
    "\n",
    "def count() -> None:\n",
    "    \"\"\" \n",
    "    Synchronous count function.\n",
    "    \"\"\"\n",
    "    print(\"One\")\n",
    "    time.sleep(1)\n",
    "    print(\"Two\")\n",
    "    \n",
    "def main() -> int:\n",
    "    for i in range(3):\n",
    "        count()\n",
    "    \n",
    "    return 0\n",
    "\n",
    "if __name__ == \"__main__\":\n",
    "    \n",
    "    main()\n",
    "```"
   ]
  },
  {
   "cell_type": "code",
   "execution_count": 4,
   "metadata": {},
   "outputs": [
    {
     "name": "stdout",
     "output_type": "stream",
     "text": [
      "One\n",
      "Two\n",
      "One\n",
      "Two\n",
      "One\n",
      "Two\n",
      "The module count_sync.py executed in  3.01 seconds\n"
     ]
    }
   ],
   "source": [
    "!python3 ../scripts/count_sync.py"
   ]
  },
  {
   "cell_type": "markdown",
   "metadata": {},
   "source": [
    "In the synchronous version, the `time.sleep(1)` call will block the entire program for 1 second. The benefit of using `asyncio.sleep` is that it will not block the entire program, allowing other tasks to run while it waits."
   ]
  },
  {
   "cell_type": "markdown",
   "metadata": {},
   "source": [
    "## Rules of Async IO\n",
    "\n",
    "1. When a `await f()` expression is encountered in the scope of a native coroutine, the `await` keyword will pause the execution of the coroutine until the awaited result is available."
   ]
  },
  {
   "cell_type": "code",
   "execution_count": 6,
   "metadata": {},
   "outputs": [],
   "source": [
    "async def async_count() -> None:\n",
    "    print(\"One\")\n",
    "    # Pause execution here and return to `async_count` when `asyncio.sleep(1)` is done\n",
    "    await asyncio.sleep(1)\n",
    "    print(\"Two\")"
   ]
  },
  {
   "cell_type": "markdown",
   "metadata": {},
   "source": [
    "2. Using `await` or `return` creates a coroutine function. To call a coroutine function, we must `await` it to get its results.\n",
    "\n",
    "    ```python\n",
    "    # This is valid\n",
    "    async def f(x):\n",
    "        y = await z(x)  # Both `await` and `return` are allowed in coroutines\n",
    "        return y\n",
    "    ```"
   ]
  },
  {
   "cell_type": "markdown",
   "metadata": {},
   "source": [
    "3. Anything defined with `async def` may not use `yield from`, which will raise a `SyntaxError`.\n",
    "\n",
    "    ```python\n",
    "    # SyntaxError: 'yield from' inside async function\n",
    "    async def m(x):\n",
    "        yield from gen(x)\n",
    "    ```"
   ]
  },
  {
   "cell_type": "markdown",
   "metadata": {},
   "source": [
    "4. The keyword `await` can only be used inside a native coroutine. Using it in a non-coroutine function will raise a `SyntaxError`.\n",
    "\n",
    "    ```python\n",
    "    # SyntaxError: 'await' outside async function\n",
    "    def m(x):\n",
    "        y = await z(x)  \n",
    "        return y\n",
    "    ```"
   ]
  },
  {
   "cell_type": "markdown",
   "metadata": {},
   "source": [
    "5. The `for` keyword works with `iterables`. The `await` keyword works with `awaitables`. As an end user of `asyncio`, these are the awaitables we will see on a daily basis:\n",
    "    * A native coroutine object, which we get by calling a native coroutine function\n",
    "    * An `asyncio.Task`, which we usually get by passing a coroutine object to `asyncio.create_task()`"
   ]
  },
  {
   "cell_type": "markdown",
   "metadata": {},
   "source": [
    "## Probing Domains\n",
    "\n",
    "This is a program that uses `asyncio` to probe a list of domains concurrently."
   ]
  },
  {
   "cell_type": "markdown",
   "metadata": {},
   "source": [
    "```python\n",
    "#!/usr/bin/env python3\n",
    "import asyncio\n",
    "import socket\n",
    "from keyword import kwlist\n",
    "from typing import Tuple\n",
    "\n",
    "# Set maximum length of keyword for domains\n",
    "MAX_KEYWORD_LEN = 4\n",
    "\n",
    "async def probe(domain: str) -> Tuple[str, bool]:\n",
    "    \"\"\"\n",
    "    Check domains to see if they are available.\n",
    "\n",
    "    Parameters\n",
    "    ----------\n",
    "    domain : str\n",
    "        A domain name constructed using a python keyword ending with .dev\n",
    "\n",
    "    Returns\n",
    "    -------\n",
    "    Tuple[str, bool]\n",
    "        A tuple (domain name, boolean), where True means the domain is resolved and False means that it may be available.\n",
    "    \"\"\"\n",
    "    # Get reference to the event loop\n",
    "    loop = asyncio.get_running_loop()\n",
    "    try:\n",
    "        # This coroutine returns (family, type, proto, canonname, sockaddr), used to connect to the given address via socket\n",
    "        await loop.getaddrinfo(host=domain, port=None)\n",
    "    except socket.gaierror:\n",
    "        # If the domain is not a valid hostname, it may be available\n",
    "        return (domain, False)\n",
    "    return (domain, True)\n",
    "\n",
    "async def main() -> None:\n",
    "    \n",
    "    # Generator of keywords and domain names\n",
    "    names = (key_word for key_word in kwlist if len(key_word) <= MAX_KEYWORD_LEN)\n",
    "    domains = (f\"{name}.dev\".lower() for name in names)\n",
    "    # List of coroutines objects\n",
    "    coros = [probe(domain=domain) for domain in domains]\n",
    "\n",
    "    # Yield coroutines, which return the results of the coroutines, in the order they are completed\n",
    "    for coro in asyncio.as_completed(coros):\n",
    "        # If `coro` raised an unhandled exception, it would be re-raised here\n",
    "        domain, found = await coro\n",
    "        indicator = '+' if found else ' '\n",
    "        print(f\"{indicator} {domain}\")\n",
    "\n",
    "if __name__ == \"__main__\":\n",
    "    \n",
    "    import time\n",
    "    s = time.perf_counter()\n",
    "    asyncio.run(main())\n",
    "    elapsed = time.perf_counter() - s\n",
    "    print(f\"The program executed in {elapsed: .2f} seconds\")\n",
    "```"
   ]
  },
  {
   "cell_type": "code",
   "execution_count": 1,
   "metadata": {},
   "outputs": [
    {
     "name": "stdout",
     "output_type": "stream",
     "text": [
      "+ def.dev\n",
      "  pass.dev\n",
      "  with.dev\n",
      "+ and.dev\n",
      "  elif.dev\n",
      "+ from.dev\n",
      "+ not.dev\n",
      "  else.dev\n",
      "  is.dev\n",
      "  for.dev\n",
      "+ try.dev\n",
      "  or.dev\n",
      "  none.dev\n",
      "  if.dev\n",
      "+ as.dev\n",
      "+ in.dev\n",
      "  true.dev\n",
      "+ del.dev\n",
      "The program executed in  5.96 seconds\n"
     ]
    }
   ],
   "source": [
    "!python3 ../scripts/blogdom_async.py"
   ]
  },
  {
   "cell_type": "markdown",
   "metadata": {},
   "source": [
    "In the example above, the `probe` coroutine checks if a domain is available by attempting to resolve it. If the domain is not a valid hostname, it may be available. The `main` coroutine creates a list of coroutine objects and yields them using `asyncio.as_completed`. This function, `asyncio.as_completed`, returns a generator that yields the results of the coroutines in the order they are completed.\n",
    "\n",
    "The time needed to probe all the domains is the time needed to probe the slowest domain. This is because the `probe` coroutine is an I/O-bound task, and the `asyncio` library will run all the tasks concurrently."
   ]
  },
  {
   "cell_type": "markdown",
   "metadata": {},
   "source": [
    "### Non-Blocking\n",
    "\n",
    "The `await loop.getaddrinfo(...)` does the following:\n",
    "\n",
    "Basic Operation:\n",
    "\n",
    "* `await loop.getaddrinfo(...)` suspends the current coroutine (e.g. `probe('if.dev')`) and avoids blocking. This allows the event loop to manage other tasks concurrently.\n",
    "\n",
    "The process is:\n",
    "\n",
    "* **Coroutine Creation**: A new coroutine object is created by `getaddrinfo('if.dev', None)`.\n",
    "\n",
    "* **Awaiting Coroutine**: When `await` is used, it:\n",
    "    - Starts the low-level addrinfo query.\n",
    "    - Yields control back to the event loop, allowing it to handle other activities.\n",
    "\n",
    "* **Event Loop Management**: Other coroutines, like `probe('or.dev')`, can run while `probe('if.dev')` is suspended.\n",
    "\n",
    "Upon Completion:\n",
    "\n",
    "* **Response Handling**: Once `getaddrinfo('if.dev', None)` resolves, the event loop gets a response for the `getaddrinfo` query. The event loop:\n",
    "    - Resumes the suspended coroutine.\n",
    "    - Passes control back to `probe('if.dev')`.\n",
    "  \n",
    "* **Exception and Result Handling**: The resumed coroutine can now:\n",
    "    - Manage exceptions.\n",
    "    - Return results."
   ]
  }
 ],
 "metadata": {
  "kernelspec": {
   "display_name": "python_for_machine_learning",
   "language": "python",
   "name": "python3"
  },
  "language_info": {
   "codemirror_mode": {
    "name": "ipython",
    "version": 3
   },
   "file_extension": ".py",
   "mimetype": "text/x-python",
   "name": "python",
   "nbconvert_exporter": "python",
   "pygments_lexer": "ipython3",
   "version": "3.9.12"
  }
 },
 "nbformat": 4,
 "nbformat_minor": 2
}
