{
 "cells": [
  {
   "cell_type": "code",
   "execution_count": 1,
   "metadata": {},
   "outputs": [],
   "source": [
    "from IPython.core.interactiveshell import InteractiveShell\n",
    "\n",
    "InteractiveShell.ast_node_interactivity = \"all\""
   ]
  },
  {
   "cell_type": "markdown",
   "metadata": {},
   "source": [
    "## Generator function\n",
    "\n",
    "Simply put, a generator is a function that returns an object (an iterator) that we can iterate over (one value at a time). Put another way, generator functions generate a sequence of values over time. It is coded with normal `def` statements but use `yield` statements to return results one at a time, suspending and resuming their **state** between each. The **state** that generator functions retain when they are suspended includes both their **code location**, and their entire **local scope**. When called, generator functions don’t return a result--- they return a result generator that can appear in any iteration context. This is because generators use the iterator protocol where the returned iterator's `__next__` method is called via `next`. Some difference between a generator function and a normal function are:\n",
    "\n",
    "* Generator functions contain one or more `yield` statements\n",
    "* When called, generator functions return an object (iterator)\n",
    "* Methods like `__iter__` and `__next__` are implemented automatically for generators, so we can iterate through the items using `next`\n",
    "* Generator functions' local variables retain information between results, making them available when the functions are resumed\n",
    "* Finally, when the function terminates, `StopIteration` is raised automatically on further calls\n",
    "\n",
    "Because generator functions do not construct a result list all at once, they save memory space and allow computation time to be split across result requests. Generator functions ultimately perform their delayed-results magic by implementing the iteration protocol.\n",
    "\n",
    "### The yield\n",
    "\n",
    "The `yield` statement suspends the function and sends a value back to the caller, but retains enough state to enable the function to resume from where it left off. When resumed, the function continues execution immediately **after** the last `yield` run. From the function’s perspective, this allows its code to produce a series of values over time, rather than computing them all at once and sending them back in something like a list. From the caller’s perspective, the generator’s `__next__` method resumes the function and runs until either the next `yield` result is returned or a `StopIteration` is raised."
   ]
  },
  {
   "cell_type": "code",
   "execution_count": 2,
   "metadata": {},
   "outputs": [],
   "source": [
    "# Simple generator function\n",
    "def gensquares(N):\n",
    "    for i in range(N):\n",
    "        yield i**2"
   ]
  },
  {
   "cell_type": "markdown",
   "metadata": {},
   "source": [
    "The generator function above can be used to generate the squares of a series of numbers over time. This function yields a value, and returns to its caller, each time through the loop; when it is resumed, its prior state is restored, including the last values of its variables `i` and `N`, and control picks up again immediately after the `yield` statement."
   ]
  },
  {
   "cell_type": "code",
   "execution_count": 3,
   "metadata": {},
   "outputs": [
    {
     "data": {
      "text/plain": [
       "<generator object gensquares at 0x104b883c0>"
      ]
     },
     "execution_count": 3,
     "metadata": {},
     "output_type": "execute_result"
    },
    {
     "data": {
      "text/plain": [
       "True"
      ]
     },
     "execution_count": 3,
     "metadata": {},
     "output_type": "execute_result"
    }
   ],
   "source": [
    "# Returns an interator\n",
    "gen = gensquares(5)\n",
    "gen\n",
    "# Calling iter() is a no-op since gen is an iterator\n",
    "iter(gen) is gen"
   ]
  },
  {
   "cell_type": "code",
   "execution_count": 4,
   "metadata": {},
   "outputs": [
    {
     "name": "stdout",
     "output_type": "stream",
     "text": [
      "0 : 1 : 4 : 9 : 16 : "
     ]
    }
   ],
   "source": [
    "for i in gensquares(5):\n",
    "    print(i, end=\" : \")"
   ]
  },
  {
   "cell_type": "markdown",
   "metadata": {},
   "source": [
    "When the generator object is used in the body of a `for` loop, the first iteration starts the function and gets its first result; thereafter, control returns to the function after its `yield` statement each time through the loop. To see this, we could step through the iterator manually:"
   ]
  },
  {
   "cell_type": "code",
   "execution_count": 5,
   "metadata": {},
   "outputs": [
    {
     "data": {
      "text/plain": [
       "True"
      ]
     },
     "execution_count": 5,
     "metadata": {},
     "output_type": "execute_result"
    }
   ],
   "source": [
    "# Manually calling next\n",
    "gen = gensquares(3)\n",
    "# No op\n",
    "I = gen.__iter__()\n",
    "I is gen"
   ]
  },
  {
   "cell_type": "code",
   "execution_count": 6,
   "metadata": {},
   "outputs": [
    {
     "data": {
      "text/plain": [
       "0"
      ]
     },
     "execution_count": 6,
     "metadata": {},
     "output_type": "execute_result"
    },
    {
     "data": {
      "text/plain": [
       "1"
      ]
     },
     "execution_count": 6,
     "metadata": {},
     "output_type": "execute_result"
    },
    {
     "data": {
      "text/plain": [
       "4"
      ]
     },
     "execution_count": 6,
     "metadata": {},
     "output_type": "execute_result"
    }
   ],
   "source": [
    "next(I)\n",
    "next(I)\n",
    "next(I)"
   ]
  },
  {
   "cell_type": "code",
   "execution_count": 7,
   "metadata": {},
   "outputs": [
    {
     "data": {
      "text/plain": [
       "StopIteration()"
      ]
     },
     "execution_count": 7,
     "metadata": {},
     "output_type": "execute_result"
    }
   ],
   "source": [
    "try:\n",
    "    next(I)\n",
    "except StopIteration as e:\n",
    "    e"
   ]
  },
  {
   "cell_type": "markdown",
   "metadata": {},
   "source": [
    "As can be seen, `for` loops (and other iteration contexts) work with generators by calling the `__next__` method of the returned iterator (`gen` or `I` in our example) repeatedly, until an exception is caught. For a generator, the effect is to produce yielded values over time. If the object to be iterated over does not support this protocol, for loops instead use the indexing protocol to iterate. The generator function above can be replaced with other iteration tools:"
   ]
  },
  {
   "cell_type": "code",
   "execution_count": 8,
   "metadata": {},
   "outputs": [
    {
     "name": "stdout",
     "output_type": "stream",
     "text": [
      "0 : 1 : 4 : 9 : 16 : "
     ]
    }
   ],
   "source": [
    "# Normal function\n",
    "def buildsqures(N):\n",
    "    container = []\n",
    "    for i in range(N):\n",
    "        container.append(i**2)\n",
    "    return container\n",
    "\n",
    "\n",
    "# Result\n",
    "for i in buildsqures(5):\n",
    "    print(i, end=\" : \")"
   ]
  },
  {
   "cell_type": "code",
   "execution_count": 9,
   "metadata": {},
   "outputs": [
    {
     "name": "stdout",
     "output_type": "stream",
     "text": [
      "0 : 1 : 4 : 9 : 16 : "
     ]
    }
   ],
   "source": [
    "# List comprehension\n",
    "for i in [i**2 for i in range(5)]:\n",
    "    print(i, end=\" : \")"
   ]
  },
  {
   "cell_type": "code",
   "execution_count": 10,
   "metadata": {},
   "outputs": [
    {
     "name": "stdout",
     "output_type": "stream",
     "text": [
      "0 : 1 : 4 : 9 : 16 : "
     ]
    }
   ],
   "source": [
    "# Map\n",
    "for i in map((lambda x: x**2), range(5)):\n",
    "    print(i, end=\" : \")"
   ]
  },
  {
   "cell_type": "markdown",
   "metadata": {},
   "source": [
    "### Send method\n",
    "\n",
    "In Python 2.5, a `send` method was added to the generator function protocol. The `send` method advances to the next item in the series of results, just like `__next__`, but also provides a way for the caller to communicate with the generator, to affect its operation. Technically, `yield` is now an expression form that returns the item passed to `send`, not a statement (though it can be called either way--- as `yield X`, or `A = (yield X)`). The expression must be enclosed in parentheses unless it’s the only item on the right side of the assignment statement. For example, `X = yield Y` is OK , as is `X = (yield Y) + 42`. When this extra protocol is used, values are sent into a generator `G` by calling `G.send(value)`. The generator’s code is then resumed, and the `yield` expression in the generator returns the value passed to `send`. If the regular `G.__next__()` method (or its `next(G)` equivalent) is called to advance, the `yield` simply returns `None`."
   ]
  },
  {
   "cell_type": "code",
   "execution_count": 11,
   "metadata": {},
   "outputs": [],
   "source": [
    "# Generator function\n",
    "def gen():\n",
    "    for i in range(10):\n",
    "        # The name X binds to the yielded value\n",
    "        X = yield i\n",
    "        print(X)"
   ]
  },
  {
   "cell_type": "code",
   "execution_count": 12,
   "metadata": {},
   "outputs": [
    {
     "data": {
      "text/plain": [
       "0"
      ]
     },
     "execution_count": 12,
     "metadata": {},
     "output_type": "execute_result"
    }
   ],
   "source": [
    "G = gen()\n",
    "# Must call next() first, to start generator\n",
    "next(G)"
   ]
  },
  {
   "cell_type": "code",
   "execution_count": 13,
   "metadata": {},
   "outputs": [
    {
     "name": "stdout",
     "output_type": "stream",
     "text": [
      "12\n"
     ]
    },
    {
     "data": {
      "text/plain": [
       "1"
      ]
     },
     "execution_count": 13,
     "metadata": {},
     "output_type": "execute_result"
    },
    {
     "name": "stdout",
     "output_type": "stream",
     "text": [
      "27\n"
     ]
    },
    {
     "data": {
      "text/plain": [
       "2"
      ]
     },
     "execution_count": 13,
     "metadata": {},
     "output_type": "execute_result"
    }
   ],
   "source": [
    "# Advance, and send value to yield expression, which then gets printed\n",
    "# Notice that 'i' is still yielded as the elements of range(10)\n",
    "G.send(12)\n",
    "G.send(27)"
   ]
  },
  {
   "cell_type": "code",
   "execution_count": 14,
   "metadata": {},
   "outputs": [
    {
     "name": "stdout",
     "output_type": "stream",
     "text": [
      "None\n"
     ]
    },
    {
     "data": {
      "text/plain": [
       "3"
      ]
     },
     "execution_count": 14,
     "metadata": {},
     "output_type": "execute_result"
    }
   ],
   "source": [
    "# The next() and X.__next__() sends None\n",
    "next(G)"
   ]
  },
  {
   "cell_type": "markdown",
   "metadata": {},
   "source": [
    "The `send` method can be used, for example, to code a generator that its caller can terminate by sending a termination code, or redirect by passing a new position in data being processed inside the generator.\n",
    "\n",
    "### Other methods\n",
    "\n",
    "In addition, generators in 2.5 and later also support a `throw(type)` method to raise an exception inside the generator at the latest `yield`, and a `close` method that raises a special `GeneratorExit` exception inside the generator to terminate the iteration entirely."
   ]
  },
  {
   "cell_type": "markdown",
   "metadata": {},
   "source": [
    "### Counting spins\n",
    "\n",
    " Assume we have the following list of tuples. We want to know how many red spins separate a black spin, on average. We need a function which will yield the count of gaps as it examines the spins. We can then call this function repeatedly to get the gap information."
   ]
  },
  {
   "cell_type": "code",
   "execution_count": 15,
   "metadata": {},
   "outputs": [],
   "source": [
    "# Initialize spins\n",
    "spins = [\n",
    "    (\"red\", \"18\"),\n",
    "    (\"black\", \"13\"),\n",
    "    (\"red\", \"7\"),\n",
    "    (\"red\", \"5\"),\n",
    "    (\"black\", \"13\"),\n",
    "    (\"red\", \"25\"),\n",
    "    (\"red\", \"9\"),\n",
    "    (\"black\", \"26\"),\n",
    "    (\"black\", \"15\"),\n",
    "    (\"black\", \"20\"),\n",
    "    (\"black\", \"31\"),\n",
    "    (\"red\", \"3\"),\n",
    "]"
   ]
  },
  {
   "cell_type": "code",
   "execution_count": 16,
   "metadata": {},
   "outputs": [],
   "source": [
    "# Generator function\n",
    "def count(spins):\n",
    "    # Initialize red counter\n",
    "    red_count = 0\n",
    "\n",
    "    for index in spins:\n",
    "        # If red, then add one to the counter\n",
    "        if index[0] == \"red\":\n",
    "            red_count += 1\n",
    "        # If black, then yield the number of red counts\n",
    "        elif index[0] == \"black\":\n",
    "            # This first yield returns control (and the value red_count) to the context that called the for loop (which is the function scope of the count function)\n",
    "            yield red_count\n",
    "            # Re-initialize red counter to 0 once a black is reached, each time after the function picks back up after the yield above\n",
    "            red_count = 0\n",
    "    # The second yield statement takes the yielded value from the first yield statement, and yields that value to the caller of the count function\n",
    "    yield red_count"
   ]
  },
  {
   "cell_type": "code",
   "execution_count": 17,
   "metadata": {},
   "outputs": [
    {
     "name": "stdout",
     "output_type": "stream",
     "text": [
      "1, 2, 2, 0, 0, 0, 1, "
     ]
    }
   ],
   "source": [
    "for i in count(spins):\n",
    "    print(i, end=\", \")"
   ]
  },
  {
   "cell_type": "markdown",
   "metadata": {},
   "source": [
    "Code logic:\n",
    "\n",
    "* We initializes `red_count` to count the number of red's before a black is reached in the sequence of tuples. \n",
    "  \n",
    "* Then, we steps through the individual tuples in `spins` in the order presented. For red's, the count is incremented.\n",
    "\n",
    "* Once a black spin is reached, we `yield` the variable `red_count`, which has so far recorded the number of red's before this most recent occurence of black. \n",
    "  \n",
    "*  When we `yield` a result (the second `yield` statement), the generator produces single result value (`red_count`) while saving all the local variables--- `index` and the location of the `yield` statement--- so that it can be continued from this point.\n",
    "\n",
    "* When the function is continued, it resumes right after the first `yield` statement in the `ifelse`: the counter will be reset, and the for loop will advance to examine the next tuple (`index`) in the sequence `spins`.\n",
    "\n",
    "* When the sequence is exhausted, we also `yield` the final count.\n",
    "\n",
    "### Generating an infinite sequence"
   ]
  },
  {
   "cell_type": "code",
   "execution_count": 18,
   "metadata": {},
   "outputs": [],
   "source": [
    "# Infinite sequence\n",
    "def infinite_sequence():\n",
    "    # Initialize first element of the sequence\n",
    "    num = 0\n",
    "    # Infinite loop\n",
    "    while True:\n",
    "        # Yield the element\n",
    "        yield num\n",
    "        # When the function picks back up, increment the element by 1\n",
    "        num += 1"
   ]
  },
  {
   "cell_type": "code",
   "execution_count": 19,
   "metadata": {},
   "outputs": [
    {
     "data": {
      "text/plain": [
       "<generator object infinite_sequence at 0x104bbf270>"
      ]
     },
     "execution_count": 19,
     "metadata": {},
     "output_type": "execute_result"
    },
    {
     "data": {
      "text/plain": [
       "True"
      ]
     },
     "execution_count": 19,
     "metadata": {},
     "output_type": "execute_result"
    }
   ],
   "source": [
    "# Examine\n",
    "gen = infinite_sequence()\n",
    "gen\n",
    "iter(gen) is gen"
   ]
  },
  {
   "cell_type": "code",
   "execution_count": 20,
   "metadata": {},
   "outputs": [
    {
     "data": {
      "text/plain": [
       "0"
      ]
     },
     "execution_count": 20,
     "metadata": {},
     "output_type": "execute_result"
    },
    {
     "data": {
      "text/plain": [
       "1"
      ]
     },
     "execution_count": 20,
     "metadata": {},
     "output_type": "execute_result"
    },
    {
     "data": {
      "text/plain": [
       "2"
      ]
     },
     "execution_count": 20,
     "metadata": {},
     "output_type": "execute_result"
    },
    {
     "data": {
      "text/plain": [
       "3"
      ]
     },
     "execution_count": 20,
     "metadata": {},
     "output_type": "execute_result"
    },
    {
     "data": {
      "text/plain": [
       "4"
      ]
     },
     "execution_count": 20,
     "metadata": {},
     "output_type": "execute_result"
    }
   ],
   "source": [
    "gen.__next__()\n",
    "gen.__next__()\n",
    "gen.__next__()\n",
    "gen.__next__()\n",
    "gen.__next__()"
   ]
  },
  {
   "cell_type": "markdown",
   "metadata": {},
   "source": [
    "### Fibonacci\n",
    "\n",
    "Finding the sum of squares of numbers in the Fibonacci series:"
   ]
  },
  {
   "cell_type": "code",
   "execution_count": 21,
   "metadata": {},
   "outputs": [
    {
     "name": "stdout",
     "output_type": "stream",
     "text": [
      "4895\n"
     ]
    }
   ],
   "source": [
    "def fibonacci_numbers(nums):\n",
    "    # Initialize first two numbers\n",
    "    x, y = 0, 1\n",
    "    for i in range(nums):\n",
    "        # The next becomes the current\n",
    "        # The current plus the next becomes the next\n",
    "        x, y = y, x + y\n",
    "        # Yield the current value to the caller\n",
    "        yield x\n",
    "\n",
    "\n",
    "def square(nums):\n",
    "    # Takes the generator object (iterator) returned by fibonacci_numbers(), and square each of its element in a for loop body\n",
    "    for num in nums:\n",
    "        yield num**2\n",
    "\n",
    "\n",
    "print(sum(square(fibonacci_numbers(10))))"
   ]
  },
  {
   "cell_type": "markdown",
   "metadata": {},
   "source": [
    "Code logic:\n",
    "\n",
    "* The iterator returned by `fibonacci_numbers()` is passed by reference to `square`.\n",
    "\n",
    "* Internally, `square` passes the iterator or generator object returned by `fibonacci_numbers()`, and squares each of its element.\n",
    "\n",
    "* Notice that `square` also returns a generator object, which we passed to `sum`.\n",
    "\n",
    "\n",
    "### Palindrome\n",
    "\n",
    "A palindrome is a word, number, phrase, or other sequence of characters which reads the same backward as forward, such as madam or racecar."
   ]
  },
  {
   "cell_type": "code",
   "execution_count": 22,
   "metadata": {},
   "outputs": [],
   "source": [
    "# Predicate function for checking if an input number is a palindrome\n",
    "def is_palindrome(num):\n",
    "    # If num < 10, then num // 10 == 0 is True\n",
    "    # // is floordivision\n",
    "    if num // 10 == 0:\n",
    "        return False\n",
    "    # Initialize\n",
    "    temp = num\n",
    "    reversed_num = 0\n",
    "\n",
    "    while temp != 0:\n",
    "        # Modulo %\n",
    "        reversed_num = (reversed_num * 10) + (temp % 10)\n",
    "        temp = temp // 10\n",
    "\n",
    "    if num == reversed_num:\n",
    "        return True\n",
    "    else:\n",
    "        return False"
   ]
  },
  {
   "cell_type": "code",
   "execution_count": 23,
   "metadata": {},
   "outputs": [],
   "source": [
    "# Generator function for palindromes\n",
    "def infinite_palindromes():\n",
    "    num = 0\n",
    "    while True:\n",
    "        if is_palindrome(num):\n",
    "            # Yield the value to the context that called the while loop and bind the name 'i' to this value\n",
    "            i = yield num\n",
    "            # After the function resumes, check if i is None\n",
    "            # Essentially, we ask: did the caller send back any value via 'send' or was 'next' used to advance instead\n",
    "            if i is not None:\n",
    "                num = i\n",
    "        # Increment\n",
    "        num += 1"
   ]
  },
  {
   "cell_type": "markdown",
   "metadata": {},
   "source": [
    "Code logic:\n",
    "\n",
    "* We set up the infinite loop with `while`.\n",
    "\n",
    "* As of Python 2.5, `yield` is an expression, rather than a statement. This allows us to manipulate the yielded value, where `i` takes the value that is `yield`ed. This also allows us to `send()` a value back to the generator, so, when execution picks up after `yield`, the variable `i` will take the value that is sent back.\n",
    "\n",
    "* After the function resumes, we check if `i` is not None, which could happen if `next()` is called on the generator object. If `i` has a value (`i is not None == True`), then we update num with the new value `i` that we sent back using the `send()` method. But regardless of whether or not i holds a value, we will increment num and start the loop again."
   ]
  },
  {
   "cell_type": "code",
   "execution_count": 24,
   "metadata": {},
   "outputs": [
    {
     "data": {
      "text/plain": [
       "11"
      ]
     },
     "execution_count": 24,
     "metadata": {},
     "output_type": "execute_result"
    },
    {
     "data": {
      "text/plain": [
       "22"
      ]
     },
     "execution_count": 24,
     "metadata": {},
     "output_type": "execute_result"
    },
    {
     "data": {
      "text/plain": [
       "33"
      ]
     },
     "execution_count": 24,
     "metadata": {},
     "output_type": "execute_result"
    },
    {
     "data": {
      "text/plain": [
       "44"
      ]
     },
     "execution_count": 24,
     "metadata": {},
     "output_type": "execute_result"
    },
    {
     "data": {
      "text/plain": [
       "55"
      ]
     },
     "execution_count": 24,
     "metadata": {},
     "output_type": "execute_result"
    }
   ],
   "source": [
    "# Generator object\n",
    "gen = infinite_palindromes()\n",
    "gen.__next__()\n",
    "gen.__next__()\n",
    "gen.__next__()\n",
    "gen.__next__()\n",
    "gen.__next__()"
   ]
  },
  {
   "cell_type": "code",
   "execution_count": 25,
   "metadata": {},
   "outputs": [
    {
     "data": {
      "text/plain": [
       "101"
      ]
     },
     "execution_count": 25,
     "metadata": {},
     "output_type": "execute_result"
    },
    {
     "data": {
      "text/plain": [
       "1001"
      ]
     },
     "execution_count": 25,
     "metadata": {},
     "output_type": "execute_result"
    },
    {
     "data": {
      "text/plain": [
       "10001"
      ]
     },
     "execution_count": 25,
     "metadata": {},
     "output_type": "execute_result"
    },
    {
     "data": {
      "text/plain": [
       "100001"
      ]
     },
     "execution_count": 25,
     "metadata": {},
     "output_type": "execute_result"
    },
    {
     "data": {
      "text/plain": [
       "1000001"
      ]
     },
     "execution_count": 25,
     "metadata": {},
     "output_type": "execute_result"
    }
   ],
   "source": [
    "for i in gen:\n",
    "    digits = len(str(i))\n",
    "    gen.send(10 ** (digits))\n",
    "    if digits > 5:\n",
    "        break"
   ]
  },
  {
   "cell_type": "markdown",
   "metadata": {},
   "source": [
    "Code logic:\n",
    "\n",
    "* The loop only yields a value once a palindrome is found. It uses len() to determine the number of digits in that palindrome. \n",
    "  \n",
    "* Then, it sends `10 ** digits` to the generator. This brings execution back into the generator logic and binds the name `i` to the object `10 ** digits`. Since `i` now has a value, the program updates num, increments, and checks for palindromes again.\n",
    "\n",
    "* Once the program finds and yields another palindrome, we will iterate via the `for` loop. This is the same as iterating with `next()`. The generator also picks up `i = (yield num)`. If `num` is not a palindrome (`is_palindrome(num) == False`), then `i` is `None`, because the code in the if block will not run and we will not be explicitly sending a value.\n",
    "\n",
    "What we’ve created here is a coroutine, or a generator function into which you can pass data."
   ]
  },
  {
   "cell_type": "code",
   "execution_count": 26,
   "metadata": {},
   "outputs": [
    {
     "name": "stdout",
     "output_type": "stream",
     "text": [
      "11\n"
     ]
    },
    {
     "data": {
      "text/plain": [
       "101"
      ]
     },
     "execution_count": 26,
     "metadata": {},
     "output_type": "execute_result"
    },
    {
     "name": "stdout",
     "output_type": "stream",
     "text": [
      "111\n"
     ]
    },
    {
     "data": {
      "text/plain": [
       "1001"
      ]
     },
     "execution_count": 26,
     "metadata": {},
     "output_type": "execute_result"
    },
    {
     "name": "stdout",
     "output_type": "stream",
     "text": [
      "1111\n"
     ]
    },
    {
     "data": {
      "text/plain": [
       "10001"
      ]
     },
     "execution_count": 26,
     "metadata": {},
     "output_type": "execute_result"
    },
    {
     "name": "stdout",
     "output_type": "stream",
     "text": [
      "10101\n"
     ]
    },
    {
     "ename": "ValueError",
     "evalue": "Error",
     "output_type": "error",
     "traceback": [
      "\u001b[0;31m---------------------------------------------------------------------------\u001b[0m",
      "\u001b[0;31mValueError\u001b[0m                                Traceback (most recent call last)",
      "Cell \u001b[0;32mIn[26], line 8\u001b[0m\n\u001b[1;32m      6\u001b[0m \u001b[38;5;66;03m# Throw an exception if digits gets to 5\u001b[39;00m\n\u001b[1;32m      7\u001b[0m \u001b[38;5;28;01mif\u001b[39;00m digits \u001b[38;5;241m==\u001b[39m \u001b[38;5;241m5\u001b[39m:\n\u001b[0;32m----> 8\u001b[0m     \u001b[43mgen\u001b[49m\u001b[38;5;241;43m.\u001b[39;49m\u001b[43mthrow\u001b[49m\u001b[43m(\u001b[49m\u001b[38;5;167;43;01mValueError\u001b[39;49;00m\u001b[43m(\u001b[49m\u001b[38;5;124;43m\"\u001b[39;49m\u001b[38;5;124;43mError\u001b[39;49m\u001b[38;5;124;43m\"\u001b[39;49m\u001b[43m)\u001b[49m\u001b[43m)\u001b[49m\n\u001b[1;32m      9\u001b[0m gen\u001b[38;5;241m.\u001b[39msend(\u001b[38;5;241m10\u001b[39m \u001b[38;5;241m*\u001b[39m\u001b[38;5;241m*\u001b[39m (digits))\n",
      "Cell \u001b[0;32mIn[23], line 7\u001b[0m, in \u001b[0;36minfinite_palindromes\u001b[0;34m()\u001b[0m\n\u001b[1;32m      4\u001b[0m \u001b[38;5;28;01mwhile\u001b[39;00m \u001b[38;5;28;01mTrue\u001b[39;00m:\n\u001b[1;32m      5\u001b[0m     \u001b[38;5;28;01mif\u001b[39;00m is_palindrome(num):\n\u001b[1;32m      6\u001b[0m         \u001b[38;5;66;03m# Yield the value to the context that called the while loop and bind the name 'i' to this value\u001b[39;00m\n\u001b[0;32m----> 7\u001b[0m         i \u001b[38;5;241m=\u001b[39m (\u001b[38;5;28;01myield\u001b[39;00m num)\n\u001b[1;32m      8\u001b[0m         \u001b[38;5;66;03m# After the function resumes, check if i is None\u001b[39;00m\n\u001b[1;32m      9\u001b[0m         \u001b[38;5;66;03m# Essentially, we ask: did the caller send back any value via 'send' or was 'next' used to advance instead\u001b[39;00m\n\u001b[1;32m     10\u001b[0m         \u001b[38;5;28;01mif\u001b[39;00m i \u001b[38;5;129;01mis\u001b[39;00m \u001b[38;5;129;01mnot\u001b[39;00m \u001b[38;5;28;01mNone\u001b[39;00m:\n",
      "\u001b[0;31mValueError\u001b[0m: Error"
     ]
    }
   ],
   "source": [
    "# Using the throw method\n",
    "gen = infinite_palindromes()\n",
    "for i in gen:\n",
    "    print(i)\n",
    "    digits = len(str(i))\n",
    "    # Throw an exception if digits gets to 5\n",
    "    if digits == 5:\n",
    "        gen.throw(ValueError(\"Error\"))\n",
    "    gen.send(10 ** (digits))"
   ]
  },
  {
   "cell_type": "code",
   "execution_count": 27,
   "metadata": {},
   "outputs": [
    {
     "name": "stdout",
     "output_type": "stream",
     "text": [
      "11\n"
     ]
    },
    {
     "data": {
      "text/plain": [
       "101"
      ]
     },
     "execution_count": 27,
     "metadata": {},
     "output_type": "execute_result"
    },
    {
     "name": "stdout",
     "output_type": "stream",
     "text": [
      "111\n"
     ]
    },
    {
     "data": {
      "text/plain": [
       "1001"
      ]
     },
     "execution_count": 27,
     "metadata": {},
     "output_type": "execute_result"
    },
    {
     "name": "stdout",
     "output_type": "stream",
     "text": [
      "1111\n"
     ]
    },
    {
     "data": {
      "text/plain": [
       "10001"
      ]
     },
     "execution_count": 27,
     "metadata": {},
     "output_type": "execute_result"
    },
    {
     "name": "stdout",
     "output_type": "stream",
     "text": [
      "10101\n"
     ]
    },
    {
     "ename": "StopIteration",
     "evalue": "",
     "output_type": "error",
     "traceback": [
      "\u001b[0;31m---------------------------------------------------------------------------\u001b[0m",
      "\u001b[0;31mStopIteration\u001b[0m                             Traceback (most recent call last)",
      "Cell \u001b[0;32mIn[27], line 8\u001b[0m\n\u001b[1;32m      6\u001b[0m \u001b[38;5;28;01mif\u001b[39;00m digits \u001b[38;5;241m==\u001b[39m \u001b[38;5;241m5\u001b[39m:\n\u001b[1;32m      7\u001b[0m     gen\u001b[38;5;241m.\u001b[39mclose()\n\u001b[0;32m----> 8\u001b[0m \u001b[43mgen\u001b[49m\u001b[38;5;241;43m.\u001b[39;49m\u001b[43msend\u001b[49m\u001b[43m(\u001b[49m\u001b[38;5;241;43m10\u001b[39;49m\u001b[43m \u001b[49m\u001b[38;5;241;43m*\u001b[39;49m\u001b[38;5;241;43m*\u001b[39;49m\u001b[43m \u001b[49m\u001b[43m(\u001b[49m\u001b[43mdigits\u001b[49m\u001b[43m)\u001b[49m\u001b[43m)\u001b[49m\n",
      "\u001b[0;31mStopIteration\u001b[0m: "
     ]
    }
   ],
   "source": [
    "# Using close\n",
    "gen = infinite_palindromes()\n",
    "for i in gen:\n",
    "    print(i)\n",
    "    digits = len(str(i))\n",
    "    if digits == 5:\n",
    "        gen.close()\n",
    "    gen.send(10 ** (digits))"
   ]
  }
 ],
 "metadata": {
  "interpreter": {
   "hash": "aa9b2e6bdcb8968c6d10db2e0d5683f090ebf92f3ed72dc81de49ae715e3557f"
  },
  "kernelspec": {
   "display_name": "Python 3.9.12 ('python_automation')",
   "language": "python",
   "name": "python3"
  },
  "language_info": {
   "codemirror_mode": {
    "name": "ipython",
    "version": 3
   },
   "file_extension": ".py",
   "mimetype": "text/x-python",
   "name": "python",
   "nbconvert_exporter": "python",
   "pygments_lexer": "ipython3",
   "version": "3.9.12"
  },
  "orig_nbformat": 4
 },
 "nbformat": 4,
 "nbformat_minor": 2
}
