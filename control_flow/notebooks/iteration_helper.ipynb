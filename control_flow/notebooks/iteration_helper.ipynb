{
 "cells": [
  {
   "cell_type": "code",
   "execution_count": 1,
   "id": "a4c9d025-b2f4-4e02-b427-683aa52ebdeb",
   "metadata": {
    "execution": {
     "iopub.execute_input": "2022-01-16T04:55:42.542652Z",
     "iopub.status.busy": "2022-01-16T04:55:42.542334Z",
     "iopub.status.idle": "2022-01-16T04:55:42.547102Z",
     "shell.execute_reply": "2022-01-16T04:55:42.545835Z",
     "shell.execute_reply.started": "2022-01-16T04:55:42.542617Z"
    },
    "tags": []
   },
   "outputs": [],
   "source": [
    "from IPython.core.interactiveshell import InteractiveShell\n",
    "\n",
    "InteractiveShell.ast_node_interactivity = \"all\""
   ]
  },
  {
   "cell_type": "markdown",
   "id": "a4a46411-9620-422d-9654-2dfee8e3a4b1",
   "metadata": {},
   "source": [
    "## Built-in Iteration Helper Functions\n",
    "\n",
    "## The range function\n",
    "\n",
    "In Python 3.X, `range` is an iterable that generates items **on demand**, so we need to wrap it in a list call to display its results all at once:"
   ]
  },
  {
   "cell_type": "code",
   "execution_count": 2,
   "id": "6224fbf0-b54b-497b-8b69-e6831028a9aa",
   "metadata": {
    "execution": {
     "iopub.execute_input": "2022-01-16T04:05:40.141227Z",
     "iopub.status.busy": "2022-01-16T04:05:40.140963Z",
     "iopub.status.idle": "2022-01-16T04:05:40.147025Z",
     "shell.execute_reply": "2022-01-16T04:05:40.146310Z",
     "shell.execute_reply.started": "2022-01-16T04:05:40.141200Z"
    },
    "tags": []
   },
   "outputs": [
    {
     "data": {
      "text/plain": [
       "(range(0, 5), range(2, 5), range(0, 10, 2))"
      ]
     },
     "execution_count": 2,
     "metadata": {},
     "output_type": "execute_result"
    }
   ],
   "source": [
    "# Not wrapped\n",
    "range(5), range(2, 5), range(0, 10, 2)"
   ]
  },
  {
   "cell_type": "code",
   "execution_count": 3,
   "id": "08d249bd-0be3-481b-bc1d-7e1aca8bedb8",
   "metadata": {
    "execution": {
     "iopub.execute_input": "2022-01-16T04:05:45.340995Z",
     "iopub.status.busy": "2022-01-16T04:05:45.340666Z",
     "iopub.status.idle": "2022-01-16T04:05:45.348133Z",
     "shell.execute_reply": "2022-01-16T04:05:45.347365Z",
     "shell.execute_reply.started": "2022-01-16T04:05:45.340961Z"
    },
    "tags": []
   },
   "outputs": [
    {
     "data": {
      "text/plain": [
       "([0, 1, 2, 3, 4], [2, 3, 4], [0, 2, 4, 6, 8])"
      ]
     },
     "execution_count": 3,
     "metadata": {},
     "output_type": "execute_result"
    }
   ],
   "source": [
    "# Wrapped\n",
    "list(range(5)), list(range(2, 5)), list(range(0, 10, 2))"
   ]
  },
  {
   "cell_type": "markdown",
   "id": "79e2fe54-8946-43df-bb3f-55187f99a428",
   "metadata": {},
   "source": [
    "With one argument, `range` generates a list of integers from zero up to but not including the argument’s value. If passed two arguments, the first is taken as the lower bound. An optional third argument can give a `step`; if it is used, Python adds the `step` to each successive integer in the result (the step defaults to +1). Ranges can also be nonpositive and nonascending:"
   ]
  },
  {
   "cell_type": "code",
   "execution_count": 4,
   "id": "f98f7910-9aac-4fbd-811d-3824c534ab64",
   "metadata": {
    "execution": {
     "iopub.execute_input": "2022-01-16T04:07:28.609719Z",
     "iopub.status.busy": "2022-01-16T04:07:28.609391Z",
     "iopub.status.idle": "2022-01-16T04:07:28.616505Z",
     "shell.execute_reply": "2022-01-16T04:07:28.615840Z",
     "shell.execute_reply.started": "2022-01-16T04:07:28.609689Z"
    },
    "tags": []
   },
   "outputs": [
    {
     "data": {
      "text/plain": [
       "[0, 1, 2, 3, 4]"
      ]
     },
     "execution_count": 4,
     "metadata": {},
     "output_type": "execute_result"
    }
   ],
   "source": [
    "# With one argument\n",
    "list(range(5))"
   ]
  },
  {
   "cell_type": "code",
   "execution_count": 5,
   "id": "ea570341-916d-4018-8155-a5a3b1fc5f85",
   "metadata": {
    "execution": {
     "iopub.execute_input": "2022-01-16T04:07:54.616494Z",
     "iopub.status.busy": "2022-01-16T04:07:54.616031Z",
     "iopub.status.idle": "2022-01-16T04:07:54.623013Z",
     "shell.execute_reply": "2022-01-16T04:07:54.622122Z",
     "shell.execute_reply.started": "2022-01-16T04:07:54.616460Z"
    },
    "tags": []
   },
   "outputs": [
    {
     "data": {
      "text/plain": [
       "[0, 5, 10, 15]"
      ]
     },
     "execution_count": 5,
     "metadata": {},
     "output_type": "execute_result"
    }
   ],
   "source": [
    "# With step\n",
    "list(range(0, 20, 5))"
   ]
  },
  {
   "cell_type": "code",
   "execution_count": 6,
   "id": "d29f08fa-3b50-4c8b-8aae-8cc363444843",
   "metadata": {
    "execution": {
     "iopub.execute_input": "2022-01-16T04:08:19.212667Z",
     "iopub.status.busy": "2022-01-16T04:08:19.212268Z",
     "iopub.status.idle": "2022-01-16T04:08:19.220201Z",
     "shell.execute_reply": "2022-01-16T04:08:19.218965Z",
     "shell.execute_reply.started": "2022-01-16T04:08:19.212608Z"
    },
    "tags": []
   },
   "outputs": [
    {
     "data": {
      "text/plain": [
       "[-10, -3, 4, 11, 18]"
      ]
     },
     "execution_count": 6,
     "metadata": {},
     "output_type": "execute_result"
    }
   ],
   "source": [
    "# Negative\n",
    "list(range(-10, 20, 7))"
   ]
  },
  {
   "cell_type": "code",
   "execution_count": 7,
   "id": "055232f5-6156-48d6-ab1a-7d846653fc37",
   "metadata": {
    "execution": {
     "iopub.execute_input": "2022-01-16T04:09:17.500068Z",
     "iopub.status.busy": "2022-01-16T04:09:17.499605Z",
     "iopub.status.idle": "2022-01-16T04:09:17.507311Z",
     "shell.execute_reply": "2022-01-16T04:09:17.506203Z",
     "shell.execute_reply.started": "2022-01-16T04:09:17.500033Z"
    },
    "tags": []
   },
   "outputs": [
    {
     "data": {
      "text/plain": [
       "[30, 27, 24, 21, 18, 15, 12]"
      ]
     },
     "execution_count": 7,
     "metadata": {},
     "output_type": "execute_result"
    }
   ],
   "source": [
    "# Reverse step (move from right to left)\n",
    "list(range(30, 10, -3))"
   ]
  },
  {
   "cell_type": "markdown",
   "id": "07839b7b-9420-4b26-8d78-9e77fa9f5675",
   "metadata": {},
   "source": [
    "For loops force the results of `range` automatically in Python 3, and so there is no need to call `list()`:"
   ]
  },
  {
   "cell_type": "code",
   "execution_count": 8,
   "id": "c8593190-375c-47b2-ade3-32904de1ac8d",
   "metadata": {
    "execution": {
     "iopub.execute_input": "2022-01-16T04:10:57.994992Z",
     "iopub.status.busy": "2022-01-16T04:10:57.994729Z",
     "iopub.status.idle": "2022-01-16T04:10:57.999166Z",
     "shell.execute_reply": "2022-01-16T04:10:57.998358Z",
     "shell.execute_reply.started": "2022-01-16T04:10:57.994965Z"
    },
    "tags": []
   },
   "outputs": [
    {
     "name": "stdout",
     "output_type": "stream",
     "text": [
      "0\n",
      "1\n",
      "2\n",
      "3\n",
      "4\n"
     ]
    }
   ],
   "source": [
    "for i in range(5):\n",
    "    print(i)"
   ]
  },
  {
   "cell_type": "markdown",
   "id": "6ac63e81-07f0-4f43-92e0-79ec30b755a3",
   "metadata": {
    "execution": {
     "iopub.execute_input": "2022-01-16T04:17:38.649367Z",
     "iopub.status.busy": "2022-01-16T04:17:38.649044Z",
     "iopub.status.idle": "2022-01-16T04:17:38.655171Z",
     "shell.execute_reply": "2022-01-16T04:17:38.653536Z",
     "shell.execute_reply.started": "2022-01-16T04:17:38.649332Z"
    },
    "tags": []
   },
   "source": [
    "### Sequence Shufflers: range and len\n",
    "\n",
    "The `range` function, when used in iteration context, allows for stepping over a list of offsets into a sequence to be iterated over, not the actual items of this sequence (the integer index is used to slice the string rather than the variable `i`). For instance, the range’s integers provide a repeat count in the following reordering example:"
   ]
  },
  {
   "cell_type": "code",
   "execution_count": 9,
   "id": "a9539c82-33d9-4752-b06d-d17e55009053",
   "metadata": {
    "execution": {
     "iopub.execute_input": "2022-01-16T04:27:24.789209Z",
     "iopub.status.busy": "2022-01-16T04:27:24.788949Z",
     "iopub.status.idle": "2022-01-16T04:27:24.793620Z",
     "shell.execute_reply": "2022-01-16T04:27:24.792982Z",
     "shell.execute_reply.started": "2022-01-16T04:27:24.789181Z"
    },
    "tags": []
   },
   "outputs": [
    {
     "name": "stdout",
     "output_type": "stream",
     "text": [
      "angy ngya gyan yang "
     ]
    }
   ],
   "source": [
    "S = \"yang\"\n",
    "for i in range(len(S)):\n",
    "    # On each count from 0 to 3, take a slice from the second character of S and another slice of its 0th (first character), then combine them\n",
    "    # This effectively moves the first character of S to the last\n",
    "    S = S[1:] + S[:1]\n",
    "    print(S, end=\" \")"
   ]
  },
  {
   "cell_type": "markdown",
   "id": "00e86661-bfbe-4c0b-9d21-bccdabe14e8f",
   "metadata": {},
   "source": [
    "Note that this operator changes the original variable S, and this can be seen if we stop the count before we step thru the full `len` of S:"
   ]
  },
  {
   "cell_type": "code",
   "execution_count": 10,
   "id": "e71fb44b-af71-46e1-bf6f-3fa09798c714",
   "metadata": {
    "execution": {
     "iopub.execute_input": "2022-01-16T04:28:56.264190Z",
     "iopub.status.busy": "2022-01-16T04:28:56.263935Z",
     "iopub.status.idle": "2022-01-16T04:28:56.268208Z",
     "shell.execute_reply": "2022-01-16T04:28:56.267607Z",
     "shell.execute_reply.started": "2022-01-16T04:28:56.264165Z"
    },
    "tags": []
   },
   "outputs": [
    {
     "name": "stdout",
     "output_type": "stream",
     "text": [
      "angy ngya "
     ]
    }
   ],
   "source": [
    "for i in range(2):\n",
    "    # On each count from 0 to 3, take a slice from the second character of S and another slice of its 0th (first character), then combine them\n",
    "    # This effectively moves the first character of S to the last\n",
    "    S = S[1:] + S[:1]\n",
    "    print(S, end=\" \")"
   ]
  },
  {
   "cell_type": "code",
   "execution_count": 11,
   "id": "77401080-79f7-4994-adee-92ba3009f2ba",
   "metadata": {
    "execution": {
     "iopub.execute_input": "2022-01-16T04:29:09.666966Z",
     "iopub.status.busy": "2022-01-16T04:29:09.666370Z",
     "iopub.status.idle": "2022-01-16T04:29:09.672421Z",
     "shell.execute_reply": "2022-01-16T04:29:09.671664Z",
     "shell.execute_reply.started": "2022-01-16T04:29:09.666922Z"
    },
    "tags": []
   },
   "outputs": [
    {
     "data": {
      "text/plain": [
       "'ngya'"
      ]
     },
     "execution_count": 11,
     "metadata": {},
     "output_type": "execute_result"
    }
   ],
   "source": [
    "# Now S is a different string\n",
    "S"
   ]
  },
  {
   "cell_type": "markdown",
   "id": "b4201377-6154-4d63-bb72-373c101cb2eb",
   "metadata": {},
   "source": [
    "This is because for loop statements never localize their variables to the statement block in any Python. Therefore, the name 'S' is bound to a new string object at each iteration (even though strings are immutable). The original string objects' reference counts would reach zero and they are garbage collected. Used another way, the range function can act as a position offset (now the variable `i` is used to slice the string):"
   ]
  },
  {
   "cell_type": "code",
   "execution_count": 12,
   "id": "40715f28-c9a3-4692-8e7e-1ed36c6eb852",
   "metadata": {
    "execution": {
     "iopub.execute_input": "2022-01-16T04:29:24.615998Z",
     "iopub.status.busy": "2022-01-16T04:29:24.615736Z",
     "iopub.status.idle": "2022-01-16T04:29:24.620351Z",
     "shell.execute_reply": "2022-01-16T04:29:24.619677Z",
     "shell.execute_reply.started": "2022-01-16T04:29:24.615970Z"
    },
    "tags": []
   },
   "outputs": [
    {
     "name": "stdout",
     "output_type": "stream",
     "text": [
      "string trings ingstr string ngstri ingstr "
     ]
    }
   ],
   "source": [
    "X = \"string\"\n",
    "for i in range(len(X)):\n",
    "    X = X[i:] + X[:i]\n",
    "    print(X, end=\" \")"
   ]
  },
  {
   "cell_type": "markdown",
   "id": "e7c361a3",
   "metadata": {},
   "source": [
    "Notice that the name 'X' is again bound to a new object."
   ]
  },
  {
   "cell_type": "code",
   "execution_count": 13,
   "id": "e9d4c5bd",
   "metadata": {},
   "outputs": [
    {
     "data": {
      "text/plain": [
       "'ingstr'"
      ]
     },
     "execution_count": 13,
     "metadata": {},
     "output_type": "execute_result"
    }
   ],
   "source": [
    "X"
   ]
  },
  {
   "cell_type": "markdown",
   "id": "d9d43a30-3357-4dcf-bb9c-08143fac5c6f",
   "metadata": {},
   "source": [
    "### Nonexhaustive Traversals: range Versus Slices\n",
    "\n",
    "The range function may be used in `for` loop contexts to skip elements:"
   ]
  },
  {
   "cell_type": "code",
   "execution_count": 14,
   "id": "de609a37-8ccd-43d8-90c7-64a84ed24cc6",
   "metadata": {
    "execution": {
     "iopub.execute_input": "2022-01-16T04:35:58.522759Z",
     "iopub.status.busy": "2022-01-16T04:35:58.522497Z",
     "iopub.status.idle": "2022-01-16T04:35:58.527473Z",
     "shell.execute_reply": "2022-01-16T04:35:58.526500Z",
     "shell.execute_reply.started": "2022-01-16T04:35:58.522731Z"
    },
    "tags": []
   },
   "outputs": [
    {
     "name": "stdout",
     "output_type": "stream",
     "text": [
      "a e i m q u y "
     ]
    }
   ],
   "source": [
    "import string\n",
    "\n",
    "s = string.ascii_lowercase\n",
    "# We visit every fourth element using the integer offset generated by range\n",
    "for i in range(0, len(s), 4):\n",
    "    print(s[i], end=\" \")"
   ]
  },
  {
   "cell_type": "markdown",
   "id": "38cf5945-94ef-4236-9c8b-2b20e5f502dc",
   "metadata": {},
   "source": [
    "This can be achieved through slicing, which is better practice. The potential advantage to using range here instead is space: slicing makes a copy of the string in both 2.X and 3.X, while range in 3.X and xrange in 2.X do not create a list; for very large strings, they may save memory."
   ]
  },
  {
   "cell_type": "code",
   "execution_count": 15,
   "id": "4f3c3882-0a80-4d9d-9fde-ee0210607d6a",
   "metadata": {
    "execution": {
     "iopub.execute_input": "2022-01-16T04:39:14.088657Z",
     "iopub.status.busy": "2022-01-16T04:39:14.088335Z",
     "iopub.status.idle": "2022-01-16T04:39:14.093192Z",
     "shell.execute_reply": "2022-01-16T04:39:14.092630Z",
     "shell.execute_reply.started": "2022-01-16T04:39:14.088626Z"
    },
    "tags": []
   },
   "outputs": [
    {
     "name": "stdout",
     "output_type": "stream",
     "text": [
      "a e i m q u y "
     ]
    }
   ],
   "source": [
    "# We actually iterate through the iterable string s[::4]\n",
    "for letter in s[::4]:\n",
    "    print(letter, end=\" \")"
   ]
  },
  {
   "cell_type": "markdown",
   "id": "bbcbc959-01a0-432b-a837-dcfad2aa71f8",
   "metadata": {},
   "source": [
    "### Changing Lists: range Versus Comprehensions\n",
    "\n",
    "A simple `for` cannot change each element of a sequence, since the iteration protocal simply calls the `iter` method on the iterable, which returns the iterator, whose `next` method is called. The original sequence iterated over is not updated as in the following case:"
   ]
  },
  {
   "cell_type": "code",
   "execution_count": 16,
   "id": "1133ab80-94fd-47cc-9d47-6c9f601d33fa",
   "metadata": {
    "execution": {
     "iopub.execute_input": "2022-01-16T04:59:56.867554Z",
     "iopub.status.busy": "2022-01-16T04:59:56.867081Z",
     "iopub.status.idle": "2022-01-16T04:59:56.871060Z",
     "shell.execute_reply": "2022-01-16T04:59:56.870152Z",
     "shell.execute_reply.started": "2022-01-16T04:59:56.867525Z"
    },
    "tags": []
   },
   "outputs": [],
   "source": [
    "l = [1, 2, 3, 4]\n",
    "for num in l:\n",
    "    num += 1"
   ]
  },
  {
   "cell_type": "markdown",
   "id": "b0ecb589-bf7e-4ccd-b2a7-23a5a3c0282f",
   "metadata": {},
   "source": [
    "Even though `num` is updated (it refers to the element each call of `next` pulls out), the list is not updated:"
   ]
  },
  {
   "cell_type": "code",
   "execution_count": 17,
   "id": "ee542a33-b623-45da-be0b-0cac5f399aa1",
   "metadata": {
    "execution": {
     "iopub.execute_input": "2022-01-16T04:59:57.863307Z",
     "iopub.status.busy": "2022-01-16T04:59:57.862986Z",
     "iopub.status.idle": "2022-01-16T04:59:57.868407Z",
     "shell.execute_reply": "2022-01-16T04:59:57.867886Z",
     "shell.execute_reply.started": "2022-01-16T04:59:57.863283Z"
    },
    "tags": []
   },
   "outputs": [
    {
     "data": {
      "text/plain": [
       "5"
      ]
     },
     "execution_count": 17,
     "metadata": {},
     "output_type": "execute_result"
    },
    {
     "data": {
      "text/plain": [
       "[1, 2, 3, 4]"
      ]
     },
     "execution_count": 17,
     "metadata": {},
     "output_type": "execute_result"
    }
   ],
   "source": [
    "num\n",
    "l"
   ]
  },
  {
   "cell_type": "markdown",
   "id": "c806f85f-9834-4b71-b517-4828798a2b81",
   "metadata": {},
   "source": [
    "To update the list, we must use integer offset or indexes so we can assign an updated value to each position as we traverse the sequence. This loop iterates through list positions, not the actual items:"
   ]
  },
  {
   "cell_type": "code",
   "execution_count": 18,
   "id": "ebc08c72-e923-4dbe-9a0e-addfd85f2469",
   "metadata": {
    "execution": {
     "iopub.execute_input": "2022-01-16T04:59:59.143439Z",
     "iopub.status.busy": "2022-01-16T04:59:59.143170Z",
     "iopub.status.idle": "2022-01-16T04:59:59.147993Z",
     "shell.execute_reply": "2022-01-16T04:59:59.147255Z",
     "shell.execute_reply.started": "2022-01-16T04:59:59.143415Z"
    },
    "tags": []
   },
   "outputs": [
    {
     "data": {
      "text/plain": [
       "[2, 3, 4, 5]"
      ]
     },
     "execution_count": 18,
     "metadata": {},
     "output_type": "execute_result"
    }
   ],
   "source": [
    "for i in range(len(l)):\n",
    "    l[i] += 1\n",
    "l"
   ]
  },
  {
   "cell_type": "markdown",
   "id": "3855ab9a-bb7b-4af7-aa55-3cbde0a12426",
   "metadata": {},
   "source": [
    "With a `while` loop, this can be accomplished as follows:"
   ]
  },
  {
   "cell_type": "code",
   "execution_count": 19,
   "id": "fd2f73c8-6dc6-492c-bd2a-2d3ad50ee667",
   "metadata": {
    "execution": {
     "iopub.execute_input": "2022-01-16T05:00:00.642147Z",
     "iopub.status.busy": "2022-01-16T05:00:00.641903Z",
     "iopub.status.idle": "2022-01-16T05:00:00.646657Z",
     "shell.execute_reply": "2022-01-16T05:00:00.645929Z",
     "shell.execute_reply.started": "2022-01-16T05:00:00.642123Z"
    },
    "tags": []
   },
   "outputs": [
    {
     "data": {
      "text/plain": [
       "[3, 4, 5, 6]"
      ]
     },
     "execution_count": 19,
     "metadata": {},
     "output_type": "execute_result"
    }
   ],
   "source": [
    "i = 0\n",
    "while i < len(l):\n",
    "    l[i] += 1\n",
    "    i += 1\n",
    "l"
   ]
  },
  {
   "cell_type": "markdown",
   "id": "48cb36e2-ff8b-4bf1-aec1-8b7c9a086436",
   "metadata": {},
   "source": [
    "A list comprehension solution:"
   ]
  },
  {
   "cell_type": "code",
   "execution_count": 20,
   "id": "aed6ba39-4b71-4e19-a648-4088bd64cfff",
   "metadata": {
    "execution": {
     "iopub.execute_input": "2022-01-16T05:00:57.118951Z",
     "iopub.status.busy": "2022-01-16T05:00:57.118620Z",
     "iopub.status.idle": "2022-01-16T05:00:57.124016Z",
     "shell.execute_reply": "2022-01-16T05:00:57.123198Z",
     "shell.execute_reply.started": "2022-01-16T05:00:57.118918Z"
    },
    "tags": []
   },
   "outputs": [
    {
     "data": {
      "text/plain": [
       "[4, 5, 6, 7]"
      ]
     },
     "execution_count": 20,
     "metadata": {},
     "output_type": "execute_result"
    }
   ],
   "source": [
    "[i + 1 for i in l]"
   ]
  },
  {
   "cell_type": "markdown",
   "id": "5facf210-24f0-4d74-a372-8663ed589709",
   "metadata": {},
   "source": [
    "Note that a list comprehension creates a new list rather than modifies the original list in place."
   ]
  },
  {
   "cell_type": "markdown",
   "id": "fec0107d-33e2-4c8f-b678-231bde343551",
   "metadata": {
    "execution": {
     "iopub.execute_input": "2022-01-16T05:01:34.760740Z",
     "iopub.status.busy": "2022-01-16T05:01:34.760424Z",
     "iopub.status.idle": "2022-01-16T05:01:34.764664Z",
     "shell.execute_reply": "2022-01-16T05:01:34.763426Z",
     "shell.execute_reply.started": "2022-01-16T05:01:34.760705Z"
    },
    "tags": []
   },
   "source": [
    "## Parallel Traversals: zip"
   ]
  },
  {
   "cell_type": "markdown",
   "id": "086a4d93-b7f4-4735-830e-81aefe172209",
   "metadata": {},
   "source": [
    "The `zip` function allows us to use for loops to visit multiple sequences in parallel. In Python 3, `zip` is an iterable object where we must call list to display its results. The `zip` function takes one or more sequences as arguments and returns a series of tuples that pair up parallel items taken from those sequences."
   ]
  },
  {
   "cell_type": "code",
   "execution_count": 21,
   "id": "b0717101-3483-4c18-a934-f6df9ec48c32",
   "metadata": {
    "execution": {
     "iopub.execute_input": "2022-01-16T05:16:40.113326Z",
     "iopub.status.busy": "2022-01-16T05:16:40.112993Z",
     "iopub.status.idle": "2022-01-16T05:16:40.118185Z",
     "shell.execute_reply": "2022-01-16T05:16:40.117380Z",
     "shell.execute_reply.started": "2022-01-16T05:16:40.113293Z"
    },
    "tags": []
   },
   "outputs": [
    {
     "data": {
      "text/plain": [
       "True"
      ]
     },
     "execution_count": 21,
     "metadata": {},
     "output_type": "execute_result"
    }
   ],
   "source": [
    "import inspect\n",
    "\n",
    "inspect.isclass(zip)"
   ]
  },
  {
   "cell_type": "code",
   "execution_count": 22,
   "id": "ba52e5e0-f5d5-411d-880a-3c47a417aa1e",
   "metadata": {
    "execution": {
     "iopub.execute_input": "2022-01-16T05:13:23.442515Z",
     "iopub.status.busy": "2022-01-16T05:13:23.442258Z",
     "iopub.status.idle": "2022-01-16T05:13:23.449332Z",
     "shell.execute_reply": "2022-01-16T05:13:23.448448Z",
     "shell.execute_reply.started": "2022-01-16T05:13:23.442486Z"
    },
    "tags": []
   },
   "outputs": [
    {
     "data": {
      "text/plain": [
       "<zip at 0x10fad83c0>"
      ]
     },
     "execution_count": 22,
     "metadata": {},
     "output_type": "execute_result"
    },
    {
     "data": {
      "text/plain": [
       "[(1, 'a'), (2, 'b'), (3, 'c'), (4, 'd'), (5, 'e')]"
      ]
     },
     "execution_count": 22,
     "metadata": {},
     "output_type": "execute_result"
    }
   ],
   "source": [
    "l1 = [1, 2, 3, 4, 5]\n",
    "l2 = [\"a\", \"b\", \"c\", \"d\", \"e\"]\n",
    "zip(l1, l2)\n",
    "list(zip(l1, l2))"
   ]
  },
  {
   "cell_type": "code",
   "execution_count": 23,
   "id": "2c537af8-09fa-48e6-97bb-16a152febf10",
   "metadata": {
    "execution": {
     "iopub.execute_input": "2022-01-16T05:20:44.774001Z",
     "iopub.status.busy": "2022-01-16T05:20:44.773723Z",
     "iopub.status.idle": "2022-01-16T05:20:44.779040Z",
     "shell.execute_reply": "2022-01-16T05:20:44.778178Z",
     "shell.execute_reply.started": "2022-01-16T05:20:44.773968Z"
    },
    "tags": []
   },
   "outputs": [
    {
     "name": "stdout",
     "output_type": "stream",
     "text": [
      "The letter a has position 1 in the alphabet\n",
      "The letter b has position 2 in the alphabet\n",
      "The letter c has position 3 in the alphabet\n",
      "The letter d has position 4 in the alphabet\n",
      "The letter e has position 5 in the alphabet\n"
     ]
    }
   ],
   "source": [
    "for x, y in zip(l1, l2):\n",
    "    print(\"The letter\", y, \"has position\", x, \"in the alphabet\")"
   ]
  },
  {
   "cell_type": "markdown",
   "id": "b351c94e-351d-4614-a80f-df3da1573fbb",
   "metadata": {},
   "source": [
    "The built-in `zip` function truncates result tuples at the length of the shortest sequence when the argument lengths differ:"
   ]
  },
  {
   "cell_type": "code",
   "execution_count": 24,
   "id": "a768bfb5-9e7d-4422-8a6c-42d5cb8d9fa3",
   "metadata": {
    "execution": {
     "iopub.execute_input": "2022-01-16T05:32:09.952978Z",
     "iopub.status.busy": "2022-01-16T05:32:09.952611Z",
     "iopub.status.idle": "2022-01-16T05:32:09.958364Z",
     "shell.execute_reply": "2022-01-16T05:32:09.957486Z",
     "shell.execute_reply.started": "2022-01-16T05:32:09.952952Z"
    },
    "tags": []
   },
   "outputs": [
    {
     "name": "stdout",
     "output_type": "stream",
     "text": [
      "['a', 'b', 'c', 'd', 'e']\n",
      "(1, 2, 3)\n"
     ]
    },
    {
     "data": {
      "text/plain": [
       "[(1, 'a'), (2, 'b'), (3, 'c')]"
      ]
     },
     "execution_count": 24,
     "metadata": {},
     "output_type": "execute_result"
    }
   ],
   "source": [
    "print(l2)\n",
    "t3 = (1, 2, 3)\n",
    "print(t3)\n",
    "list(zip(t3, l2))"
   ]
  },
  {
   "cell_type": "markdown",
   "id": "7cbeaf19-09d2-45c1-8f71-464a967fb4df",
   "metadata": {},
   "source": [
    "To achieve the opposite, use `itertools.zip_longest(*iterables, fillvalue=None)`. If the iterables are of uneven length, missing values are filled-in with `fillvalue`. Iteration continues until the longest iterable is exhausted:"
   ]
  },
  {
   "cell_type": "code",
   "execution_count": 25,
   "id": "ef53de52-5aa8-4498-94e6-b10378cee2d6",
   "metadata": {
    "execution": {
     "iopub.execute_input": "2022-01-16T05:35:23.631817Z",
     "iopub.status.busy": "2022-01-16T05:35:23.631488Z",
     "iopub.status.idle": "2022-01-16T05:35:23.638388Z",
     "shell.execute_reply": "2022-01-16T05:35:23.637531Z",
     "shell.execute_reply.started": "2022-01-16T05:35:23.631781Z"
    },
    "tags": []
   },
   "outputs": [
    {
     "data": {
      "text/plain": [
       "[(1, 'a', 1),\n",
       " (2, 'b', 2),\n",
       " (3, 'c', 3),\n",
       " (4, 'd', 'missing'),\n",
       " (5, 'e', 'missing')]"
      ]
     },
     "execution_count": 25,
     "metadata": {},
     "output_type": "execute_result"
    }
   ],
   "source": [
    "from itertools import zip_longest\n",
    "\n",
    "list(zip_longest(l1, l2, t3, fillvalue=\"missing\"))"
   ]
  },
  {
   "cell_type": "markdown",
   "id": "f886c97d-e9c5-43b2-8ba4-ab9665b854e9",
   "metadata": {},
   "source": [
    "When we have a single iterable (for instance, a list, whose elements are also lists), we could also use zip with a single iterable with unpacking:"
   ]
  },
  {
   "cell_type": "code",
   "execution_count": 26,
   "id": "d3379cd0-270e-4012-b102-910a4c54ef64",
   "metadata": {
    "execution": {
     "iopub.execute_input": "2022-01-18T04:57:47.516281Z",
     "iopub.status.busy": "2022-01-18T04:57:47.516021Z",
     "iopub.status.idle": "2022-01-18T04:57:47.521613Z",
     "shell.execute_reply": "2022-01-18T04:57:47.520846Z",
     "shell.execute_reply.started": "2022-01-18T04:57:47.516255Z"
    },
    "tags": []
   },
   "outputs": [
    {
     "data": {
      "text/plain": [
       "[(1, 4), (2, 5), (3, 6)]"
      ]
     },
     "execution_count": 26,
     "metadata": {},
     "output_type": "execute_result"
    }
   ],
   "source": [
    "# Nested list with two list elements\n",
    "l = [[1, 2, 3], [4, 5, 6]]\n",
    "# Zip with unpacking\n",
    "list(zip(*l))"
   ]
  },
  {
   "cell_type": "code",
   "execution_count": 27,
   "id": "a47f681b-d481-453a-806b-83f2ec70c15c",
   "metadata": {
    "execution": {
     "iopub.execute_input": "2022-01-18T04:58:41.847156Z",
     "iopub.status.busy": "2022-01-18T04:58:41.846807Z",
     "iopub.status.idle": "2022-01-18T04:58:41.852781Z",
     "shell.execute_reply": "2022-01-18T04:58:41.851957Z",
     "shell.execute_reply.started": "2022-01-18T04:58:41.847122Z"
    },
    "tags": []
   },
   "outputs": [
    {
     "data": {
      "text/plain": [
       "[([1, 2, 3],), ([4, 5, 6],)]"
      ]
     },
     "execution_count": 27,
     "metadata": {},
     "output_type": "execute_result"
    }
   ],
   "source": [
    "# Zip without unpacking\n",
    "list(zip(l))"
   ]
  },
  {
   "cell_type": "markdown",
   "id": "f4f12134-1a9a-4dab-998a-dd4082fb484e",
   "metadata": {},
   "source": [
    "The $*$ in a function call \"unpacks\" a list (or other iterable), making each of its elements a separate argument in `zip`. Without the $*$ operator, we are runing `zip([[1, 2, 3], [4, 5, 6]])`, which means the `zip` function will view `l` as a single iterable, returning\n",
    "\n",
    "* ([1, 2, 3], empty since there is no second iterable) and ([4, 5, 6], empty since there is no second iterable)\n",
    "\n",
    "With the $*$, we are essentially running `zip([1, 2, 3], [4, 5, 6])`, which returns the pairing of the elements of the two iterables:\n",
    "\n",
    "* (1, 4), (2, 5), (3, 6)\n",
    "\n",
    "### Dictionary construction with zip"
   ]
  },
  {
   "cell_type": "code",
   "execution_count": 28,
   "id": "d6d5bee9-105e-45e7-84be-1973c6383e25",
   "metadata": {
    "execution": {
     "iopub.execute_input": "2022-01-16T05:44:14.948738Z",
     "iopub.status.busy": "2022-01-16T05:44:14.948322Z",
     "iopub.status.idle": "2022-01-16T05:44:14.953384Z",
     "shell.execute_reply": "2022-01-16T05:44:14.952335Z",
     "shell.execute_reply.started": "2022-01-16T05:44:14.948690Z"
    },
    "tags": []
   },
   "outputs": [],
   "source": [
    "keys = [\"name\", \"age\", \"major\", \"hometown\", \"height\"]\n",
    "values = [\"yang\", 23, \"stats\", \"China\", 177]"
   ]
  },
  {
   "cell_type": "code",
   "execution_count": 29,
   "id": "1d9a41b7-6b70-4bb8-be93-85be37df44d1",
   "metadata": {
    "execution": {
     "iopub.execute_input": "2022-01-16T05:45:34.879753Z",
     "iopub.status.busy": "2022-01-16T05:45:34.879411Z",
     "iopub.status.idle": "2022-01-16T05:45:34.886578Z",
     "shell.execute_reply": "2022-01-16T05:45:34.885888Z",
     "shell.execute_reply.started": "2022-01-16T05:45:34.879717Z"
    },
    "tags": []
   },
   "outputs": [
    {
     "data": {
      "text/plain": [
       "{'name': 'yang',\n",
       " 'age': 23,\n",
       " 'major': 'stats',\n",
       " 'hometown': 'China',\n",
       " 'height': 177}"
      ]
     },
     "execution_count": 29,
     "metadata": {},
     "output_type": "execute_result"
    }
   ],
   "source": [
    "d = {}\n",
    "# Using zip and for loop\n",
    "for key, value in zip(keys, values):\n",
    "    d[key] = value\n",
    "d"
   ]
  },
  {
   "cell_type": "code",
   "execution_count": 30,
   "id": "64daec85-135a-4641-8ccd-62514d84cc6f",
   "metadata": {
    "execution": {
     "iopub.execute_input": "2022-01-16T05:46:19.673441Z",
     "iopub.status.busy": "2022-01-16T05:46:19.673116Z",
     "iopub.status.idle": "2022-01-16T05:46:19.679272Z",
     "shell.execute_reply": "2022-01-16T05:46:19.678689Z",
     "shell.execute_reply.started": "2022-01-16T05:46:19.673410Z"
    },
    "tags": []
   },
   "outputs": [
    {
     "data": {
      "text/plain": [
       "{'name': 'yang',\n",
       " 'age': 23,\n",
       " 'major': 'stats',\n",
       " 'hometown': 'China',\n",
       " 'height': 177}"
      ]
     },
     "execution_count": 30,
     "metadata": {},
     "output_type": "execute_result"
    }
   ],
   "source": [
    "# Using the constructor directly\n",
    "d1 = dict(zip(keys, values))\n",
    "d1"
   ]
  },
  {
   "cell_type": "code",
   "execution_count": 31,
   "id": "990d09bb-0ea7-4565-8aad-a61cbd790604",
   "metadata": {
    "execution": {
     "iopub.execute_input": "2022-01-16T05:46:51.396590Z",
     "iopub.status.busy": "2022-01-16T05:46:51.396276Z",
     "iopub.status.idle": "2022-01-16T05:46:51.401813Z",
     "shell.execute_reply": "2022-01-16T05:46:51.400932Z",
     "shell.execute_reply.started": "2022-01-16T05:46:51.396555Z"
    },
    "tags": []
   },
   "outputs": [
    {
     "data": {
      "text/plain": [
       "{'name': 'yang',\n",
       " 'age': 23,\n",
       " 'major': 'stats',\n",
       " 'hometown': 'China',\n",
       " 'height': 177}"
      ]
     },
     "execution_count": 31,
     "metadata": {},
     "output_type": "execute_result"
    }
   ],
   "source": [
    "# Dictionary comprehension\n",
    "{key: value for (key, value) in zip(keys, values)}"
   ]
  },
  {
   "cell_type": "markdown",
   "id": "04876d90-80a9-42cd-a737-0dfd643e5e69",
   "metadata": {},
   "source": [
    "## Generating Both Offsets and Items: enumerate\n",
    "\n",
    "While `range` can be employed to generate the offsets of items in a sequence or an interable or an interator, rather than the items at those offsets, we may sometimes require both--- the items to use plus an offset. The built-in `enumerate` function provides a way to achieve this:"
   ]
  },
  {
   "cell_type": "code",
   "execution_count": 32,
   "id": "80a10deb-104d-44e7-b4ac-b50d420a65e3",
   "metadata": {
    "execution": {
     "iopub.execute_input": "2022-01-16T05:51:56.362386Z",
     "iopub.status.busy": "2022-01-16T05:51:56.362069Z",
     "iopub.status.idle": "2022-01-16T05:51:56.367508Z",
     "shell.execute_reply": "2022-01-16T05:51:56.366754Z",
     "shell.execute_reply.started": "2022-01-16T05:51:56.362351Z"
    },
    "tags": []
   },
   "outputs": [
    {
     "name": "stdout",
     "output_type": "stream",
     "text": [
      "y appears at offset 0\n",
      "a appears at offset 1\n",
      "n appears at offset 2\n",
      "g appears at offset 3\n"
     ]
    }
   ],
   "source": [
    "s = \"yang\"\n",
    "for offset, item in enumerate(s):\n",
    "    print(item, \"appears at offset\", offset)"
   ]
  },
  {
   "cell_type": "markdown",
   "id": "8bce06eb-dbb4-46be-85f6-7d19dd8870f4",
   "metadata": {},
   "source": [
    "The `enumerate` function returns an iterable or generator object, which is a kind of object that supports the iteration protocol. It has a method called by the `next` built-in function, which returns an `(index, value)` tuple at each iteration."
   ]
  },
  {
   "cell_type": "code",
   "execution_count": 33,
   "id": "1c7f3a60-e71c-4dd9-8637-e0810c88e7fc",
   "metadata": {
    "execution": {
     "iopub.execute_input": "2022-01-16T05:53:29.451644Z",
     "iopub.status.busy": "2022-01-16T05:53:29.451377Z",
     "iopub.status.idle": "2022-01-16T05:53:29.456683Z",
     "shell.execute_reply": "2022-01-16T05:53:29.455915Z",
     "shell.execute_reply.started": "2022-01-16T05:53:29.451616Z"
    },
    "tags": []
   },
   "outputs": [
    {
     "data": {
      "text/plain": [
       "[(0, 'y'), (1, 'a'), (2, 'n'), (3, 'g')]"
      ]
     },
     "execution_count": 33,
     "metadata": {},
     "output_type": "execute_result"
    }
   ],
   "source": [
    "list(enumerate(s))"
   ]
  },
  {
   "cell_type": "markdown",
   "id": "073acd63",
   "metadata": {},
   "source": [
    "## Mapping Functions over Iterables: map\n",
    "\n",
    "One of the more task to do with lists and other sequences is applying an operation to each item in those sequences and collect the results (like R's `lapply` and functions from the `purrr` package). The `map` function in Python applies a passed-in function to each item in an iterable object and returns a list containing all the function call results. The syntax of map is as follow:\n",
    "\n",
    "* `map(func, *iterables) --> map object`"
   ]
  },
  {
   "cell_type": "code",
   "execution_count": 34,
   "id": "b6d8d72a",
   "metadata": {},
   "outputs": [],
   "source": [
    "# A sequence\n",
    "seq = [1, 2, 3, 4]\n",
    "\n",
    "\n",
    "# User defined function\n",
    "def increment(x):\n",
    "    return x + 10\n",
    "\n",
    "\n",
    "# Returns a map object\n",
    "map_obj = map(increment, seq)"
   ]
  },
  {
   "cell_type": "markdown",
   "id": "561ab68d",
   "metadata": {},
   "source": [
    "Because `map` is an iterable in Python 3.X, we need to use a list to force it to produce all its results for display."
   ]
  },
  {
   "cell_type": "code",
   "execution_count": 35,
   "id": "7f8a1fcb",
   "metadata": {},
   "outputs": [
    {
     "data": {
      "text/plain": [
       "True"
      ]
     },
     "execution_count": 35,
     "metadata": {},
     "output_type": "execute_result"
    }
   ],
   "source": [
    "from collections.abc import Iterable\n",
    "\n",
    "isinstance(map_obj, Iterable)"
   ]
  },
  {
   "cell_type": "code",
   "execution_count": 36,
   "id": "96322cf9",
   "metadata": {},
   "outputs": [
    {
     "data": {
      "text/plain": [
       "[11, 12, 13, 14]"
      ]
     },
     "execution_count": 36,
     "metadata": {},
     "output_type": "execute_result"
    }
   ],
   "source": [
    "list(map_obj)"
   ]
  },
  {
   "cell_type": "markdown",
   "id": "25a7cd62",
   "metadata": {},
   "source": [
    "Similar to R's `lapply()`, we can use an anonymous function instead of a pre-defined function. This is a place where `lambda` commonly appears:"
   ]
  },
  {
   "cell_type": "code",
   "execution_count": 37,
   "id": "a91982f6",
   "metadata": {},
   "outputs": [
    {
     "data": {
      "text/plain": [
       "[4, 5, 6, 7]"
      ]
     },
     "execution_count": 37,
     "metadata": {},
     "output_type": "execute_result"
    }
   ],
   "source": [
    "list(map((lambda x: x + 3), seq))"
   ]
  },
  {
   "cell_type": "markdown",
   "id": "f09a2a86",
   "metadata": {},
   "source": [
    "The equivalent for loop is as follows:"
   ]
  },
  {
   "cell_type": "code",
   "execution_count": 38,
   "id": "478e981d",
   "metadata": {},
   "outputs": [
    {
     "data": {
      "text/plain": [
       "[4, 5, 6, 7]"
      ]
     },
     "execution_count": 38,
     "metadata": {},
     "output_type": "execute_result"
    }
   ],
   "source": [
    "updated = []\n",
    "for x in seq:\n",
    "    updated.append(x + 3)\n",
    "updated"
   ]
  },
  {
   "cell_type": "markdown",
   "id": "268bb334",
   "metadata": {},
   "source": [
    "The equivalent list comprehension is as follows:"
   ]
  },
  {
   "cell_type": "code",
   "execution_count": 39,
   "id": "6780d143",
   "metadata": {},
   "outputs": [
    {
     "data": {
      "text/plain": [
       "[4, 5, 6, 7]"
      ]
     },
     "execution_count": 39,
     "metadata": {},
     "output_type": "execute_result"
    }
   ],
   "source": [
    "[x + 3 for x in seq]"
   ]
  },
  {
   "cell_type": "markdown",
   "id": "a2a19426",
   "metadata": {},
   "source": [
    "### Multiple argument functions\n",
    "\n",
    "Moreover, `map` can be used in more advanced ways. For multiple sequence arguments, `map` sends items taken from sequences in parallel as distinct arguments to the function:"
   ]
  },
  {
   "cell_type": "code",
   "execution_count": 40,
   "id": "3e2d46e4",
   "metadata": {},
   "outputs": [
    {
     "data": {
      "text/plain": [
       "81"
      ]
     },
     "execution_count": 40,
     "metadata": {},
     "output_type": "execute_result"
    },
    {
     "data": {
      "text/plain": [
       "[1, 8, 81]"
      ]
     },
     "execution_count": 40,
     "metadata": {},
     "output_type": "execute_result"
    }
   ],
   "source": [
    "pow(3, 4)\n",
    "list(map(pow, [1, 2, 3], [2, 3, 4]))"
   ]
  },
  {
   "cell_type": "markdown",
   "id": "a86894a2",
   "metadata": {},
   "source": [
    "In the example above, the two sequences are `zip`ed together to produce sequences of arguments like:"
   ]
  },
  {
   "cell_type": "code",
   "execution_count": 41,
   "id": "d7fdfdaa",
   "metadata": {},
   "outputs": [
    {
     "data": {
      "text/plain": [
       "[(1, 2), (2, 3), (3, 4)]"
      ]
     },
     "execution_count": 41,
     "metadata": {},
     "output_type": "execute_result"
    }
   ],
   "source": [
    "list(zip([1, 2, 3], [2, 3, 4]))"
   ]
  },
  {
   "cell_type": "markdown",
   "id": "c289bd0c",
   "metadata": {},
   "source": [
    "The function call at each iteration is therefore:\n",
    "\n",
    "* `pow(1, 2)`\n",
    "* `pow(2, 3)`\n",
    "* `pow(4, 4)`\n",
    "\n",
    "With multiple sequences, `map` expects an N-argument function for N sequences. With multiple iterables (sequences), the iterator stops when the shortest iterable is exhausted. For using constant arguments like the `map` functions from R's `purrr` package, we could use the `repeat` function from `itertools`:"
   ]
  },
  {
   "cell_type": "code",
   "execution_count": 42,
   "id": "1c7db437",
   "metadata": {},
   "outputs": [
    {
     "data": {
      "text/plain": [
       "repeat(4, 3)"
      ]
     },
     "execution_count": 42,
     "metadata": {},
     "output_type": "execute_result"
    },
    {
     "data": {
      "text/plain": [
       "[4, 4, 4]"
      ]
     },
     "execution_count": 42,
     "metadata": {},
     "output_type": "execute_result"
    }
   ],
   "source": [
    "from itertools import repeat\n",
    "\n",
    "repeat(4, 3)\n",
    "list(repeat(4, 3))"
   ]
  },
  {
   "cell_type": "code",
   "execution_count": 43,
   "id": "f43204b0",
   "metadata": {},
   "outputs": [
    {
     "data": {
      "text/plain": [
       "[10, 11, 12]"
      ]
     },
     "execution_count": 43,
     "metadata": {},
     "output_type": "execute_result"
    }
   ],
   "source": [
    "from operator import add\n",
    "\n",
    "# Not specifying times will produce an infinite iterator\n",
    "# But map stops when the shortest iterable is exhausted as [1, 2, 3] is shorter than the infinite\n",
    "list(map(add, [1, 2, 3], repeat(9)))"
   ]
  },
  {
   "cell_type": "markdown",
   "id": "bc86afb1",
   "metadata": {},
   "source": [
    "The equivalent for loop is as follows:"
   ]
  },
  {
   "cell_type": "code",
   "execution_count": 44,
   "id": "8b363b5f",
   "metadata": {},
   "outputs": [
    {
     "data": {
      "text/plain": [
       "[10, 11, 12]"
      ]
     },
     "execution_count": 44,
     "metadata": {},
     "output_type": "execute_result"
    }
   ],
   "source": [
    "l = []\n",
    "for x, y in zip([1, 2, 3], repeat(9)):\n",
    "    l.append(x + y)\n",
    "l"
   ]
  },
  {
   "cell_type": "markdown",
   "id": "350e5c49",
   "metadata": {},
   "source": [
    "The equivalent list comprehension is:"
   ]
  },
  {
   "cell_type": "code",
   "execution_count": 45,
   "id": "3203b995",
   "metadata": {},
   "outputs": [
    {
     "data": {
      "text/plain": [
       "[10, 11, 12]"
      ]
     },
     "execution_count": 45,
     "metadata": {},
     "output_type": "execute_result"
    }
   ],
   "source": [
    "[x + y for x, y in zip([1, 2, 3], repeat(9))]"
   ]
  },
  {
   "cell_type": "markdown",
   "id": "48166d39",
   "metadata": {},
   "source": [
    "## Selecting Items in Iterables: filter\n",
    "\n",
    "The `filter` function selects an iterable’s items based on a test function (also called a predicate). The syntax is as follows:\n",
    "\n",
    "* `filter(function or None, iterable) --> filter object`"
   ]
  },
  {
   "cell_type": "code",
   "execution_count": 46,
   "id": "9503680b",
   "metadata": {},
   "outputs": [
    {
     "data": {
      "text/plain": [
       "[-5, -4, -3, -2, -1, 0, 1, 2, 3, 4]"
      ]
     },
     "execution_count": 46,
     "metadata": {},
     "output_type": "execute_result"
    },
    {
     "data": {
      "text/plain": [
       "[1, 2, 3, 4]"
      ]
     },
     "execution_count": 46,
     "metadata": {},
     "output_type": "execute_result"
    }
   ],
   "source": [
    "list(range(-5, 5))\n",
    "# Filter items in range(-5, 5) based on a predicate function returning True or False\n",
    "list(filter((lambda x: x > 0), range(-5, 5)))"
   ]
  },
  {
   "cell_type": "markdown",
   "id": "e56205e6",
   "metadata": {},
   "source": [
    "The equivalent for loop is as follow:"
   ]
  },
  {
   "cell_type": "code",
   "execution_count": 47,
   "id": "ec1aa10f",
   "metadata": {},
   "outputs": [
    {
     "data": {
      "text/plain": [
       "[1, 2, 3, 4]"
      ]
     },
     "execution_count": 47,
     "metadata": {},
     "output_type": "execute_result"
    }
   ],
   "source": [
    "l2 = []\n",
    "for item in range(-5, 5):\n",
    "    if item > 0:\n",
    "        l2.append(item)\n",
    "l2"
   ]
  },
  {
   "cell_type": "markdown",
   "id": "dafdb8d1",
   "metadata": {},
   "source": [
    "The equivalent list comprehension is as follows:"
   ]
  },
  {
   "cell_type": "code",
   "execution_count": 48,
   "id": "c50c2e83",
   "metadata": {},
   "outputs": [
    {
     "data": {
      "text/plain": [
       "[1, 2, 3, 4]"
      ]
     },
     "execution_count": 48,
     "metadata": {},
     "output_type": "execute_result"
    }
   ],
   "source": [
    "[x for x in range(-5, 5) if x > 0]"
   ]
  },
  {
   "cell_type": "markdown",
   "id": "e1b77af2",
   "metadata": {},
   "source": [
    "## Combining Items in Iterables: reduce\n",
    "\n",
    "The functional `reduce` call, which is a simple built-in function in 2.X but lives in the `functools` module in 3.X, accepts an iterable to process, but it’s not an iterable itself. Instead, `reduce` returns a *single* result.\n",
    "\n",
    "* `reduce(function, sequence[, initial]) -> value`\n",
    "\n",
    "The `reduce` function applies a function of two arguments cumulatively to the items of a sequence, from left to right, so as to reduce the sequence to a single value. If initial is present, it is placed before the items of the sequence in the calculation, and serves as a default when the sequence is empty."
   ]
  },
  {
   "cell_type": "code",
   "execution_count": 49,
   "id": "1a40c3db",
   "metadata": {},
   "outputs": [
    {
     "data": {
      "text/plain": [
       "10"
      ]
     },
     "execution_count": 49,
     "metadata": {},
     "output_type": "execute_result"
    },
    {
     "data": {
      "text/plain": [
       "24"
      ]
     },
     "execution_count": 49,
     "metadata": {},
     "output_type": "execute_result"
    }
   ],
   "source": [
    "from functools import reduce\n",
    "\n",
    "# For reduce, the function argument is a binary function accepting two arguments\n",
    "# Cumulative sum\n",
    "reduce((lambda x, y: x + y), [1, 2, 3, 4])\n",
    "# Cumulative product\n",
    "reduce((lambda x, y: x * y), [1, 2, 3, 4])"
   ]
  },
  {
   "cell_type": "markdown",
   "id": "e97d90da",
   "metadata": {},
   "source": [
    "To understand, the above functions are equivalent to the following:\n",
    "\n",
    "* `reduce(lambda x, y: x + y, [1, 2, 3, 4])` calculates (((1 + 2) + 3) + 4)\n",
    "\n",
    "* `reduce((lambda x, y: x * y), [1, 2, 3, 4])` calculates (((1 * 2) * 3) * 4)"
   ]
  },
  {
   "cell_type": "code",
   "execution_count": 50,
   "id": "1b45ba48",
   "metadata": {},
   "outputs": [],
   "source": [
    "# Implementing reduce\n",
    "def myreduce(function, sequence):\n",
    "    # Initialize value\n",
    "    tally = sequence[0]\n",
    "    # Proceed with the second element of the sequence\n",
    "    for next in sequence[1:]:\n",
    "        tally = function(tally, next)\n",
    "    return tally"
   ]
  },
  {
   "cell_type": "code",
   "execution_count": 51,
   "id": "89555bdf",
   "metadata": {},
   "outputs": [
    {
     "data": {
      "text/plain": [
       "15"
      ]
     },
     "execution_count": 51,
     "metadata": {},
     "output_type": "execute_result"
    },
    {
     "data": {
      "text/plain": [
       "120"
      ]
     },
     "execution_count": 51,
     "metadata": {},
     "output_type": "execute_result"
    }
   ],
   "source": [
    "myreduce((lambda x, y: x + y), [1, 2, 3, 4, 5])\n",
    "myreduce((lambda x, y: x * y), [1, 2, 3, 4, 5])"
   ]
  },
  {
   "cell_type": "markdown",
   "id": "e8e787d4",
   "metadata": {},
   "source": [
    "The standard library `operator` module provides functional (prefix) forms that correspond to built-in expressions, which may come in handy for some uses of functional tools:"
   ]
  },
  {
   "cell_type": "code",
   "execution_count": 52,
   "id": "c5b9e295",
   "metadata": {},
   "outputs": [
    {
     "data": {
      "text/plain": [
       "12"
      ]
     },
     "execution_count": 52,
     "metadata": {},
     "output_type": "execute_result"
    },
    {
     "data": {
      "text/plain": [
       "12"
      ]
     },
     "execution_count": 52,
     "metadata": {},
     "output_type": "execute_result"
    }
   ],
   "source": [
    "import functools\n",
    "import operator\n",
    "\n",
    "functools.reduce(operator.add, [2, 4, 6])\n",
    "functools.reduce((lambda x, y: x + y), [2, 4, 6])"
   ]
  }
 ],
 "metadata": {
  "kernelspec": {
   "display_name": "Python 3 (ipykernel)",
   "language": "python",
   "name": "python3"
  },
  "language_info": {
   "codemirror_mode": {
    "name": "ipython",
    "version": 3
   },
   "file_extension": ".py",
   "mimetype": "text/x-python",
   "name": "python",
   "nbconvert_exporter": "python",
   "pygments_lexer": "ipython3",
   "version": "3.9.12"
  }
 },
 "nbformat": 4,
 "nbformat_minor": 5
}
