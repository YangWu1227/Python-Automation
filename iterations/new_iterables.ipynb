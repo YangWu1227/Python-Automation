{
 "cells": [
  {
   "cell_type": "code",
   "execution_count": 1,
   "id": "9150dd6f-850c-413b-a4a5-1ba8ae1234e7",
   "metadata": {
    "execution": {
     "iopub.execute_input": "2022-01-22T22:57:37.513932Z",
     "iopub.status.busy": "2022-01-22T22:57:37.513482Z",
     "iopub.status.idle": "2022-01-22T22:57:37.524073Z",
     "shell.execute_reply": "2022-01-22T22:57:37.522892Z",
     "shell.execute_reply.started": "2022-01-22T22:57:37.513840Z"
    },
    "tags": []
   },
   "outputs": [],
   "source": [
    "from IPython.core.interactiveshell import InteractiveShell\n",
    "InteractiveShell.ast_node_interactivity = \"all\""
   ]
  },
  {
   "cell_type": "markdown",
   "id": "4609c4ed-0bef-44f3-bc1b-442eb8c7e961",
   "metadata": {},
   "source": [
    "## New Iterables"
   ]
  },
  {
   "cell_type": "code",
   "execution_count": null,
   "id": "343dba14-295b-4aca-9d03-fd98307d4cc3",
   "metadata": {},
   "outputs": [],
   "source": []
  }
 ],
 "metadata": {
  "kernelspec": {
   "display_name": "Python 3 (ipykernel)",
   "language": "python",
   "name": "python3"
  },
  "language_info": {
   "codemirror_mode": {
    "name": "ipython",
    "version": 3
   },
   "file_extension": ".py",
   "mimetype": "text/x-python",
   "name": "python",
   "nbconvert_exporter": "python",
   "pygments_lexer": "ipython3",
   "version": "3.9.7"
  }
 },
 "nbformat": 4,
 "nbformat_minor": 5
}
