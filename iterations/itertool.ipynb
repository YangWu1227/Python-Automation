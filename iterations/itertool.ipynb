{
 "cells": [
  {
   "cell_type": "code",
   "execution_count": 5,
   "metadata": {},
   "outputs": [],
   "source": [
    "from IPython.core.interactiveshell import InteractiveShell\n",
    "InteractiveShell.ast_node_interactivity = \"all\"\n",
    "# Standard library\n",
    "import sys\n",
    "import operator\n",
    "from typing import Iterable, Any, Callable, Generator, Union\n",
    "# Third party\n",
    "from numpy.random import normal"
   ]
  },
  {
   "cell_type": "markdown",
   "metadata": {},
   "source": [
    "## accumulate\n",
    "\n",
    "* `itertools.accumulate(iterable[, func, *, initial=None])`\n",
    "\n",
    "Make an iterator that returns accumulated sums, or accumulated results of other binary functions (specified via the optional func argument).\n",
    "\n",
    "If `func` is supplied, it should be a function of two arguments. Elements of the input iterable may be any type that can be accepted as arguments to func. (For example, with the default operation of addition, elements may be any addable type including Decimal or Fraction.)\n",
    "\n",
    "Usually, **the number of elements output matches the input iterable**. However, if the keyword argument `initial` is provided, the accumulation leads off with the initial value so that the output has one more element than the input iterable."
   ]
  },
  {
   "cell_type": "code",
   "execution_count": 49,
   "metadata": {},
   "outputs": [],
   "source": [
    "def accumulate(iterable: Iterable, func=operator.add, *, initial=None) -> Generator:\n",
    "    # Obtain iterator from iterable\n",
    "    it = iter(iterable)\n",
    "    # Initialize total\n",
    "    total = initial\n",
    "    # If no initial value is passed by user\n",
    "    if initial is None:\n",
    "        try:\n",
    "            # Set total as the first value returned by the iterator's next method\n",
    "            total = next(it)\n",
    "            # Raise StopIteration of iterator is exhausted\n",
    "        except StopIteration:\n",
    "            return\n",
    "    # First yield to start the generator\n",
    "    yield total\n",
    "    # Once the function resumes, begin the loop to use the iterator protocol, calling 'it.__next__()'\n",
    "    for element in it:\n",
    "        # The left argument is the previously accumulated value and the right is the update value, \n",
    "        # This produces the new accumulated value of the current iteration, to which the name 'total' is rebound\n",
    "        total = func(total, element)\n",
    "        # Yield the current total to caller\n",
    "        yield total"
   ]
  },
  {
   "cell_type": "markdown",
   "metadata": {},
   "source": [
    "### Running statistics"
   ]
  },
  {
   "cell_type": "code",
   "execution_count": 53,
   "metadata": {},
   "outputs": [
    {
     "data": {
      "text/plain": [
       "<generator object accumulate at 0x1138a6a50>"
      ]
     },
     "execution_count": 53,
     "metadata": {},
     "output_type": "execute_result"
    }
   ],
   "source": [
    "# Data\n",
    "data = [3, 4, 6, 2, 1, 9, 0, 7, 5, 8]\n",
    "# Returns a iterator\n",
    "accumulate(data)"
   ]
  },
  {
   "cell_type": "code",
   "execution_count": 10,
   "metadata": {},
   "outputs": [
    {
     "data": {
      "text/plain": [
       "[3, 12, 72, 144, 144, 1296, 0, 0, 0, 0]"
      ]
     },
     "execution_count": 10,
     "metadata": {},
     "output_type": "execute_result"
    },
    {
     "data": {
      "text/plain": [
       "[3, 4, 6, 6, 6, 9, 9, 9, 9, 9]"
      ]
     },
     "execution_count": 10,
     "metadata": {},
     "output_type": "execute_result"
    },
    {
     "data": {
      "text/plain": [
       "[3, 7, 13, 15, 16, 25, 25, 32, 37, 45]"
      ]
     },
     "execution_count": 10,
     "metadata": {},
     "output_type": "execute_result"
    }
   ],
   "source": [
    "# Running product\n",
    "list(accumulate(data, operator.mul)) \n",
    "# Runing maximum\n",
    "list(accumulate(data, max))\n",
    "# Running sum\n",
    "list(accumulate(data))"
   ]
  },
  {
   "cell_type": "markdown",
   "metadata": {},
   "source": [
    "### Finance \n",
    "\n",
    "* $1000 * 1.05 + (-90) = 960$\n",
    "\n",
    "* $960 * 1.05 + (-90) = 918$\n",
    "\n",
    "* $918 * 1.05 + (-90) = 873.9$\n",
    "\n",
    "* $...$"
   ]
  },
  {
   "cell_type": "code",
   "execution_count": 12,
   "metadata": {},
   "outputs": [
    {
     "data": {
      "text/plain": [
       "[1000, 960.0, 918.0, 873.9000000000001, 827.5950000000001]"
      ]
     },
     "execution_count": 12,
     "metadata": {},
     "output_type": "execute_result"
    }
   ],
   "source": [
    "cashflows = [1000, -90, -90, -90, -90]\n",
    "# Amortize a 5% loan of 1000 with 4 annual payments of 90\n",
    "list(accumulate(cashflows, lambda balance, payment: balance * 1.05 + payment))"
   ]
  },
  {
   "cell_type": "markdown",
   "metadata": {},
   "source": [
    "### Chaotic recurrence relation\n",
    "\n",
    "* $x_{n+1}=r x_{n}\\left(1-x_{n}\\right)$\n",
    "\n",
    "* $0.4$\n",
    "\n",
    "* $3.8 * 0.4 * (1 - 0.4) = 0.912$\n",
    "\n",
    "* $3.8 * 0.912 * (1 - 0.912) = 0.305$\n",
    "\n",
    "* $3.8 * 0.305 * (1 - 0.305) = 0.805$\n",
    "\n",
    "* $...$"
   ]
  },
  {
   "cell_type": "code",
   "execution_count": 26,
   "metadata": {},
   "outputs": [
    {
     "data": {
      "text/plain": [
       "['0.40',\n",
       " '0.91',\n",
       " '0.30',\n",
       " '0.81',\n",
       " '0.60',\n",
       " '0.92',\n",
       " '0.29',\n",
       " '0.79',\n",
       " '0.63',\n",
       " '0.88',\n",
       " '0.39',\n",
       " '0.90',\n",
       " '0.33',\n",
       " '0.84',\n",
       " '0.52',\n",
       " '0.95',\n",
       " '0.18',\n",
       " '0.57',\n",
       " '0.93',\n",
       " '0.25',\n",
       " '0.71',\n",
       " '0.79',\n",
       " '0.63',\n",
       " '0.88',\n",
       " '0.39',\n",
       " '0.91',\n",
       " '0.32',\n",
       " '0.83',\n",
       " '0.54',\n",
       " '0.95',\n",
       " '0.20',\n",
       " '0.60',\n",
       " '0.91',\n",
       " '0.30',\n",
       " '0.80',\n",
       " '0.60']"
      ]
     },
     "execution_count": 26,
     "metadata": {},
     "output_type": "execute_result"
    }
   ],
   "source": [
    "# Chaotic recurrence relation https://en.wikipedia.org/wiki/Logistic_map\n",
    "# Notice that the update value is not used in the actual function\n",
    "logistic_map = lambda accumulated, update:  r * accumulated * (1 - accumulated)\n",
    "# Variables\n",
    "r = 3.8\n",
    "x0 = 0.4\n",
    "# Initialize inputs\n",
    "inputs = [x0] * 36   \n",
    "# This works since each iteration remembers the current total value\n",
    "[format(x, '.2f') for x in accumulate(inputs, logistic_map)]"
   ]
  },
  {
   "cell_type": "markdown",
   "metadata": {},
   "source": [
    "## reduce\n",
    "\n",
    "* `functools.reduce(function, iterable[, initializer])`\n",
    "\n",
    "Apply function of two arguments cumulatively to the items of iterable, from left to right, so as to **reduce the iterable to a single value**. For example, `reduce(lambda x, y: x + y, [1, 2, 3, 4, 5])` calculates `((((1 + 2) + 3) + 4) + 5)`. The left argument, `x`, is the accumulated value and the right argument, `y`, is the update value from the iterable. If the optional `initializer` is present, it is placed before the items of the iterable in the calculation, and serves as a default when the iterable is empty. If `initializer` is not given and iterable contains only one item, the first item is returned."
   ]
  },
  {
   "cell_type": "code",
   "execution_count": 56,
   "metadata": {},
   "outputs": [],
   "source": [
    "def reduce(function, iterable: Iterable, initializer=None) -> Any:\n",
    "    # Obtain iterator from iterable\n",
    "    it = iter(iterable)\n",
    "    # If no initializer passed by user\n",
    "    if initializer is None:\n",
    "        # Set value as the first value returned by the iterator's next method\n",
    "        value = next(it)\n",
    "    else:\n",
    "        # Bind 'value' to the same object that 'initializer' references\n",
    "        value = initializer\n",
    "    # The iterator's 'next' method will be called in the loop to obtain the update value 'element' at each step\n",
    "    for element in it:\n",
    "        # The left argument is the previously accumulated value and the right is the update value, \n",
    "        # This produces the new accumulated value of the current iteration, to which the name 'value' is rebound\n",
    "        value = function(value, element)\n",
    "    return value"
   ]
  },
  {
   "cell_type": "markdown",
   "metadata": {},
   "source": [
    "## chain\n",
    "\n",
    "* `itertools.chain(*iterables)`\n",
    "\n",
    "Make an iterator that returns elements from the first iterable until it is exhausted, then proceeds to the next iterable, until all of the iterables are exhausted. Used for treating consecutive sequences as a single sequence. Notice that this function could only chain together iterables--- not *flatten* nested iterables."
   ]
  },
  {
   "cell_type": "code",
   "execution_count": 57,
   "metadata": {},
   "outputs": [],
   "source": [
    "# The *iterables form collects any extra unmatched positional arguments in a tuple\n",
    "# This essentially creates a tuple with an arbitrary number of iterables as elements--- Tuple[Iterable, ...]--- in the function body\n",
    "def chain(*iterables: Iterable) -> Generator:\n",
    "    # For loop calls the tuple object's iter method\n",
    "    # Each element of the 'iterables' tuple is an interable in and of itself\n",
    "    for it in iterables:\n",
    "        # For each iterable in the 'iterables' tuple, the for loop calls that iterable's iter method \n",
    "        for element in it:\n",
    "            # Yield the value of the element to the caller\n",
    "            yield element"
   ]
  },
  {
   "cell_type": "markdown",
   "metadata": {},
   "source": [
    "### Examples"
   ]
  },
  {
   "cell_type": "code",
   "execution_count": 36,
   "metadata": {},
   "outputs": [
    {
     "data": {
      "text/plain": [
       "<generator object chain at 0x11314e820>"
      ]
     },
     "execution_count": 36,
     "metadata": {},
     "output_type": "execute_result"
    }
   ],
   "source": [
    "chain('ABC', 'DEF')"
   ]
  },
  {
   "cell_type": "code",
   "execution_count": 41,
   "metadata": {},
   "outputs": [
    {
     "data": {
      "text/plain": [
       "('A', 'B', 'C', 'D', 'E', 'F')"
      ]
     },
     "execution_count": 41,
     "metadata": {},
     "output_type": "execute_result"
    },
    {
     "data": {
      "text/plain": [
       "(1, 2, 3, 4, 2, 3, 4, 5)"
      ]
     },
     "execution_count": 41,
     "metadata": {},
     "output_type": "execute_result"
    },
    {
     "data": {
      "text/plain": [
       "[3, 4, 'a', 'b', 'd', 2, 3, 4]"
      ]
     },
     "execution_count": 41,
     "metadata": {},
     "output_type": "execute_result"
    }
   ],
   "source": [
    "tuple(chain('ABC', 'DEF'))\n",
    "tuple(chain([1, 2, 3, 4], (2, 3, 4, 5)))\n",
    "list(chain([3, 4], 'abd', {2, 3, 4}))"
   ]
  },
  {
   "cell_type": "markdown",
   "metadata": {},
   "source": [
    "An alternate constructor for `chain()` is to get the chained inputs from a single iterable argument that is evaluated lazily (rather than an arbitrary number of iterables).\n",
    "\n",
    "* `chain.from_iterable(iterable)`"
   ]
  },
  {
   "cell_type": "code",
   "execution_count": 66,
   "metadata": {},
   "outputs": [],
   "source": [
    "# No unpacking into a tuple like *args, since it is a single iterable containing other iterables\n",
    "def from_iterable(iterables: Iterable[Iterable]) -> Generator:\n",
    "    # For loop calls the iterables' iter to step through the elements of 'iterables'\n",
    "    for it in iterables:\n",
    "        for element in it:\n",
    "            yield element"
   ]
  },
  {
   "cell_type": "markdown",
   "metadata": {},
   "source": [
    "### Examples"
   ]
  },
  {
   "cell_type": "code",
   "execution_count": 59,
   "metadata": {},
   "outputs": [
    {
     "data": {
      "text/plain": [
       "<generator object from_iterable at 0x11379bac0>"
      ]
     },
     "execution_count": 59,
     "metadata": {},
     "output_type": "execute_result"
    }
   ],
   "source": [
    "from_iterable(['ABC', 'DEF'])"
   ]
  },
  {
   "cell_type": "code",
   "execution_count": 64,
   "metadata": {},
   "outputs": [
    {
     "data": {
      "text/plain": [
       "['A', 'B', 'C', 'D', 'E', 'F']"
      ]
     },
     "execution_count": 64,
     "metadata": {},
     "output_type": "execute_result"
    },
    {
     "data": {
      "text/plain": [
       "['d', 'f', 'd', 2, 2, 4, 'abd']"
      ]
     },
     "execution_count": 64,
     "metadata": {},
     "output_type": "execute_result"
    }
   ],
   "source": [
    "list(from_iterable(['ABC', 'DEF']))\n",
    "list(from_iterable(['dfd', [2, 2, 4], ['abd']]))"
   ]
  },
  {
   "cell_type": "markdown",
   "metadata": {},
   "source": [
    "## combination\n",
    "\n",
    "* `itertools.combinations(iterable, r)`\n",
    "\n",
    "This function returns `r` length subsequences of elements from the input iterable.\n",
    "\n",
    "The combination tuples are emitted in lexicographic ordering according to the order of the input iterable. So, if the input iterable is sorted, the combination tuples will be produced in sorted order.\n",
    "\n",
    "Elements are treated as unique based on their position, not on their value. So if the input elements are unique, there will be no repeat values in each combination. On the other hand, if any value is repeated, the function will print similar combinations thinking each value is different.\n",
    "\n",
    "The implementation uses `for/else` loop:\n",
    "\n",
    "```\n",
    "for item in iterable:\n",
    "    if search_something(item):\n",
    "        # Found it!\n",
    "        process(item)\n",
    "        break\n",
    "else:\n",
    "    # Didn't find anything..\n",
    "    not_found_in_container()\n",
    "```\n",
    "\n",
    "The `else` keyword in a `for` loop specifies a block of code to be executed when the loop is finished. The first scenario is when the `break` is encountered. The second scenario is that the loop ends without encountering a `break` statement, in which case the code in the `else` block will be executed."
   ]
  },
  {
   "cell_type": "code",
   "execution_count": 118,
   "metadata": {},
   "outputs": [],
   "source": [
    "def combinations(iterable: Iterable, r: int) -> Generator:\n",
    "    # Pool of values\n",
    "    pool = tuple(iterable)\n",
    "    # Number of values in the pool\n",
    "    n = len(pool)\n",
    "    \n",
    "    # There are no ways of choosing 'r' objects from 'n' objects if r > n\n",
    "    if r > n:\n",
    "        return\n",
    "    \n",
    "    # Initialize indices [0, 1, 2, ..., (r - 2), (r - 1)] in the normal order\n",
    "    indices = list(range(r))\n",
    "    # First yield returns the first subsequence (combo) of size r \n",
    "    # This yields a tuple (pool[0], pool[1], ..., pool[r-1])\n",
    "    yield tuple(pool[i] for i in indices)\n",
    "    \n",
    "    while True:\n",
    "        for i in reversed(range(r)):\n",
    "            if indices[i] != i + n - r:\n",
    "                break\n",
    "        else:\n",
    "            # Run when loop finishes without break\n",
    "            return\n",
    "        indices[i] += 1\n",
    "        for j in range(i+1, r):\n",
    "            indices[j] = indices[j-1] + 1\n",
    "        yield tuple(pool[i] for i in indices)"
   ]
  },
  {
   "cell_type": "markdown",
   "metadata": {},
   "source": [
    "### Control flow\n",
    "\n",
    "---\n",
    "\n",
    "* `pool = (1, 3, 5)`\n",
    "\n",
    "* `n = 3`\n",
    "\n",
    "* `r = 2`\n",
    "\n",
    "* `indices = [0, 1]`\n",
    "\n",
    "* The first yielded combination is `(1, 3)`\n",
    "\n",
    "---\n",
    "\n",
    "```\n",
    " # Line 1    for i in reversed(range(r)):\n",
    " # Line 2         if indices[i] != i + n - r:\n",
    " # Line 3             break\n",
    " # Line 4    else:\n",
    " # Line 5        return\n",
    " # Line 6     indices[i] += 1\n",
    " # Line 7     for j in range(i+1, r):\n",
    " # Line 8         indices[j] = indices[j-1] + 1\n",
    " # Line 9    yield tuple(pool[i] for i in indices)\n",
    "```\n",
    "\n",
    "---\n",
    "\n",
    "1. In the first run, `indices = [0, 1]`:\n",
    "\n",
    "    - Line 1: `for i in reversed(range(2))`  is `for i in (1, 0)`\n",
    "    - Line 2: `i = 1`, so `indices[1] != 1 + 3 - 2` becomes `1 != 2`, which is `True`\n",
    "    - Line 3: `for` loop terminates with `break`\n",
    "    - Line 4: `else` block is not run\n",
    "    - Line 5: `else` block is not run\n",
    "    - Line 6: `for` does not localize variables, so `i = 1` and `indices[1] += 1` increments 1 by 1\n",
    "        - Updated `indices = [0, 2]`\n",
    "    - Line 7: `for j in range(1 + 1, 2)` is `range(2, 2) = []`, so `StopIteration` is raised and the loop finishes\n",
    "    - Line 8: `tuple(pool[i] for i in [0, 2])` yields `(1, 5)`\n",
    "\n",
    "The second combination is `(1, 5)`.\n",
    "\n",
    "---\n",
    "\n",
    "2. In the second run when the function picks back up, `indices = [0, 2]`:\n",
    "\n",
    "    - Line 1: `for i in reversed(range(2))`  is `for i in (1, 0)`\n",
    "    - Line 2: `i = 0`, so `indices[0] != 0 + 3 - 2` becomes `0 != 1`, which is `True`\n",
    "    - Line 3: `for` loop terminates with `break`\n",
    "    - Line 4: `else` block is not run\n",
    "    - Line 5: `else` block is not run\n",
    "    - Line 6: `for` does not localize variables, so `i = 0` and `indices[0] += 1` increments 0 by 1\n",
    "        - Updated `indices = [1, 2]`\n",
    "    - Line 7: `for j in range(0 + 1, 2)` is `range(1, 2) = [1]`, in which case `j = 1` and `indices[1] = indices[1 - 1] + 1` becomes `indices[1] = 1 + 1 = 2`\n",
    "        - Updated `indices = [1, 2]`\n",
    "    - Line 8: `tuple(pool[i] for i in [1, 2])` yields `(3, 5)`\n",
    "\n",
    "The second combination is `(3, 5)`.\n",
    "\n",
    "---\n",
    "\n",
    "1. In the third run when the function picks back up, `indices = [1, 2]`:\n",
    "\n",
    "    - Line 1: `for i in (1, 0)` exhausted the iterator, so a `StopIteration` is raised and the loop completes\n",
    "    - Line 4: `else` block is run since the loop finishes without `break`\n",
    "    - Line 5: `return` finishes the function and returns control to caller\n",
    "\n",
    "\n"
   ]
  },
  {
   "cell_type": "code",
   "execution_count": 249,
   "metadata": {},
   "outputs": [
    {
     "data": {
      "text/plain": [
       "[(1, 3), (1, 5), (3, 5)]"
      ]
     },
     "execution_count": 249,
     "metadata": {},
     "output_type": "execute_result"
    }
   ],
   "source": [
    "list(combinations((1, 3, 5), 2))"
   ]
  },
  {
   "cell_type": "markdown",
   "metadata": {},
   "source": [
    "To understand the `while` loop implementation, recall that:\n",
    "\n",
    "---\n",
    "\n",
    "* `pool = (1, 3, 5)`\n",
    "\n",
    "* `n = 3`\n",
    "\n",
    "* `r = 2`\n",
    "\n",
    "* `indices = [0, 1]`\n",
    "\n",
    "* The first yielded combination is `(1, 3)`\n",
    "\n",
    "---\n",
    "\n",
    "1. We need to understand that the job of the `while` loop is to increment the `indices` one after the other.\n",
    "\n",
    "2. The job of the `for i in reversed(range(r))` loop, where `list(reversed(range(r))) = [1, 0]`, is to ensure that we do not over-increment any of values in `[0, 1]`. What the loop precisely makes sure is that:\n",
    "  \n",
    "    - The value of `indices[i] = indices[r - 1]` cannot be greater than `n - 1`. This is because `r` (the number of objects to choose) cannot be greater than `n` (the largest possible number of objects to choose from). In our case, the largest index `1` in `[0, 1]` cannot exceed the largest possible index `2` in `0, 1, 2` where `n = 3`. In the general case, we obtain this largest possible index (the upper limit) using `n - 1` since python counts from 0.\n",
    "\n",
    "    - The value of `indices[i] = indices[r - 2]` cannot be greater than `n - 2`. In our case, the second largest index `0` in `[0, 1]` cannot exceed the second largest possible index `1` in `0, 1, 2`. In the general case, we obtain this second largest possible index using `n - 2`. The reasoning is the same: if we are to choose `r = 1` objects from among `n = 2` possible objects, the value `indices[r - 2] = [0, 1][0] = 0` cannot be greater than the largest index in `0, 1`, which is `1`.\n",
    "\n",
    "    - In the general case, we have `indices[r - k] < n - k`.\n",
    "\n",
    "    - Put another way, `n - 1` is upper limit (not inclusive) for incrementing the index `indices[r - 1]`; in our case, `2 (n - 1) > 1 (r - 1)` so we can increment `1` by 1 to get `2`. Then, `n - 2` is the upper limit (not inclusive) for incrementing the second index `indices[r - 2]`; again, in our case, `1 (n - 2) > 0 (r - 2)`, so we can increment `0` by 1 to get `1`. This same patterns continues.\n",
    "\n",
    "3. The looping variable `i` goes from `r - 1, r - 2, ..., r - k, ..., 2, 1,  0`, or `[1, 0]` in this case, we can substitute the `r - k` with `i` in the general equation above.\n",
    "\n",
    "\\begin{align}\n",
    "r - k &= i \\\\\n",
    "- k &= i - r \\\\\n",
    "k & = -i + r \\\\ \n",
    "k & = r - i\n",
    "\\end{align}\n",
    "\n",
    "1. The general case then becomes `indices[i] < n - (r - i)` $\\rightarrow$ `indices[i] < n - r + i`. The official python example uses `indices[i] != i + n - r`, which accomplishes the same thing. When `indices[i] == i + n - r` is `True`, it effectively covers all the cases where the limit `indices[i] < n - r + i` is violated.\n",
    "\n",
    "2. If `indices[i] != i + n - r` is `True`, it effectively means that we can safely increment `indices[i]` by 1.\n",
    "\n",
    "3. The loop `for j in range(i+1, r): indices[j] = indices[j-1] + 1` ensures that every time we increment an `indices[i]`, we set the indexes after `indices[i]` to their smallest possible values. This prevents us from missing out on any combination. For instance, suppose we have `(1, 3, 5, 7, 9)` as the iterable, `r = 3`, and the combination indices `[0, 2, 4]`. When we increment 2 to 3, the last index will be 4, in which case we would miss out on the `[0, 2, 3]` combination. But if we update the latter indices based on that the previous by incrementing 2 by 1 and assigning that value as the last index of `[0, 2, 4]` $\\rightarrow$ `[0, 2, 3]`, we effectively address the problem.\n",
    "\n",
    "4. Lastly, `tuple(pool[i] for i in indices)` simply yields the combination of each specific iteration of the `while` loop."
   ]
  },
  {
   "cell_type": "markdown",
   "metadata": {},
   "source": [
    "## compress\n",
    "\n",
    "* `itertools.compress(data, selectors)`\n",
    "\n",
    "This function makes an iterator that filters elements from `data`, returning only those that have a corresponding element in `selectors` that evaluates to True. Execution stops when either of the `data` or `selectors` iterables has been exhausted.\n",
    "\n"
   ]
  },
  {
   "cell_type": "code",
   "execution_count": 9,
   "metadata": {},
   "outputs": [],
   "source": [
    "def compress(data: Iterable, selectors: Iterable) -> Generator:\n",
    "    # Each 'd' from 'data' is returned if 's' in 'selector' is True or its truth value is True\n",
    "    # The truth value of 1 is true\n",
    "    return (d for d, s in zip(data, selectors) if s)"
   ]
  },
  {
   "cell_type": "code",
   "execution_count": 3,
   "metadata": {},
   "outputs": [
    {
     "data": {
      "text/plain": [
       "<generator object compress.<locals>.<genexpr> at 0x10ca30ac0>"
      ]
     },
     "execution_count": 3,
     "metadata": {},
     "output_type": "execute_result"
    }
   ],
   "source": [
    "# Generator\n",
    "compress('ABCDEF', [1,0,1,0,1,1])"
   ]
  },
  {
   "cell_type": "code",
   "execution_count": 12,
   "metadata": {},
   "outputs": [
    {
     "data": {
      "text/plain": [
       "['A', 'C', 'E', 'F']"
      ]
     },
     "execution_count": 12,
     "metadata": {},
     "output_type": "execute_result"
    },
    {
     "data": {
      "text/plain": [
       "['A', 'D']"
      ]
     },
     "execution_count": 12,
     "metadata": {},
     "output_type": "execute_result"
    },
    {
     "data": {
      "text/plain": [
       "['A', 'B', 'C']"
      ]
     },
     "execution_count": 12,
     "metadata": {},
     "output_type": "execute_result"
    }
   ],
   "source": [
    "# List of integers\n",
    "list(compress('ABCDEF', [1, 0, 1, 0, 1, 1]))\n",
    "# List of booleans\n",
    "# Execution stops when the shortest iterable exhausts\n",
    "list(compress('ABCDEF', [True, False, False, True]))\n",
    "# The truth values of strings are True\n",
    "list(compress('ABCDEF', ['string', 'true', 'false']))"
   ]
  },
  {
   "cell_type": "markdown",
   "metadata": {},
   "source": [
    "## count\n",
    "\n",
    "* `itertools.count(start=0, step=1)`\n",
    "\n",
    "This generator function makes an iterator that returns evenly spaced values starting with the number `start`. This is often used as an argument to `map(func, *iterables)` to generate consecutive data points. Also, this could be used with `zip()` to add sequence numbers."
   ]
  },
  {
   "cell_type": "code",
   "execution_count": 2,
   "metadata": {},
   "outputs": [],
   "source": [
    "def count(start: int=0, step: int=1) -> Generator:\n",
    "    # Initialize first element\n",
    "    n = start\n",
    "    while True:\n",
    "        # First yield returns the first item\n",
    "        yield n\n",
    "        # When the function resumes, add 'step' to 'n' and yield the next item  \n",
    "        n += step"
   ]
  },
  {
   "cell_type": "code",
   "execution_count": 18,
   "metadata": {},
   "outputs": [
    {
     "data": {
      "text/plain": [
       "<generator object count at 0x10d5db430>"
      ]
     },
     "execution_count": 18,
     "metadata": {},
     "output_type": "execute_result"
    },
    {
     "name": "stdout",
     "output_type": "stream",
     "text": [
      "10 11 12 13 14 15 16 17 18 19 20 21 22 23 24 25 26 27 28 29 30 "
     ]
    }
   ],
   "source": [
    "# Generator \n",
    "count(10)\n",
    "for item in count(10):\n",
    "    if item <= 30:\n",
    "        print(item, end=' ')\n",
    "    else:\n",
    "        break\n"
   ]
  },
  {
   "cell_type": "code",
   "execution_count": 27,
   "metadata": {},
   "outputs": [
    {
     "name": "stdout",
     "output_type": "stream",
     "text": [
      "(0, 'John')\n",
      "(1, 'Marie')\n",
      "(2, 'Jack')\n",
      "(3, 'Anna')\n"
     ]
    },
    {
     "data": {
      "text/plain": [
       "(0, 'John')"
      ]
     },
     "execution_count": 27,
     "metadata": {},
     "output_type": "execute_result"
    },
    {
     "data": {
      "text/plain": [
       "(1, 'Marie')"
      ]
     },
     "execution_count": 27,
     "metadata": {},
     "output_type": "execute_result"
    },
    {
     "data": {
      "text/plain": [
       "(2, 'Jack')"
      ]
     },
     "execution_count": 27,
     "metadata": {},
     "output_type": "execute_result"
    },
    {
     "data": {
      "text/plain": [
       "(3, 'Anna')"
      ]
     },
     "execution_count": 27,
     "metadata": {},
     "output_type": "execute_result"
    }
   ],
   "source": [
    "list = ['John', 'Marie', 'Jack', 'Anna']\n",
    "# Zip finishes when the shorter iterable 'list' is exhausted\n",
    "# This emulates the enumerate function \n",
    "for i in zip(count(), list):\n",
    "    print(i)\n",
    "# Enumerate\n",
    "for index, name in enumerate(list):\n",
    "    index, name"
   ]
  },
  {
   "cell_type": "code",
   "execution_count": 9,
   "metadata": {},
   "outputs": [
    {
     "name": "stdout",
     "output_type": "stream",
     "text": [
      "0.0 2.3423343234234 4.6846686468468 7.027002970270201 9.3693372936936 11.711671617117002 14.054005940540401 16.3963402639638 18.7386745873872 21.081008910810603 23.423343234234004 25.7656775576574 28.108011881080802 "
     ]
    }
   ],
   "source": [
    "# For counting with floating point numbers, better accuracy can sometimes be achieved by\n",
    "for item in (0 + 2.3423343234234 * i for i in count()):\n",
    "    if item > 30:\n",
    "        break\n",
    "    print(item, end=' ')"
   ]
  },
  {
   "cell_type": "code",
   "execution_count": 5,
   "metadata": {},
   "outputs": [
    {
     "data": {
      "text/plain": [
       "['', 'Yang', 'YangYang', 'YangYangYang', 'YangYangYangYang']"
      ]
     },
     "execution_count": 5,
     "metadata": {},
     "output_type": "execute_result"
    }
   ],
   "source": [
    "# Multiply each element of ['Yang', 'Yang', ...] by increasing number of times\n",
    "list(map(operator.mul, ['Yang'] * 5, count()))"
   ]
  },
  {
   "cell_type": "markdown",
   "metadata": {},
   "source": [
    "## Cycle\n",
    "\n",
    "* `itertools.cycle(iterable)`\n",
    "\n",
    "This function makes an iterator that returns the elements from the `iterable` and saves a copy of each. When the `iterable` is exhausted, it return elements from the saved copy. This function repeats indefinitely, and so we must place in a routine that terminates the generation flow conditionally."
   ]
  },
  {
   "cell_type": "code",
   "execution_count": 6,
   "metadata": {},
   "outputs": [],
   "source": [
    "def cycle(iterable: Iterable) -> Generator:\n",
    "    # Instantiate container\n",
    "    saved = []\n",
    "    \n",
    "    # This first loop yields through the elements in 'iterable' for the first time\n",
    "    # It also saves a copy of each element to the container list\n",
    "    for element in iterable:\n",
    "        # First yield the element \n",
    "        yield element\n",
    "        # When the function resumes, append the yielded element to the container\n",
    "        saved.append(element)\n",
    "        \n",
    "    # The second loop will always be true since 'saved' will never be empty\n",
    "    # This second loop yields through 'saved' repeatedly\n",
    "    # After the function resumes, it picks up in this loop and never returns to the first loop above\n",
    "    while saved:\n",
    "        for element in saved:\n",
    "              # Yield the value in saved repeatedly\n",
    "              yield element"
   ]
  },
  {
   "cell_type": "code",
   "execution_count": 11,
   "metadata": {},
   "outputs": [
    {
     "data": {
      "text/plain": [
       "<generator object cycle at 0x10ad544a0>"
      ]
     },
     "execution_count": 11,
     "metadata": {},
     "output_type": "execute_result"
    }
   ],
   "source": [
    "# Generator\n",
    "cycle('ABCD')\n",
    "    "
   ]
  },
  {
   "cell_type": "code",
   "execution_count": 20,
   "metadata": {},
   "outputs": [
    {
     "name": "stdout",
     "output_type": "stream",
     "text": [
      "I\n",
      "Love\n",
      "Python\n",
      "I\n",
      "Love\n",
      "Python\n",
      "I\n",
      "Love\n",
      "Python\n",
      "I\n"
     ]
    }
   ],
   "source": [
    "counter = 1\n",
    "for element in cycle(['I', 'Love', 'Python']):\n",
    "    \n",
    "    # Break condition\n",
    "    if(counter > 10):\n",
    "        break\n",
    "    \n",
    "    print(element, end=\"\\n\")\n",
    "    counter += 1"
   ]
  },
  {
   "cell_type": "markdown",
   "metadata": {},
   "source": [
    "## dropwhile\n",
    "\n",
    "* `itertools.dropwhile(predicate, iterable)`\n",
    "\n",
    "This function makes an iterator that drops elements from the `iterable` as long as the `predicate` function returns `True`. After the first `False`, it returns every single element regardless of the output of the predicate function. Note, the iterator does not produce any output until the predicate first becomes false, so it may have a lengthy start-up time."
   ]
  },
  {
   "cell_type": "code",
   "execution_count": 24,
   "metadata": {},
   "outputs": [],
   "source": [
    "def dropwhile(predicate, iterable: Iterable) -> Generator:\n",
    "    # Obtain the iterator using the built-in function in 3.x\n",
    "    iterable = iter(iterable)\n",
    "    \n",
    "    for x in iterable:\n",
    "        # If predicate(x) == True, then not predicate(x) == False\n",
    "        # If predicate(x) == False, then not predicate(x) == True\n",
    "        if not predicate(x):\n",
    "            # So, only yield if predicate(x) == False\n",
    "            yield x\n",
    "            # Once that first value is yielded, this loop will break after the function resumes\n",
    "            break\n",
    "        \n",
    "    for x in iterable:\n",
    "        # Once the first False element is yielded, we yield every single element thereafter\n",
    "        yield x"
   ]
  },
  {
   "cell_type": "code",
   "execution_count": 37,
   "metadata": {},
   "outputs": [
    {
     "data": {
      "text/plain": [
       "(57.87135168206207,\n",
       " 29.90546943490394,\n",
       " 71.75375295594574,\n",
       " 70.82106152077905,\n",
       " 52.43385551038934,\n",
       " 68.04273188857901,\n",
       " 25.36840142979519,\n",
       " 13.606708178484809,\n",
       " 29.192562168455474,\n",
       " 79.27737198395256)"
      ]
     },
     "execution_count": 37,
     "metadata": {},
     "output_type": "execute_result"
    }
   ],
   "source": [
    "# A numpy array supports the iterator protocol\n",
    "# A numpy array is an iterable and not an iterator\n",
    "tuple(dropwhile(predicate=lambda x: x < 50, iterable=normal(loc=50, scale=25, size=10)))"
   ]
  },
  {
   "cell_type": "markdown",
   "metadata": {},
   "source": [
    "## filterfalse\n",
    "\n",
    "* `itertools.filterfalse(predicate, iterable)`\n",
    "\n",
    "This function makes an iterator that filters elements from `iterable`, returning only those for which the `predicate` returns `False`. If the `predicate` returns `None`, the generator considers such element as `False`. This is because `None` is a special type that returns `False` when evaluated as boolean. If the `predicate` is actually a `None`, then the generator returns elements that are `False`."
   ]
  },
  {
   "cell_type": "code",
   "execution_count": 60,
   "metadata": {},
   "outputs": [],
   "source": [
    "def filterfalse(predicate, iterable: Iterable) -> Generator:\n",
    "    # If the predicate is None\n",
    "    if predicate is None:\n",
    "        # Instantiate a bool class object and point the name 'predicate' to the instance\n",
    "        # In this case, predicate(x) will always evaluate to True\n",
    "        predicate = bool\n",
    "    for x in iterable:\n",
    "        # If predicate(x) == False\n",
    "        if not predicate(x):\n",
    "            # Yield the value \n",
    "            yield x"
   ]
  },
  {
   "cell_type": "code",
   "execution_count": 61,
   "metadata": {},
   "outputs": [
    {
     "data": {
      "text/plain": [
       "[True, True, None, None, None, None]"
      ]
     },
     "execution_count": 61,
     "metadata": {},
     "output_type": "execute_result"
    }
   ],
   "source": [
    "# The last four elements of the lambda below returns None's\n",
    "[True if isinstance(x, int) and x < 3 else None for x in [1, 2, 3, 'sdf', 'sdf', 3]]"
   ]
  },
  {
   "cell_type": "code",
   "execution_count": 62,
   "metadata": {},
   "outputs": [
    {
     "data": {
      "text/plain": [
       "[3, 'sdf', 'sdf', 3]"
      ]
     },
     "execution_count": 62,
     "metadata": {},
     "output_type": "execute_result"
    }
   ],
   "source": [
    "# None's are evaluated as False\n",
    "list(\n",
    "    filterfalse(\n",
    "        predicate=lambda x: True if isinstance(x, int) and x < 3 else None, \n",
    "        iterable=[1, 2, 3, 'sdf', 'sdf', 3]\n",
    "    )\n",
    ")"
   ]
  },
  {
   "cell_type": "code",
   "execution_count": 66,
   "metadata": {},
   "outputs": [
    {
     "data": {
      "text/plain": [
       "[]"
      ]
     },
     "execution_count": 66,
     "metadata": {},
     "output_type": "execute_result"
    }
   ],
   "source": [
    "# Since 'predicate' is None, the generator returns an empty list as no element evaluates to false\n",
    "list(filterfalse(predicate=None, iterable=[1, 2, 3, 'sdf', 'sdf', 3]))"
   ]
  },
  {
   "cell_type": "code",
   "execution_count": 67,
   "metadata": {},
   "outputs": [
    {
     "data": {
      "text/plain": [
       "[False, False]"
      ]
     },
     "execution_count": 67,
     "metadata": {},
     "output_type": "execute_result"
    }
   ],
   "source": [
    "# Since 'predicate' is None, the generator returns the false elements\n",
    "list(filterfalse(predicate=None, iterable=[1, 2, False, 'sdf', 'sdf', False]))"
   ]
  },
  {
   "cell_type": "markdown",
   "metadata": {},
   "source": [
    "## groupby\n",
    "\n",
    "* `itertools.groupby(iterable, key=None)`\n",
    "\n",
    "This function makes an `iterator` that returns consecutive \"keys\" and \"groups\" from the `iterable`. The `key` is a function computing a `key` value for each element. If not specified or supplied a `None`, the `key` argument defaults to an identity function that returns the element unchanged. Generally, the `iterable` needs to already be sorted on the same `key` function.\n",
    "\n",
    "The function returns an object of class `itertools.groupby`."
   ]
  },
  {
   "cell_type": "code",
   "execution_count": 70,
   "metadata": {},
   "outputs": [],
   "source": [
    "class groupby:\n",
    "    \"\"\"\n",
    "    The groupby class from the iterator module.\n",
    "    \n",
    "    Attributes:\n",
    "            keyfunc (callable): A function computing a key value for each element of iterable.\n",
    "            it (iterator): Iterator obtain from the input iterable.\n",
    "    \"\"\"\n",
    "    # Constructor\n",
    "    def __init__(self, iterable: Iterable, key=None):\n",
    "        # Identity function\n",
    "        if key is None:\n",
    "            key = lambda x: x\n",
    "        self.keyfunc = key\n",
    "        self.it = iter(iterable)\n",
    "        # The object() function returns an empty object\n",
    "        # We cannot add new properties or methods to this object\n",
    "        # This object is the base for all classes\n",
    "        self.tgtkey = self.currkey = self.currvalue = object()\n",
    "        \n",
    "    def __iter__(self):\n",
    "        return self\n",
    "    \n",
    "    def __next__(self):\n",
    "        # Each time the next method is called on the 'groupby' instance, the id is set to an empty object\n",
    "        self.id = object()\n",
    "        # After the each iteration of the while loop, 'self.currkey' will be updated but 'self.tgtkey' is not updated\n",
    "        # Thus, for the very next iteration, 'self.tgtkey = self.currkey' will evaluate to False and while exits\n",
    "        while self.currkey == self.tgtkey:\n",
    "            # Call the next method of the iterator and update the attribute 'self.currvalue'\n",
    "            # Another exit for the while loop is if 'self.it' is exhausted, StopIteration is raised\n",
    "            self.currvalue = next(self.it)   \n",
    "            # Compute the key value for the current 'self.currvalue' and update the attribute 'self.currkey'\n",
    "            self.currkey = self.keyfunc(self.currvalue)\n",
    "        \n",
    "        # Once the while loop exits due to 'self.tgtkey = self.currkey' evaluating to False, update 'self.tgtkey' to 'self.currkey'\n",
    "        self.tgtkey = self.currkey\n",
    "        # Finally return a tuple containing the current key, and the current value returned by the '_grouper' private method for the current element\n",
    "        return (self.currkey, self._grouper(self.tgtkey, self.id))\n",
    "    \n",
    "    def _grouper(self, tgtkey, id):\n",
    "        # The 'tgtkey' argument is passed by reference from the execution context in the '__next__' method above\n",
    "        # The __next__ method first obtains the next element of the iterator via `self.currvalue = next(self.it)`\n",
    "        # Then, it computes the key for that element via `self.currkey = self.keyfunc(self.currvalue)`\n",
    "        # Finally, it sets `self.tgtkey = self.currkey``\n",
    "        # Therefore, self.currkey == tgtkey (which references the same object as self.tgtkey) should be True\n",
    "        while self.id is id and self.currkey == tgtkey:\n",
    "            # If self.id is an empty object and currkey == tgtkey, yield the current value\n",
    "            yield self.currvalue\n",
    "            # Once the function resumes, try to obtain the next element of the iterator\n",
    "            try:\n",
    "                # Update the current value if 'self.it' is not yet exhausted\n",
    "                self.currvalue = next(self.it)\n",
    "            except StopIteration:\n",
    "                return\n",
    "            # This line runs if next(self.it) did not raise StopIteration\n",
    "            # Compute the new key value for the updated current value of the iterator\n",
    "            self.currkey = self.keyfunc(self.currvalue)"
   ]
  },
  {
   "cell_type": "markdown",
   "metadata": {},
   "source": [
    "### Example 1"
   ]
  },
  {
   "cell_type": "code",
   "execution_count": 76,
   "metadata": {},
   "outputs": [
    {
     "name": "stdout",
     "output_type": "stream",
     "text": [
      "a : [('a', 1), ('a', 2)]\n",
      "b : [('b', 3), ('b', 4)]\n"
     ]
    }
   ],
   "source": [
    "# Iterable\n",
    "L = [(\"a\", 1), (\"a\", 2), (\"b\", 3), (\"b\", 4)]\n",
    "  \n",
    "# Key function obtains the first element of each tuple in 'L', which is a string\n",
    "key_func = lambda x: x[0]\n",
    "  \n",
    "for key, group in groupby(L, key_func):\n",
    "    print(key + \" :\", list(group))"
   ]
  },
  {
   "cell_type": "markdown",
   "metadata": {},
   "source": [
    "### Example 2"
   ]
  },
  {
   "cell_type": "code",
   "execution_count": 92,
   "metadata": {},
   "outputs": [
    {
     "name": "stdout",
     "output_type": "stream",
     "text": [
      "A bear is a animal.\n",
      "A duck is a animal.\n",
      "A cactus is a plant.\n",
      "A speed boat is a vehicle.\n",
      "A school bus is a vehicle.\n"
     ]
    }
   ],
   "source": [
    "objects = [(\"animal\", \"bear\"), (\"plant\", \"cactus\"), (\"vehicle\", \"speed boat\"), (\"animal\", \"duck\"), (\"vehicle\", \"school bus\")]\n",
    "\n",
    "# Sort by the first element of each tuple element in 'objects'\n",
    "# The lambda function extracts the key for each element in 'objects'\n",
    "objects = sorted(objects, key=lambda x: x[0])\n",
    "\n",
    "for key, group in groupby(objects, lambda x: x[0]):\n",
    "    for object in group:\n",
    "        print(\"A %s is a %s.\" % (object[1], key))"
   ]
  },
  {
   "cell_type": "markdown",
   "metadata": {},
   "source": [
    "The operation of `groupby()` is similar to the `uniq` filter in Unix. It generates a new group every time the value of the key function changes, which is why it is usually necessary to have sorted the data using the same key function. On the other hand, if we have unsorted data, then there would be more than necessary number of new groups generated. For the sequence created above, we have the following unsorted keys:\n",
    "\n",
    "* `('animal', 'plant', 'vehicle', 'animal', 'vehicle')`\n",
    "\n",
    "In this case, the function will generate a new group four times, since the key value changes four times from animal $\\rightarrow$ plant $\\rightarrow$ vehicle $\\rightarrow$ animal $\\rightarrow$ vehicle. Sorted keys are as follows:\n",
    "\n",
    "* `('animal', 'animal', 'plant', 'vehicle', 'vehicle')`\n",
    "\n",
    "The function would only generate a new group two times--- animal $\\rightarrow$ plant $\\rightarrow$ vehicle. This behavior differs from SQL’s GROUP BY, which aggregates common elements regardless of their input order. \n",
    "\n",
    "## islice\n",
    "\n",
    "* `itertools.islice(iterable, start, stop[, step])`\n",
    "\n",
    "This function creates an iterator that returns selected elements from the `iterable`. If `start` is non-zero, then the elements from the `iterable` are skipped until `start` position is reached. After `start` is reached, the elements are returned consecutively unless `step` is set higher than one, in which case elements are skipped. If `stop` is `None`, then the iteration continues until the iterator is exhausted; otherwise, it stops at the specified position if `stop` is supplied. Unlike regular slicing, `islice()` does not support negative values for `start`, `stop`, or `step`."
   ]
  },
  {
   "cell_type": "code",
   "execution_count": 10,
   "metadata": {},
   "outputs": [],
   "source": [
    "def islice(iterable: Iterable, *args) -> Generator:\n",
    "    # The *args collects remaining positional arguments in a tuple\n",
    "    # A slice object has attributes, start, stop, and step\n",
    "    s = slice(*args)\n",
    "    # Tuple assignment, if any of the attributes is None, the defaults for start, stop, step are 0, sys.maxsize, and 1\n",
    "    # The sys.maxsize attribute fetches the largest value a variable of data type 'Py_ssize_t' can store for the platform\n",
    "    start, stop, step = s.start or 0, s.stop or sys.maxsize, s.step or 1\n",
    "    \n",
    "    # Obtain iterator from sequence\n",
    "    # If step is not 1, this iterator will reflect that \n",
    "    it = iter(range(start, stop, step))\n",
    "    \n",
    "    # Try to call the iterator's next method\n",
    "    try:\n",
    "        # Get the positional index of 'start'\n",
    "        nexti = next(it)\n",
    "    # If exhausted, it means that 'start' is the same as or larger than 'stop', and we cannot advance with next() \n",
    "    except StopIteration:\n",
    "        # Consume *iterable* up to the *start* position with pass\n",
    "        # Zip finishes when the shorter `range(start)` iterable is exhausted\n",
    "        for i, element in zip(range(start), iterable):\n",
    "            pass\n",
    "        return\n",
    "    \n",
    "    try:\n",
    "        # Enumerate returns the 'positional index' and the 'element' of the iterable\n",
    "        for i, element in enumerate(iterable):\n",
    "            # Only yield the element once the positional index of 'start' is reached \n",
    "            if i == nexti:\n",
    "                yield element\n",
    "                # Once the function resumes, call the next method to advance, and move on to the iteration of the for loop\n",
    "                nexti = next(it)\n",
    "    except StopIteration:\n",
    "        # Once the iterator is exhausted, consume to *stop* position.\n",
    "        for i, element in zip(range(i + 1, stop), iterable):\n",
    "            pass"
   ]
  },
  {
   "cell_type": "markdown",
   "metadata": {},
   "source": [
    "### Examples"
   ]
  },
  {
   "cell_type": "code",
   "execution_count": 26,
   "metadata": {},
   "outputs": [
    {
     "data": {
      "text/plain": [
       "'AB'"
      ]
     },
     "execution_count": 26,
     "metadata": {},
     "output_type": "execute_result"
    },
    {
     "data": {
      "text/plain": [
       "['A', 'B']"
      ]
     },
     "execution_count": 26,
     "metadata": {},
     "output_type": "execute_result"
    }
   ],
   "source": [
    "# Built-in slicing\n",
    "'ABCDEFG'[:2]\n",
    "# Itertools with start, stop, step as 0, 2, and 1\n",
    "list(islice('ABCDEFG', 2))"
   ]
  },
  {
   "cell_type": "code",
   "execution_count": 20,
   "metadata": {},
   "outputs": [
    {
     "data": {
      "text/plain": [
       "'CDEFG'"
      ]
     },
     "execution_count": 20,
     "metadata": {},
     "output_type": "execute_result"
    },
    {
     "data": {
      "text/plain": [
       "['A', 'B']"
      ]
     },
     "execution_count": 20,
     "metadata": {},
     "output_type": "execute_result"
    }
   ],
   "source": [
    "# Built-in slicing\n",
    "'ABCDEFG'[2:sys.maxsize:1]\n",
    "# Itertools with start, stop, step as 2, sys.maxsize, and 1\n",
    "list(islice('ABCDEFG', 2, sys.maxsize, 1))"
   ]
  },
  {
   "cell_type": "code",
   "execution_count": 23,
   "metadata": {},
   "outputs": [
    {
     "data": {
      "text/plain": [
       "'CD'"
      ]
     },
     "execution_count": 23,
     "metadata": {},
     "output_type": "execute_result"
    },
    {
     "data": {
      "text/plain": [
       "['C', 'D']"
      ]
     },
     "execution_count": 23,
     "metadata": {},
     "output_type": "execute_result"
    }
   ],
   "source": [
    "# Built-in slicing\n",
    "'ABCDEFG'[2:4:1]\n",
    "# Itertools with start, stop, step as 2, 4, and 1\n",
    "list(islice('ABCDEFG', 2, 4, 1))"
   ]
  },
  {
   "cell_type": "code",
   "execution_count": 30,
   "metadata": {},
   "outputs": [
    {
     "data": {
      "text/plain": [
       "'ACEG'"
      ]
     },
     "execution_count": 30,
     "metadata": {},
     "output_type": "execute_result"
    },
    {
     "data": {
      "text/plain": [
       "['A', 'C', 'E', 'G']"
      ]
     },
     "execution_count": 30,
     "metadata": {},
     "output_type": "execute_result"
    }
   ],
   "source": [
    "# Built-in slicing\n",
    "'ABCDEFG'[0:sys.maxsize:2]\n",
    "# Itertools with start, stop, step as 0, sys.maxsize, and 2\n",
    "list(islice('ABCDEFG', 0, None, 2))"
   ]
  }
 ],
 "metadata": {
  "interpreter": {
   "hash": "aa9b2e6bdcb8968c6d10db2e0d5683f090ebf92f3ed72dc81de49ae715e3557f"
  },
  "kernelspec": {
   "display_name": "Python 3.9.12 ('python_automation')",
   "language": "python",
   "name": "python3"
  },
  "language_info": {
   "codemirror_mode": {
    "name": "ipython",
    "version": 3
   },
   "file_extension": ".py",
   "mimetype": "text/x-python",
   "name": "python",
   "nbconvert_exporter": "python",
   "pygments_lexer": "ipython3",
   "version": "3.9.12"
  },
  "orig_nbformat": 4
 },
 "nbformat": 4,
 "nbformat_minor": 2
}
