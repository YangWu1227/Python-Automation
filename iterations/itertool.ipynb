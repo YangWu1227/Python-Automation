{
 "cells": [
  {
   "cell_type": "code",
   "execution_count": 28,
   "metadata": {},
   "outputs": [],
   "source": [
    "from IPython.core.interactiveshell import InteractiveShell\n",
    "InteractiveShell.ast_node_interactivity = \"all\"\n",
    "# Standard library\n",
    "import operator\n",
    "from typing import Iterable, Any, Callable, Generator\n",
    "# Others\n",
    "from numpy.random import normal"
   ]
  },
  {
   "cell_type": "markdown",
   "metadata": {},
   "source": [
    "## accumulate\n",
    "\n",
    "* `itertools.accumulate(iterable[, func, *, initial=None])`\n",
    "\n",
    "Make an iterator that returns accumulated sums, or accumulated results of other binary functions (specified via the optional func argument).\n",
    "\n",
    "If `func` is supplied, it should be a function of two arguments. Elements of the input iterable may be any type that can be accepted as arguments to func. (For example, with the default operation of addition, elements may be any addable type including Decimal or Fraction.)\n",
    "\n",
    "Usually, **the number of elements output matches the input iterable**. However, if the keyword argument `initial` is provided, the accumulation leads off with the initial value so that the output has one more element than the input iterable."
   ]
  },
  {
   "cell_type": "code",
   "execution_count": 49,
   "metadata": {},
   "outputs": [],
   "source": [
    "def accumulate(iterable: Iterable, func=operator.add, *, initial=None) -> Generator:\n",
    "    # Obtain iterator from iterable\n",
    "    it = iter(iterable)\n",
    "    # Initialize total\n",
    "    total = initial\n",
    "    # If no initial value is passed by user\n",
    "    if initial is None:\n",
    "        try:\n",
    "            # Set total as the first value returned by the iterator's next method\n",
    "            total = next(it)\n",
    "            # Raise StopIteration of iterator is exhausted\n",
    "        except StopIteration:\n",
    "            return\n",
    "    # First yield to start the generator\n",
    "    yield total\n",
    "    # Once the function resumes, begin the loop to use the iterator protocol, calling 'it.__next__()'\n",
    "    for element in it:\n",
    "        # The left argument is the previously accumulated value and the right is the update value, \n",
    "        # This produces the new accumulated value of the current iteration, to which the name 'total' is rebound\n",
    "        total = func(total, element)\n",
    "        # Yield the current total to caller\n",
    "        yield total"
   ]
  },
  {
   "cell_type": "markdown",
   "metadata": {},
   "source": [
    "### Running statistics"
   ]
  },
  {
   "cell_type": "code",
   "execution_count": 53,
   "metadata": {},
   "outputs": [
    {
     "data": {
      "text/plain": [
       "<generator object accumulate at 0x1138a6a50>"
      ]
     },
     "execution_count": 53,
     "metadata": {},
     "output_type": "execute_result"
    }
   ],
   "source": [
    "# Data\n",
    "data = [3, 4, 6, 2, 1, 9, 0, 7, 5, 8]\n",
    "# Returns a iterator\n",
    "accumulate(data)"
   ]
  },
  {
   "cell_type": "code",
   "execution_count": 10,
   "metadata": {},
   "outputs": [
    {
     "data": {
      "text/plain": [
       "[3, 12, 72, 144, 144, 1296, 0, 0, 0, 0]"
      ]
     },
     "execution_count": 10,
     "metadata": {},
     "output_type": "execute_result"
    },
    {
     "data": {
      "text/plain": [
       "[3, 4, 6, 6, 6, 9, 9, 9, 9, 9]"
      ]
     },
     "execution_count": 10,
     "metadata": {},
     "output_type": "execute_result"
    },
    {
     "data": {
      "text/plain": [
       "[3, 7, 13, 15, 16, 25, 25, 32, 37, 45]"
      ]
     },
     "execution_count": 10,
     "metadata": {},
     "output_type": "execute_result"
    }
   ],
   "source": [
    "# Running product\n",
    "list(accumulate(data, operator.mul)) \n",
    "# Runing maximum\n",
    "list(accumulate(data, max))\n",
    "# Running sum\n",
    "list(accumulate(data))"
   ]
  },
  {
   "cell_type": "markdown",
   "metadata": {},
   "source": [
    "### Finance \n",
    "\n",
    "* $1000 * 1.05 + (-90) = 960$\n",
    "\n",
    "* $960 * 1.05 + (-90) = 918$\n",
    "\n",
    "* $918 * 1.05 + (-90) = 873.9$\n",
    "\n",
    "* $...$"
   ]
  },
  {
   "cell_type": "code",
   "execution_count": 12,
   "metadata": {},
   "outputs": [
    {
     "data": {
      "text/plain": [
       "[1000, 960.0, 918.0, 873.9000000000001, 827.5950000000001]"
      ]
     },
     "execution_count": 12,
     "metadata": {},
     "output_type": "execute_result"
    }
   ],
   "source": [
    "cashflows = [1000, -90, -90, -90, -90]\n",
    "# Amortize a 5% loan of 1000 with 4 annual payments of 90\n",
    "list(accumulate(cashflows, lambda balance, payment: balance * 1.05 + payment))"
   ]
  },
  {
   "cell_type": "markdown",
   "metadata": {},
   "source": [
    "### Chaotic recurrence relation\n",
    "\n",
    "* $x_{n+1}=r x_{n}\\left(1-x_{n}\\right)$\n",
    "\n",
    "* $0.4$\n",
    "\n",
    "* $3.8 * 0.4 * (1 - 0.4) = 0.912$\n",
    "\n",
    "* $3.8 * 0.912 * (1 - 0.912) = 0.305$\n",
    "\n",
    "* $3.8 * 0.305 * (1 - 0.305) = 0.805$\n",
    "\n",
    "* $...$"
   ]
  },
  {
   "cell_type": "code",
   "execution_count": 26,
   "metadata": {},
   "outputs": [
    {
     "data": {
      "text/plain": [
       "['0.40',\n",
       " '0.91',\n",
       " '0.30',\n",
       " '0.81',\n",
       " '0.60',\n",
       " '0.92',\n",
       " '0.29',\n",
       " '0.79',\n",
       " '0.63',\n",
       " '0.88',\n",
       " '0.39',\n",
       " '0.90',\n",
       " '0.33',\n",
       " '0.84',\n",
       " '0.52',\n",
       " '0.95',\n",
       " '0.18',\n",
       " '0.57',\n",
       " '0.93',\n",
       " '0.25',\n",
       " '0.71',\n",
       " '0.79',\n",
       " '0.63',\n",
       " '0.88',\n",
       " '0.39',\n",
       " '0.91',\n",
       " '0.32',\n",
       " '0.83',\n",
       " '0.54',\n",
       " '0.95',\n",
       " '0.20',\n",
       " '0.60',\n",
       " '0.91',\n",
       " '0.30',\n",
       " '0.80',\n",
       " '0.60']"
      ]
     },
     "execution_count": 26,
     "metadata": {},
     "output_type": "execute_result"
    }
   ],
   "source": [
    "# Chaotic recurrence relation https://en.wikipedia.org/wiki/Logistic_map\n",
    "# Notice that the update value is not used in the actual function\n",
    "logistic_map = lambda accumulated, update:  r * accumulated * (1 - accumulated)\n",
    "# Variables\n",
    "r = 3.8\n",
    "x0 = 0.4\n",
    "# Initialize inputs\n",
    "inputs = [x0] * 36   \n",
    "# This works since each iteration remembers the current total value\n",
    "[format(x, '.2f') for x in accumulate(inputs, logistic_map)]"
   ]
  },
  {
   "cell_type": "markdown",
   "metadata": {},
   "source": [
    "## reduce\n",
    "\n",
    "* `functools.reduce(function, iterable[, initializer])`\n",
    "\n",
    "Apply function of two arguments cumulatively to the items of iterable, from left to right, so as to **reduce the iterable to a single value**. For example, `reduce(lambda x, y: x + y, [1, 2, 3, 4, 5])` calculates `((((1 + 2) + 3) + 4) + 5)`. The left argument, `x`, is the accumulated value and the right argument, `y`, is the update value from the iterable. If the optional `initializer` is present, it is placed before the items of the iterable in the calculation, and serves as a default when the iterable is empty. If `initializer` is not given and iterable contains only one item, the first item is returned."
   ]
  },
  {
   "cell_type": "code",
   "execution_count": 56,
   "metadata": {},
   "outputs": [],
   "source": [
    "def reduce(function, iterable: Iterable, initializer=None) -> Any:\n",
    "    # Obtain iterator from iterable\n",
    "    it = iter(iterable)\n",
    "    # If no initializer passed by user\n",
    "    if initializer is None:\n",
    "        # Set value as the first value returned by the iterator's next method\n",
    "        value = next(it)\n",
    "    else:\n",
    "        # Bind 'value' to the same object that 'initializer' references\n",
    "        value = initializer\n",
    "    # The iterator's 'next' method will be called in the loop to obtain the update value 'element' at each step\n",
    "    for element in it:\n",
    "        # The left argument is the previously accumulated value and the right is the update value, \n",
    "        # This produces the new accumulated value of the current iteration, to which the name 'value' is rebound\n",
    "        value = function(value, element)\n",
    "    return value"
   ]
  },
  {
   "cell_type": "markdown",
   "metadata": {},
   "source": [
    "## chain\n",
    "\n",
    "* `itertools.chain(*iterables)`\n",
    "\n",
    "Make an iterator that returns elements from the first iterable until it is exhausted, then proceeds to the next iterable, until all of the iterables are exhausted. Used for treating consecutive sequences as a single sequence. Notice that this function could only chain together iterables--- not *flatten* nested iterables."
   ]
  },
  {
   "cell_type": "code",
   "execution_count": 57,
   "metadata": {},
   "outputs": [],
   "source": [
    "# The *iterables form collects any extra unmatched positional arguments in a tuple\n",
    "# This essentially creates a tuple with an arbitrary number of iterables as elements--- Tuple[Iterable, ...]--- in the function body\n",
    "def chain(*iterables: Iterable) -> Generator:\n",
    "    # For loop calls the tuple object's iter method\n",
    "    # Each element of the 'iterables' tuple is an interable in and of itself\n",
    "    for it in iterables:\n",
    "        # For each iterable in the 'iterables' tuple, the for loop calls that iterable's iter method \n",
    "        for element in it:\n",
    "            # Yield the value of the element to the caller\n",
    "            yield element"
   ]
  },
  {
   "cell_type": "markdown",
   "metadata": {},
   "source": [
    "### Examples"
   ]
  },
  {
   "cell_type": "code",
   "execution_count": 36,
   "metadata": {},
   "outputs": [
    {
     "data": {
      "text/plain": [
       "<generator object chain at 0x11314e820>"
      ]
     },
     "execution_count": 36,
     "metadata": {},
     "output_type": "execute_result"
    }
   ],
   "source": [
    "chain('ABC', 'DEF')"
   ]
  },
  {
   "cell_type": "code",
   "execution_count": 41,
   "metadata": {},
   "outputs": [
    {
     "data": {
      "text/plain": [
       "('A', 'B', 'C', 'D', 'E', 'F')"
      ]
     },
     "execution_count": 41,
     "metadata": {},
     "output_type": "execute_result"
    },
    {
     "data": {
      "text/plain": [
       "(1, 2, 3, 4, 2, 3, 4, 5)"
      ]
     },
     "execution_count": 41,
     "metadata": {},
     "output_type": "execute_result"
    },
    {
     "data": {
      "text/plain": [
       "[3, 4, 'a', 'b', 'd', 2, 3, 4]"
      ]
     },
     "execution_count": 41,
     "metadata": {},
     "output_type": "execute_result"
    }
   ],
   "source": [
    "tuple(chain('ABC', 'DEF'))\n",
    "tuple(chain([1, 2, 3, 4], (2, 3, 4, 5)))\n",
    "list(chain([3, 4], 'abd', {2, 3, 4}))"
   ]
  },
  {
   "cell_type": "markdown",
   "metadata": {},
   "source": [
    "An alternate constructor for `chain()` is to get the chained inputs from a single iterable argument that is evaluated lazily (rather than an arbitrary number of iterables).\n",
    "\n",
    "* `chain.from_iterable(iterable)`"
   ]
  },
  {
   "cell_type": "code",
   "execution_count": 66,
   "metadata": {},
   "outputs": [],
   "source": [
    "# No unpacking into a tuple like *args, since it is a single iterable containing other iterables\n",
    "def from_iterable(iterables: Iterable[Iterable]) -> Generator:\n",
    "    # For loop calls the iterables' iter to step through the elements of 'iterables'\n",
    "    for it in iterables:\n",
    "        for element in it:\n",
    "            yield element"
   ]
  },
  {
   "cell_type": "markdown",
   "metadata": {},
   "source": [
    "### Examples"
   ]
  },
  {
   "cell_type": "code",
   "execution_count": 59,
   "metadata": {},
   "outputs": [
    {
     "data": {
      "text/plain": [
       "<generator object from_iterable at 0x11379bac0>"
      ]
     },
     "execution_count": 59,
     "metadata": {},
     "output_type": "execute_result"
    }
   ],
   "source": [
    "from_iterable(['ABC', 'DEF'])"
   ]
  },
  {
   "cell_type": "code",
   "execution_count": 64,
   "metadata": {},
   "outputs": [
    {
     "data": {
      "text/plain": [
       "['A', 'B', 'C', 'D', 'E', 'F']"
      ]
     },
     "execution_count": 64,
     "metadata": {},
     "output_type": "execute_result"
    },
    {
     "data": {
      "text/plain": [
       "['d', 'f', 'd', 2, 2, 4, 'abd']"
      ]
     },
     "execution_count": 64,
     "metadata": {},
     "output_type": "execute_result"
    }
   ],
   "source": [
    "list(from_iterable(['ABC', 'DEF']))\n",
    "list(from_iterable(['dfd', [2, 2, 4], ['abd']]))"
   ]
  },
  {
   "cell_type": "markdown",
   "metadata": {},
   "source": [
    "## combination\n",
    "\n",
    "* `itertools.combinations(iterable, r)`\n",
    "\n",
    "This function returns `r` length subsequences of elements from the input iterable.\n",
    "\n",
    "The combination tuples are emitted in lexicographic ordering according to the order of the input iterable. So, if the input iterable is sorted, the combination tuples will be produced in sorted order.\n",
    "\n",
    "Elements are treated as unique based on their position, not on their value. So if the input elements are unique, there will be no repeat values in each combination. On the other hand, if any value is repeated, the function will print similar combinations thinking each value is different.\n",
    "\n",
    "The implementation uses `for/else` loop:\n",
    "\n",
    "```\n",
    "for item in iterable:\n",
    "    if search_something(item):\n",
    "        # Found it!\n",
    "        process(item)\n",
    "        break\n",
    "else:\n",
    "    # Didn't find anything..\n",
    "    not_found_in_container()\n",
    "```\n",
    "\n",
    "The `else` keyword in a `for` loop specifies a block of code to be executed when the loop is finished. The first scenario is when the `break` is encountered. The second scenario is that the loop ends without encountering a `break` statement, in which case the code in the `else` block will be executed."
   ]
  },
  {
   "cell_type": "code",
   "execution_count": 118,
   "metadata": {},
   "outputs": [],
   "source": [
    "def combinations(iterable: Iterable, r: int) -> Generator:\n",
    "    # Pool of values\n",
    "    pool = tuple(iterable)\n",
    "    # Number of values in the pool\n",
    "    n = len(pool)\n",
    "    \n",
    "    # There are no ways of choosing 'r' objects from 'n' objects if r > n\n",
    "    if r > n:\n",
    "        return\n",
    "    \n",
    "    # Initialize indices [0, 1, 2, ..., (r - 2), (r - 1)] in the normal order\n",
    "    indices = list(range(r))\n",
    "    # First yield returns the first subsequence (combo) of size r \n",
    "    # This yields a tuple (pool[0], pool[1], ..., pool[r-1])\n",
    "    yield tuple(pool[i] for i in indices)\n",
    "    \n",
    "    while True:\n",
    "        for i in reversed(range(r)):\n",
    "            if indices[i] != i + n - r:\n",
    "                break\n",
    "        else:\n",
    "            # Run when loop finishes without break\n",
    "            return\n",
    "        indices[i] += 1\n",
    "        for j in range(i+1, r):\n",
    "            indices[j] = indices[j-1] + 1\n",
    "        yield tuple(pool[i] for i in indices)"
   ]
  },
  {
   "cell_type": "markdown",
   "metadata": {},
   "source": [
    "### Control flow\n",
    "\n",
    "---\n",
    "\n",
    "* `pool = (1, 3, 5)`\n",
    "\n",
    "* `n = 3`\n",
    "\n",
    "* `r = 2`\n",
    "\n",
    "* `indices = [0, 1]`\n",
    "\n",
    "* The first yielded combination is `(1, 3)`\n",
    "\n",
    "---\n",
    "\n",
    "```\n",
    " # Line 1    for i in reversed(range(r)):\n",
    " # Line 2         if indices[i] != i + n - r:\n",
    " # Line 3             break\n",
    " # Line 4    else:\n",
    " # Line 5        return\n",
    " # Line 6     indices[i] += 1\n",
    " # Line 7     for j in range(i+1, r):\n",
    " # Line 8         indices[j] = indices[j-1] + 1\n",
    " # Line 9    yield tuple(pool[i] for i in indices)\n",
    "```\n",
    "\n",
    "---\n",
    "\n",
    "1. In the first run, `indices = [0, 1]`:\n",
    "\n",
    "    - Line 1: `for i in reversed(range(2))`  is `for i in (1, 0)`\n",
    "    - Line 2: `i = 1`, so `indices[1] != 1 + 3 - 2` becomes `1 != 2`, which is `True`\n",
    "    - Line 3: `for` loop terminates with `break`\n",
    "    - Line 4: `else` block is not run\n",
    "    - Line 5: `else` block is not run\n",
    "    - Line 6: `for` does not localize variables, so `i = 1` and `indices[1] += 1` increments 1 by 1\n",
    "        - Updated `indices = [0, 2]`\n",
    "    - Line 7: `for j in range(1 + 1, 2)` is `range(2, 2) = []`, so `StopIteration` is raised and the loop finishes\n",
    "    - Line 8: `tuple(pool[i] for i in [0, 2])` yields `(1, 5)`\n",
    "\n",
    "The second combination is `(1, 5)`.\n",
    "\n",
    "---\n",
    "\n",
    "2. In the second run when the function picks back up, `indices = [0, 2]`:\n",
    "\n",
    "    - Line 1: `for i in reversed(range(2))`  is `for i in (1, 0)`\n",
    "    - Line 2: `i = 0`, so `indices[0] != 0 + 3 - 2` becomes `0 != 1`, which is `True`\n",
    "    - Line 3: `for` loop terminates with `break`\n",
    "    - Line 4: `else` block is not run\n",
    "    - Line 5: `else` block is not run\n",
    "    - Line 6: `for` does not localize variables, so `i = 0` and `indices[0] += 1` increments 0 by 1\n",
    "        - Updated `indices = [1, 2]`\n",
    "    - Line 7: `for j in range(0 + 1, 2)` is `range(1, 2) = [1]`, in which case `j = 1` and `indices[1] = indices[1 - 1] + 1` becomes `indices[1] = 1 + 1 = 2`\n",
    "        - Updated `indices = [1, 2]`\n",
    "    - Line 8: `tuple(pool[i] for i in [1, 2])` yields `(3, 5)`\n",
    "\n",
    "The second combination is `(3, 5)`.\n",
    "\n",
    "---\n",
    "\n",
    "1. In the third run when the function picks back up, `indices = [1, 2]`:\n",
    "\n",
    "    - Line 1: `for i in (1, 0)` exhausted the iterator, so a `StopIteration` is raised and the loop completes\n",
    "    - Line 4: `else` block is run since the loop finishes without `break`\n",
    "    - Line 5: `return` finishes the function and returns control to caller\n",
    "\n",
    "\n"
   ]
  },
  {
   "cell_type": "code",
   "execution_count": 249,
   "metadata": {},
   "outputs": [
    {
     "data": {
      "text/plain": [
       "[(1, 3), (1, 5), (3, 5)]"
      ]
     },
     "execution_count": 249,
     "metadata": {},
     "output_type": "execute_result"
    }
   ],
   "source": [
    "list(combinations((1, 3, 5), 2))"
   ]
  },
  {
   "cell_type": "markdown",
   "metadata": {},
   "source": [
    "To understand the `while` loop implementation, recall that:\n",
    "\n",
    "---\n",
    "\n",
    "* `pool = (1, 3, 5)`\n",
    "\n",
    "* `n = 3`\n",
    "\n",
    "* `r = 2`\n",
    "\n",
    "* `indices = [0, 1]`\n",
    "\n",
    "* The first yielded combination is `(1, 3)`\n",
    "\n",
    "---\n",
    "\n",
    "1. We need to understand that the job of the `while` loop is to increment the `indices` one after the other.\n",
    "\n",
    "2. The job of the `for i in reversed(range(r))` loop, where `list(reversed(range(r))) = [1, 0]`, is to ensure that we do not over-increment any of values in `[0, 1]`. What the loop precisely makes sure is that:\n",
    "  \n",
    "    - The value of `indices[i] = indices[r - 1]` cannot be greater than `n - 1`. This is because `r` (the number of objects to choose) cannot be greater than `n` (the largest possible number of objects to choose from). In our case, the largest index `1` in `[0, 1]` cannot exceed the largest possible index `2` in `0, 1, 2` where `n = 3`. In the general case, we obtain this largest possible index (the upper limit) using `n - 1` since python counts from 0.\n",
    "\n",
    "    - The value of `indices[i] = indices[r - 2]` cannot be greater than `n - 2`. In our case, the second largest index `0` in `[0, 1]` cannot exceed the second largest possible index `1` in `0, 1, 2`. In the general case, we obtain this second largest possible index using `n - 2`. The reasoning is the same: if we are to choose `r = 1` objects from among `n = 2` possible objects, the value `indices[r - 2] = [0, 1][0] = 0` cannot be greater than the largest index in `0, 1`, which is `1`.\n",
    "\n",
    "    - In the general case, we have `indices[r - k] < n - k`.\n",
    "\n",
    "    - Put another way, `n - 1` is upper limit (not inclusive) for incrementing the index `indices[r - 1]`; in our case, `2 (n - 1) > 1 (r - 1)` so we can increment `1` by 1 to get `2`. Then, `n - 2` is the upper limit (not inclusive) for incrementing the second index `indices[r - 2]`; again, in our case, `1 (n - 2) > 0 (r - 2)`, so we can increment `0` by 1 to get `1`. This same patterns continues.\n",
    "\n",
    "3. The looping variable `i` goes from `r - 1, r - 2, ..., r - k, ..., 2, 1,  0`, or `[1, 0]` in this case, we can substitute the `r - k` with `i` in the general equation above.\n",
    "\n",
    "\\begin{align}\n",
    "r - k &= i \\\\\n",
    "- k &= i - r \\\\\n",
    "k & = -i + r \\\\ \n",
    "k & = r - i\n",
    "\\end{align}\n",
    "\n",
    "1. The general case then becomes `indices[i] < n - (r - i)` $\\rightarrow$ `indices[i] < n - r + i`. The official python example uses `indices[i] != i + n - r`, which accomplishes the same thing. When `indices[i] == i + n - r` is `True`, it effectively covers all the cases where the limit `indices[i] < n - r + i` is violated.\n",
    "\n",
    "2. If `indices[i] != i + n - r` is `True`, it effectively means that we can safely increment `indices[i]` by 1.\n",
    "\n",
    "3. The loop `for j in range(i+1, r): indices[j] = indices[j-1] + 1` ensures that every time we increment an `indices[i]`, we set the indexes after `indices[i]` to their smallest possible values. This prevents us from missing out on any combination. For instance, suppose we have `(1, 3, 5, 7, 9)` as the iterable, `r = 3`, and the combination indices `[0, 2, 4]`. When we increment 2 to 3, the last index will be 4, in which case we would miss out on the `[0, 2, 3]` combination. But if we update the latter indices based on that the previous by incrementing 2 by 1 and assigning that value as the last index of `[0, 2, 4]` $\\rightarrow$ `[0, 2, 3]`, we effectively address the problem.\n",
    "\n",
    "4. Lastly, `tuple(pool[i] for i in indices)` simply yields the combination of each specific iteration of the `while` loop."
   ]
  },
  {
   "cell_type": "markdown",
   "metadata": {},
   "source": [
    "## compress\n",
    "\n",
    "* `itertools.compress(data, selectors)`\n",
    "\n",
    "This function makes an iterator that filters elements from `data`, returning only those that have a corresponding element in `selectors` that evaluates to True. Execution stops when either of the `data` or `selectors` iterables has been exhausted.\n",
    "\n"
   ]
  },
  {
   "cell_type": "code",
   "execution_count": 9,
   "metadata": {},
   "outputs": [],
   "source": [
    "def compress(data: Iterable, selectors: Iterable) -> Generator:\n",
    "    # Each 'd' from 'data' is returned if 's' in 'selector' is True or its truth value is True\n",
    "    # The truth value of 1 is true\n",
    "    return (d for d, s in zip(data, selectors) if s)"
   ]
  },
  {
   "cell_type": "code",
   "execution_count": 3,
   "metadata": {},
   "outputs": [
    {
     "data": {
      "text/plain": [
       "<generator object compress.<locals>.<genexpr> at 0x10ca30ac0>"
      ]
     },
     "execution_count": 3,
     "metadata": {},
     "output_type": "execute_result"
    }
   ],
   "source": [
    "# Generator\n",
    "compress('ABCDEF', [1,0,1,0,1,1])"
   ]
  },
  {
   "cell_type": "code",
   "execution_count": 12,
   "metadata": {},
   "outputs": [
    {
     "data": {
      "text/plain": [
       "['A', 'C', 'E', 'F']"
      ]
     },
     "execution_count": 12,
     "metadata": {},
     "output_type": "execute_result"
    },
    {
     "data": {
      "text/plain": [
       "['A', 'D']"
      ]
     },
     "execution_count": 12,
     "metadata": {},
     "output_type": "execute_result"
    },
    {
     "data": {
      "text/plain": [
       "['A', 'B', 'C']"
      ]
     },
     "execution_count": 12,
     "metadata": {},
     "output_type": "execute_result"
    }
   ],
   "source": [
    "# List of integers\n",
    "list(compress('ABCDEF', [1, 0, 1, 0, 1, 1]))\n",
    "# List of booleans\n",
    "# Execution stops when the shortest iterable exhausts\n",
    "list(compress('ABCDEF', [True, False, False, True]))\n",
    "# The truth values of strings are True\n",
    "list(compress('ABCDEF', ['string', 'true', 'false']))"
   ]
  },
  {
   "cell_type": "markdown",
   "metadata": {},
   "source": [
    "## count\n",
    "\n",
    "* `itertools.count(start=0, step=1)`\n",
    "\n",
    "This generator function makes an iterator that returns evenly spaced values starting with the number `start`. This is often used as an argument to `map(func, *iterables)` to generate consecutive data points. Also, this could be used with `zip()` to add sequence numbers."
   ]
  },
  {
   "cell_type": "code",
   "execution_count": 13,
   "metadata": {},
   "outputs": [],
   "source": [
    "def count(start: int=0, step: int=1) -> Generator:\n",
    "    # Initialize first element\n",
    "    n = start\n",
    "    while True:\n",
    "        # First yield returns the first item\n",
    "        yield n\n",
    "        # When the function resumes, add 'step' to 'n' and yield the next item  \n",
    "        n += step"
   ]
  },
  {
   "cell_type": "code",
   "execution_count": 18,
   "metadata": {},
   "outputs": [
    {
     "data": {
      "text/plain": [
       "<generator object count at 0x10d5db430>"
      ]
     },
     "execution_count": 18,
     "metadata": {},
     "output_type": "execute_result"
    },
    {
     "name": "stdout",
     "output_type": "stream",
     "text": [
      "10 11 12 13 14 15 16 17 18 19 20 21 22 23 24 25 26 27 28 29 30 "
     ]
    }
   ],
   "source": [
    "# Generator \n",
    "count(10)\n",
    "for item in count(10):\n",
    "    if item <= 30:\n",
    "        print(item, end=' ')\n",
    "    else:\n",
    "        break\n"
   ]
  },
  {
   "cell_type": "code",
   "execution_count": 27,
   "metadata": {},
   "outputs": [
    {
     "name": "stdout",
     "output_type": "stream",
     "text": [
      "(0, 'John')\n",
      "(1, 'Marie')\n",
      "(2, 'Jack')\n",
      "(3, 'Anna')\n"
     ]
    },
    {
     "data": {
      "text/plain": [
       "(0, 'John')"
      ]
     },
     "execution_count": 27,
     "metadata": {},
     "output_type": "execute_result"
    },
    {
     "data": {
      "text/plain": [
       "(1, 'Marie')"
      ]
     },
     "execution_count": 27,
     "metadata": {},
     "output_type": "execute_result"
    },
    {
     "data": {
      "text/plain": [
       "(2, 'Jack')"
      ]
     },
     "execution_count": 27,
     "metadata": {},
     "output_type": "execute_result"
    },
    {
     "data": {
      "text/plain": [
       "(3, 'Anna')"
      ]
     },
     "execution_count": 27,
     "metadata": {},
     "output_type": "execute_result"
    }
   ],
   "source": [
    "list = ['John', 'Marie', 'Jack', 'Anna']\n",
    "# Zip finishes when the shorter iterable 'list' is exhausted\n",
    "# This emulates the enumerate function \n",
    "for i in zip(count(), list):\n",
    "    print(i)\n",
    "# Enumerate\n",
    "for index, name in enumerate(list):\n",
    "    index, name"
   ]
  }
 ],
 "metadata": {
  "interpreter": {
   "hash": "aa9b2e6bdcb8968c6d10db2e0d5683f090ebf92f3ed72dc81de49ae715e3557f"
  },
  "kernelspec": {
   "display_name": "Python 3.9.12 ('python_automation')",
   "language": "python",
   "name": "python3"
  },
  "language_info": {
   "codemirror_mode": {
    "name": "ipython",
    "version": 3
   },
   "file_extension": ".py",
   "mimetype": "text/x-python",
   "name": "python",
   "nbconvert_exporter": "python",
   "pygments_lexer": "ipython3",
   "version": "3.9.12"
  },
  "orig_nbformat": 4
 },
 "nbformat": 4,
 "nbformat_minor": 2
}
