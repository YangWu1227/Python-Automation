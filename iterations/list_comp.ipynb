{
 "cells": [
  {
   "cell_type": "code",
   "execution_count": 1,
   "id": "9b10830c-ab91-49c0-9b72-0c8930632fa0",
   "metadata": {
    "execution": {
     "iopub.execute_input": "2022-01-18T00:36:40.627602Z",
     "iopub.status.busy": "2022-01-18T00:36:40.627178Z",
     "iopub.status.idle": "2022-01-18T00:36:40.636467Z",
     "shell.execute_reply": "2022-01-18T00:36:40.635913Z",
     "shell.execute_reply.started": "2022-01-18T00:36:40.627505Z"
    },
    "tags": []
   },
   "outputs": [],
   "source": [
    "from IPython.core.interactiveshell import InteractiveShell\n",
    "InteractiveShell.ast_node_interactivity = \"all\""
   ]
  },
  {
   "cell_type": "markdown",
   "id": "e9232507-237a-4643-8c1e-825091a3d663",
   "metadata": {},
   "source": [
    "## List Comprehension\n",
    "\n",
    "List comphrehensions have the basic formal form:\n",
    "\n",
    "* `[expression for item in iterable]`\n",
    "\n",
    "With a conditional logic:\n",
    "\n",
    "* `new_list = [expression for item in iterable (if conditional)]`\n",
    "\n",
    "Placing the conditional at the end is considered a filter clause, which filters out of the result items for which the test is not true. In other words, using `if` at the end skips an iterable’s items for which the `if` clause is not true.\n",
    " We could also apply conditional logic in the comprehension expression itself:\n",
    "\n",
    "* `new_list = [expression (if conditional) for item in iterable (if conditional)]`\n",
    "\n",
    "For nested `for`, we can use the following syntax:\n",
    "\n",
    "* `new_list = [inner expression for outer in outer_iterable for inner in inner_iterable]`\n",
    "\n",
    "This is equivalent to the following nested for loop:"
   ]
  },
  {
   "cell_type": "code",
   "execution_count": 2,
   "id": "8909b555-ec18-4c44-a040-a472bda646e9",
   "metadata": {
    "execution": {
     "iopub.execute_input": "2022-01-18T00:58:14.074677Z",
     "iopub.status.busy": "2022-01-18T00:58:14.074407Z",
     "iopub.status.idle": "2022-01-18T00:58:14.084773Z",
     "shell.execute_reply": "2022-01-18T00:58:14.084118Z",
     "shell.execute_reply.started": "2022-01-18T00:58:14.074649Z"
    },
    "tags": []
   },
   "outputs": [
    {
     "data": {
      "text/plain": [
       "['ad', 'ae', 'af', 'bd', 'be', 'bf', 'cd', 'ce', 'cf']"
      ]
     },
     "execution_count": 2,
     "metadata": {},
     "output_type": "execute_result"
    }
   ],
   "source": [
    "new_list = []\n",
    "for outer in 'abc':\n",
    "    for inner in 'def':\n",
    "        new_list.append(outer + inner)\n",
    "new_list"
   ]
  },
  {
   "cell_type": "code",
   "execution_count": 3,
   "id": "79b3184f-cdb6-4a01-8c00-07b400ef331d",
   "metadata": {
    "execution": {
     "iopub.execute_input": "2022-01-18T00:59:52.108052Z",
     "iopub.status.busy": "2022-01-18T00:59:52.107727Z",
     "iopub.status.idle": "2022-01-18T00:59:52.114892Z",
     "shell.execute_reply": "2022-01-18T00:59:52.113873Z",
     "shell.execute_reply.started": "2022-01-18T00:59:52.108018Z"
    },
    "tags": []
   },
   "outputs": [
    {
     "data": {
      "text/plain": [
       "['ad', 'ae', 'af', 'bd', 'be', 'bf', 'cd', 'ce', 'cf']"
      ]
     },
     "execution_count": 3,
     "metadata": {},
     "output_type": "execute_result"
    }
   ],
   "source": [
    "new_list_comp = [outer + inner for outer in 'abc' for inner in 'def']\n",
    "new_list_comp"
   ]
  },
  {
   "cell_type": "markdown",
   "id": "f9a4a3dd-24b5-4f9f-88f6-9fe6cd85b214",
   "metadata": {},
   "source": [
    "We can code any number of nested for loops in a list comprehension, and each may have an optional associated if test to act as a filter. The general structure of list comprehensions is as follows:\n",
    "\n",
    "<p align=\"center\">\n",
    "  <img width=\"600\" height=\"250\" img src=\"images/nested_list_comp.png\">\n",
    "</p>\n",
    "\n",
    "## List Comphrehension vs For loop\n",
    "\n",
    "### Example 1"
   ]
  },
  {
   "cell_type": "code",
   "execution_count": 4,
   "id": "63b2c75a-448d-4754-bf2d-c164aa318d1a",
   "metadata": {
    "execution": {
     "iopub.execute_input": "2022-01-18T01:16:54.032960Z",
     "iopub.status.busy": "2022-01-18T01:16:54.032705Z",
     "iopub.status.idle": "2022-01-18T01:16:54.039112Z",
     "shell.execute_reply": "2022-01-18T01:16:54.038265Z",
     "shell.execute_reply.started": "2022-01-18T01:16:54.032933Z"
    },
    "tags": []
   },
   "outputs": [
    {
     "data": {
      "text/plain": [
       "[100, 200, 300, 101, 201, 301, 102, 202, 302]"
      ]
     },
     "execution_count": 4,
     "metadata": {},
     "output_type": "execute_result"
    }
   ],
   "source": [
    "res = [x + y for x in [0, 1, 2] for y in [100, 200, 300]]\n",
    "res"
   ]
  },
  {
   "cell_type": "markdown",
   "id": "281790bd-9312-451a-8253-474d1a1d1b3e",
   "metadata": {},
   "source": [
    "The mapping for the nested list comprehension is as follows:\n",
    "\n",
    "* expression is x + y\n",
    "\n",
    "* target1 is x and target2 is y\n",
    "\n",
    "* iterable1 is `[0, 1, 2]` and iterable2 is `[100, 200, 300]`\n",
    "\n",
    "This is equivalent to the following nested for loop:"
   ]
  },
  {
   "cell_type": "code",
   "execution_count": 5,
   "id": "32eef772-c4a8-43bb-a861-222b3c2347d3",
   "metadata": {
    "execution": {
     "iopub.execute_input": "2022-01-18T01:19:57.283478Z",
     "iopub.status.busy": "2022-01-18T01:19:57.283105Z",
     "iopub.status.idle": "2022-01-18T01:19:57.292489Z",
     "shell.execute_reply": "2022-01-18T01:19:57.291592Z",
     "shell.execute_reply.started": "2022-01-18T01:19:57.283445Z"
    },
    "tags": []
   },
   "outputs": [
    {
     "data": {
      "text/plain": [
       "[100, 200, 300, 101, 201, 301, 102, 202, 302]"
      ]
     },
     "execution_count": 5,
     "metadata": {},
     "output_type": "execute_result"
    }
   ],
   "source": [
    "res = []\n",
    "for x in [0, 1, 2]:\n",
    "    for y in [100, 200, 300]:\n",
    "        res.append(x + y)\n",
    "res"
   ]
  },
  {
   "cell_type": "markdown",
   "id": "4ba05eab-ae47-41a8-84ca-b93c16ffef0f",
   "metadata": {},
   "source": [
    "### Example 2\n",
    "\n",
    "Although list comprehensions construct list results, they can iterate over any sequence or other iterable type. For instance, `str`:"
   ]
  },
  {
   "cell_type": "code",
   "execution_count": 6,
   "id": "8ed1f553-d5c6-4f8f-9ff0-94580a545f8d",
   "metadata": {
    "execution": {
     "iopub.execute_input": "2022-01-18T01:33:04.522548Z",
     "iopub.status.busy": "2022-01-18T01:33:04.522289Z",
     "iopub.status.idle": "2022-01-18T01:33:04.526498Z",
     "shell.execute_reply": "2022-01-18T01:33:04.525800Z",
     "shell.execute_reply.started": "2022-01-18T01:33:04.522521Z"
    },
    "tags": []
   },
   "outputs": [
    {
     "name": "stdout",
     "output_type": "stream",
     "text": [
      "['sS', 'sP', 'sA', 'sM', 'pS', 'pP', 'pA', 'pM', 'aS', 'aP', 'aA', 'aM', 'mS', 'mP', 'mA', 'mM'] "
     ]
    }
   ],
   "source": [
    "res = [x + y for x in 'spam' for y in 'SPAM']\n",
    "print(res, end = ' ')"
   ]
  },
  {
   "cell_type": "code",
   "execution_count": 7,
   "id": "ec303017-383f-4888-87b1-5ad92b158ec1",
   "metadata": {
    "execution": {
     "iopub.execute_input": "2022-01-18T01:38:33.747992Z",
     "iopub.status.busy": "2022-01-18T01:38:33.747731Z",
     "iopub.status.idle": "2022-01-18T01:38:33.752310Z",
     "shell.execute_reply": "2022-01-18T01:38:33.751677Z",
     "shell.execute_reply.started": "2022-01-18T01:38:33.747964Z"
    },
    "tags": []
   },
   "outputs": [
    {
     "name": "stdout",
     "output_type": "stream",
     "text": [
      "['sS', 'sP', 'sA', 'sM', 'pS', 'pP', 'pA', 'pM', 'aS', 'aP', 'aA', 'aM', 'mS', 'mP', 'mA', 'mM'] "
     ]
    }
   ],
   "source": [
    "res = []\n",
    "for x in 'spam':\n",
    "    for y in 'SPAM':\n",
    "        res.append(x + y)\n",
    "print(res, end = ' ')"
   ]
  },
  {
   "cell_type": "markdown",
   "id": "c5fd6238-cfef-46d3-86a6-de57021baebd",
   "metadata": {},
   "source": [
    "### Example 3"
   ]
  },
  {
   "cell_type": "code",
   "execution_count": 8,
   "id": "37ddab10-f14f-4820-9d4d-2b8d6a59ad37",
   "metadata": {
    "execution": {
     "iopub.execute_input": "2022-01-18T01:40:42.878409Z",
     "iopub.status.busy": "2022-01-18T01:40:42.878094Z",
     "iopub.status.idle": "2022-01-18T01:40:42.882940Z",
     "shell.execute_reply": "2022-01-18T01:40:42.882142Z",
     "shell.execute_reply.started": "2022-01-18T01:40:42.878375Z"
    },
    "tags": []
   },
   "outputs": [
    {
     "name": "stdout",
     "output_type": "stream",
     "text": [
      "['sSy', 'sSa', 'sSn', 'sSg', 'sPy', 'sPa', 'sPn', 'sPg', 'sAy', 'sAa', 'sAn', 'sAg', 'sMy', 'sMa', 'sMn', 'sMg', 'pSy', 'pSa', 'pSn', 'pSg', 'pPy', 'pPa', 'pPn', 'pPg', 'pAy', 'pAa', 'pAn', 'pAg', 'pMy', 'pMa', 'pMn', 'pMg', 'aSy', 'aSa', 'aSn', 'aSg', 'aPy', 'aPa', 'aPn', 'aPg', 'aAy', 'aAa', 'aAn', 'aAg', 'aMy', 'aMa', 'aMn', 'aMg', 'mSy', 'mSa', 'mSn', 'mSg', 'mPy', 'mPa', 'mPn', 'mPg', 'mAy', 'mAa', 'mAn', 'mAg', 'mMy', 'mMa', 'mMn', 'mMg'] "
     ]
    }
   ],
   "source": [
    "res_list_comp = [x + y + z for x in 'spam' for y in 'SPAM' for z in 'yang']\n",
    "print(res_list_comp, end = ' ')"
   ]
  },
  {
   "cell_type": "code",
   "execution_count": 9,
   "id": "5b6a9fcd-c15b-4d83-bd68-fa032dea0c02",
   "metadata": {
    "execution": {
     "iopub.execute_input": "2022-01-18T01:41:15.219176Z",
     "iopub.status.busy": "2022-01-18T01:41:15.218834Z",
     "iopub.status.idle": "2022-01-18T01:41:15.224023Z",
     "shell.execute_reply": "2022-01-18T01:41:15.223306Z",
     "shell.execute_reply.started": "2022-01-18T01:41:15.219145Z"
    },
    "tags": []
   },
   "outputs": [
    {
     "name": "stdout",
     "output_type": "stream",
     "text": [
      "['sSy', 'sSa', 'sSn', 'sSg', 'sPy', 'sPa', 'sPn', 'sPg', 'sAy', 'sAa', 'sAn', 'sAg', 'sMy', 'sMa', 'sMn', 'sMg', 'pSy', 'pSa', 'pSn', 'pSg', 'pPy', 'pPa', 'pPn', 'pPg', 'pAy', 'pAa', 'pAn', 'pAg', 'pMy', 'pMa', 'pMn', 'pMg', 'aSy', 'aSa', 'aSn', 'aSg', 'aPy', 'aPa', 'aPn', 'aPg', 'aAy', 'aAa', 'aAn', 'aAg', 'aMy', 'aMa', 'aMn', 'aMg', 'mSy', 'mSa', 'mSn', 'mSg', 'mPy', 'mPa', 'mPn', 'mPg', 'mAy', 'mAa', 'mAn', 'mAg', 'mMy', 'mMa', 'mMn', 'mMg'] "
     ]
    }
   ],
   "source": [
    "res_loop = []\n",
    "for x in 'spam':\n",
    "    for y in 'SPAM':\n",
    "        for z in 'yang':\n",
    "            res_loop.append(x + y + z)\n",
    "print(res_loop, end = ' ')"
   ]
  },
  {
   "cell_type": "code",
   "execution_count": 10,
   "id": "a31d8e4c-a368-4ace-80f3-414dd217676c",
   "metadata": {
    "execution": {
     "iopub.execute_input": "2022-01-18T01:41:29.973124Z",
     "iopub.status.busy": "2022-01-18T01:41:29.972689Z",
     "iopub.status.idle": "2022-01-18T01:41:29.980079Z",
     "shell.execute_reply": "2022-01-18T01:41:29.978648Z",
     "shell.execute_reply.started": "2022-01-18T01:41:29.973083Z"
    },
    "tags": []
   },
   "outputs": [
    {
     "data": {
      "text/plain": [
       "True"
      ]
     },
     "execution_count": 10,
     "metadata": {},
     "output_type": "execute_result"
    }
   ],
   "source": [
    "res_loop == res_list_comp"
   ]
  },
  {
   "cell_type": "markdown",
   "id": "3d920a39-763c-44e8-9b41-69080430d259",
   "metadata": {},
   "source": [
    "### Example 4 (with if statements)"
   ]
  },
  {
   "cell_type": "code",
   "execution_count": 11,
   "id": "a3a72549-8bc8-4a68-b713-3fa6825bde90",
   "metadata": {
    "execution": {
     "iopub.execute_input": "2022-01-18T01:49:35.055766Z",
     "iopub.status.busy": "2022-01-18T01:49:35.055427Z",
     "iopub.status.idle": "2022-01-18T01:49:35.060714Z",
     "shell.execute_reply": "2022-01-18T01:49:35.059950Z",
     "shell.execute_reply.started": "2022-01-18T01:49:35.055732Z"
    },
    "tags": []
   },
   "outputs": [
    {
     "name": "stdout",
     "output_type": "stream",
     "text": [
      "['p9Y', 'p9N', 'p9D', 'p3Y', 'p3N', 'p3D', 'p2Y', 'p2N', 'p2D', 'a9Y', 'a9N', 'a9D', 'a3Y', 'a3N', 'a3D', 'a2Y', 'a2N', 'a2D'] "
     ]
    }
   ],
   "source": [
    "res_list_comp = [x + y + z for x in 'spam' if x not in ['s', 'm'] \n",
    "                           for y in 'SpAm9df32d' if y.isdigit()\n",
    "                           for z in 'YaNgdD' if z.isupper()]\n",
    "print(res_list_comp, end = ' ')"
   ]
  },
  {
   "cell_type": "code",
   "execution_count": 12,
   "id": "23bf0ffa-54d0-4262-91a4-47824e8055fc",
   "metadata": {
    "execution": {
     "iopub.execute_input": "2022-01-18T01:51:39.721871Z",
     "iopub.status.busy": "2022-01-18T01:51:39.721612Z",
     "iopub.status.idle": "2022-01-18T01:51:39.726874Z",
     "shell.execute_reply": "2022-01-18T01:51:39.726162Z",
     "shell.execute_reply.started": "2022-01-18T01:51:39.721844Z"
    },
    "tags": []
   },
   "outputs": [
    {
     "name": "stdout",
     "output_type": "stream",
     "text": [
      "['p9Y', 'p9N', 'p9D', 'p3Y', 'p3N', 'p3D', 'p2Y', 'p2N', 'p2D', 'a9Y', 'a9N', 'a9D', 'a3Y', 'a3N', 'a3D', 'a2Y', 'a2N', 'a2D'] "
     ]
    }
   ],
   "source": [
    "res_loop = []\n",
    "for x in 'spam':\n",
    "    if x not in ['s', 'm']:\n",
    "        for y in 'SpAm9df32d':\n",
    "            if y.isdigit():\n",
    "                for z in 'YaNgdD':\n",
    "                    if z.isupper():\n",
    "                        res_loop.append(x + y + z)\n",
    "print(res_loop, end = ' ')"
   ]
  },
  {
   "cell_type": "code",
   "execution_count": 13,
   "id": "de727c3c-53cd-4b96-924c-172070bfb984",
   "metadata": {
    "execution": {
     "iopub.execute_input": "2022-01-18T01:51:46.926974Z",
     "iopub.status.busy": "2022-01-18T01:51:46.926708Z",
     "iopub.status.idle": "2022-01-18T01:51:46.931833Z",
     "shell.execute_reply": "2022-01-18T01:51:46.931181Z",
     "shell.execute_reply.started": "2022-01-18T01:51:46.926947Z"
    },
    "tags": []
   },
   "outputs": [
    {
     "data": {
      "text/plain": [
       "True"
      ]
     },
     "execution_count": 13,
     "metadata": {},
     "output_type": "execute_result"
    }
   ],
   "source": [
    "res_loop == res_list_comp"
   ]
  },
  {
   "cell_type": "markdown",
   "id": "ca14a59c-3a7c-4071-b5a6-78b29a446e6c",
   "metadata": {},
   "source": [
    "### Example 5 (numeric)"
   ]
  },
  {
   "cell_type": "code",
   "execution_count": 14,
   "id": "780b238d-a491-4f20-a046-c34ca0034180",
   "metadata": {
    "execution": {
     "iopub.execute_input": "2022-01-18T02:15:36.687224Z",
     "iopub.status.busy": "2022-01-18T02:15:36.686963Z",
     "iopub.status.idle": "2022-01-18T02:15:36.691203Z",
     "shell.execute_reply": "2022-01-18T02:15:36.690655Z",
     "shell.execute_reply.started": "2022-01-18T02:15:36.687196Z"
    },
    "tags": []
   },
   "outputs": [
    {
     "name": "stdout",
     "output_type": "stream",
     "text": [
      "[(0, 1), (0, 3), (2, 1), (2, 3), (4, 1), (4, 3)] "
     ]
    }
   ],
   "source": [
    "res_list_comp = [(x, y) for x in range(5) if x % 2 == 0 for y in range(5) if y % 2 == 1]\n",
    "print(res_list_comp, end = ' ')"
   ]
  },
  {
   "cell_type": "code",
   "execution_count": 15,
   "id": "3e320813-759a-40ab-bfad-483d22ec8d0e",
   "metadata": {
    "execution": {
     "iopub.execute_input": "2022-01-18T02:17:05.632753Z",
     "iopub.status.busy": "2022-01-18T02:17:05.632512Z",
     "iopub.status.idle": "2022-01-18T02:17:05.636781Z",
     "shell.execute_reply": "2022-01-18T02:17:05.636099Z",
     "shell.execute_reply.started": "2022-01-18T02:17:05.632730Z"
    },
    "tags": []
   },
   "outputs": [
    {
     "name": "stdout",
     "output_type": "stream",
     "text": [
      "[(0, 1), (0, 3), (2, 1), (2, 3), (4, 1), (4, 3)] "
     ]
    }
   ],
   "source": [
    "res_loop = []\n",
    "for x in (0, 1, 2, 3, 4):\n",
    "    if x % 2 == 0:\n",
    "        for y in (0, 1, 2, 3, 4):\n",
    "            if y % 2 == 1:\n",
    "                res_loop.append((x, y))\n",
    "print(res_loop, end = ' ')"
   ]
  },
  {
   "cell_type": "code",
   "execution_count": 16,
   "id": "28397f3a-3760-4bee-8636-3817767f19a1",
   "metadata": {
    "execution": {
     "iopub.execute_input": "2022-01-18T02:17:10.172031Z",
     "iopub.status.busy": "2022-01-18T02:17:10.171763Z",
     "iopub.status.idle": "2022-01-18T02:17:10.176884Z",
     "shell.execute_reply": "2022-01-18T02:17:10.176068Z",
     "shell.execute_reply.started": "2022-01-18T02:17:10.172005Z"
    },
    "tags": []
   },
   "outputs": [
    {
     "data": {
      "text/plain": [
       "True"
      ]
     },
     "execution_count": 16,
     "metadata": {},
     "output_type": "execute_result"
    }
   ],
   "source": [
    "res_loop == res_list_comp"
   ]
  },
  {
   "cell_type": "markdown",
   "id": "20f4356d-272c-496c-b31a-b5899a77c690",
   "metadata": {},
   "source": [
    "## List Comprehension and Matrices\n",
    "\n",
    "Matrics (multidimentional arrays) are often coded as follows:"
   ]
  },
  {
   "cell_type": "code",
   "execution_count": 17,
   "id": "47cf4847-431b-4a87-a690-6bf39034f350",
   "metadata": {
    "execution": {
     "iopub.execute_input": "2022-01-18T02:41:07.577569Z",
     "iopub.status.busy": "2022-01-18T02:41:07.577338Z",
     "iopub.status.idle": "2022-01-18T02:41:07.581270Z",
     "shell.execute_reply": "2022-01-18T02:41:07.580487Z",
     "shell.execute_reply.started": "2022-01-18T02:41:07.577544Z"
    },
    "tags": []
   },
   "outputs": [],
   "source": [
    "M = [[1, 2, 3], \n",
    "     [4, 5, 6], \n",
    "     [7, 8, 9]]\n",
    "N = [[2, 2, 2], \n",
    "     [3, 3, 9], \n",
    "     [4, 4, 4]]"
   ]
  },
  {
   "cell_type": "code",
   "execution_count": 18,
   "id": "c8cbad15-fdde-45f9-8773-f6a82b4e0e74",
   "metadata": {
    "execution": {
     "iopub.execute_input": "2022-01-18T02:27:53.457130Z",
     "iopub.status.busy": "2022-01-18T02:27:53.456923Z",
     "iopub.status.idle": "2022-01-18T02:27:53.462964Z",
     "shell.execute_reply": "2022-01-18T02:27:53.462238Z",
     "shell.execute_reply.started": "2022-01-18T02:27:53.457111Z"
    },
    "tags": []
   },
   "outputs": [
    {
     "data": {
      "text/plain": [
       "[7, 8, 9]"
      ]
     },
     "execution_count": 18,
     "metadata": {},
     "output_type": "execute_result"
    },
    {
     "data": {
      "text/plain": [
       "9"
      ]
     },
     "execution_count": 18,
     "metadata": {},
     "output_type": "execute_result"
    }
   ],
   "source": [
    "# Row 3\n",
    "M[2]\n",
    "# Second row third column\n",
    "N[1][2]"
   ]
  },
  {
   "cell_type": "markdown",
   "id": "ac0e4513-2ce0-4c30-a7b8-11406d96c275",
   "metadata": {},
   "source": [
    "### Getting columns and rows using list comprehension\n",
    "\n",
    "Processing matrices coded as above essentially means iterating over the list elements (which represent the rows in a matrix). "
   ]
  },
  {
   "cell_type": "code",
   "execution_count": 19,
   "id": "5a800f14-560f-45b1-ac4a-184a60b1511f",
   "metadata": {
    "execution": {
     "iopub.execute_input": "2022-01-18T02:39:43.166568Z",
     "iopub.status.busy": "2022-01-18T02:39:43.166307Z",
     "iopub.status.idle": "2022-01-18T02:39:43.171324Z",
     "shell.execute_reply": "2022-01-18T02:39:43.170676Z",
     "shell.execute_reply.started": "2022-01-18T02:39:43.166541Z"
    },
    "tags": []
   },
   "outputs": [
    {
     "data": {
      "text/plain": [
       "[[1, 2, 3], [4, 5, 6], [7, 8, 9]]"
      ]
     },
     "execution_count": 19,
     "metadata": {},
     "output_type": "execute_result"
    }
   ],
   "source": [
    "# Since each row is a nested sublist in M\n",
    "[row for row in M]"
   ]
  },
  {
   "cell_type": "code",
   "execution_count": 20,
   "id": "bb72e5c9-3fb6-4af9-8693-0ea9b1c8317d",
   "metadata": {
    "execution": {
     "iopub.execute_input": "2022-01-18T02:41:48.221954Z",
     "iopub.status.busy": "2022-01-18T02:41:48.221726Z",
     "iopub.status.idle": "2022-01-18T02:41:48.226388Z",
     "shell.execute_reply": "2022-01-18T02:41:48.225754Z",
     "shell.execute_reply.started": "2022-01-18T02:41:48.221932Z"
    },
    "tags": []
   },
   "outputs": [
    {
     "data": {
      "text/plain": [
       "[[2, 2, 2], [3, 3, 9], [4, 4, 4]]"
      ]
     },
     "execution_count": 20,
     "metadata": {},
     "output_type": "execute_result"
    }
   ],
   "source": [
    "[row for row in N]"
   ]
  },
  {
   "cell_type": "code",
   "execution_count": 21,
   "id": "90170811-4f42-482c-aaeb-d885ab7a744c",
   "metadata": {
    "execution": {
     "iopub.execute_input": "2022-01-18T02:40:40.683469Z",
     "iopub.status.busy": "2022-01-18T02:40:40.683141Z",
     "iopub.status.idle": "2022-01-18T02:40:40.692689Z",
     "shell.execute_reply": "2022-01-18T02:40:40.691961Z",
     "shell.execute_reply.started": "2022-01-18T02:40:40.683435Z"
    },
    "tags": []
   },
   "outputs": [
    {
     "data": {
      "text/plain": [
       "[1, 4, 7]"
      ]
     },
     "execution_count": 21,
     "metadata": {},
     "output_type": "execute_result"
    },
    {
     "data": {
      "text/plain": [
       "[2, 5, 8]"
      ]
     },
     "execution_count": 21,
     "metadata": {},
     "output_type": "execute_result"
    },
    {
     "data": {
      "text/plain": [
       "[3, 6, 9]"
      ]
     },
     "execution_count": 21,
     "metadata": {},
     "output_type": "execute_result"
    }
   ],
   "source": [
    "# Columns\n",
    "[row[0] for row in M]\n",
    "[row[1] for row in M]\n",
    "[row[2] for row in M]"
   ]
  },
  {
   "cell_type": "code",
   "execution_count": 22,
   "id": "ccfba291-c7cd-494e-9802-14dad033d39e",
   "metadata": {
    "execution": {
     "iopub.execute_input": "2022-01-18T02:41:25.385700Z",
     "iopub.status.busy": "2022-01-18T02:41:25.385486Z",
     "iopub.status.idle": "2022-01-18T02:41:25.395103Z",
     "shell.execute_reply": "2022-01-18T02:41:25.393387Z",
     "shell.execute_reply.started": "2022-01-18T02:41:25.385681Z"
    },
    "tags": []
   },
   "outputs": [
    {
     "data": {
      "text/plain": [
       "[2, 3, 4]"
      ]
     },
     "execution_count": 22,
     "metadata": {},
     "output_type": "execute_result"
    },
    {
     "data": {
      "text/plain": [
       "[2, 3, 4]"
      ]
     },
     "execution_count": 22,
     "metadata": {},
     "output_type": "execute_result"
    },
    {
     "data": {
      "text/plain": [
       "[2, 9, 4]"
      ]
     },
     "execution_count": 22,
     "metadata": {},
     "output_type": "execute_result"
    }
   ],
   "source": [
    "[row[0] for row in N]\n",
    "[row[1] for row in N]\n",
    "[row[2] for row in N]"
   ]
  },
  {
   "cell_type": "markdown",
   "id": "671b77da-4fee-44be-92e0-8cacd5808177",
   "metadata": {},
   "source": [
    "### Using offset to get columns"
   ]
  },
  {
   "cell_type": "code",
   "execution_count": 23,
   "id": "683d611e-5b0c-40a9-a11b-2be260523231",
   "metadata": {
    "execution": {
     "iopub.execute_input": "2022-01-18T02:43:17.069157Z",
     "iopub.status.busy": "2022-01-18T02:43:17.068887Z",
     "iopub.status.idle": "2022-01-18T02:43:17.077969Z",
     "shell.execute_reply": "2022-01-18T02:43:17.077338Z",
     "shell.execute_reply.started": "2022-01-18T02:43:17.069132Z"
    },
    "tags": []
   },
   "outputs": [
    {
     "data": {
      "text/plain": [
       "[1, 4, 7]"
      ]
     },
     "execution_count": 23,
     "metadata": {},
     "output_type": "execute_result"
    },
    {
     "data": {
      "text/plain": [
       "[2, 5, 8]"
      ]
     },
     "execution_count": 23,
     "metadata": {},
     "output_type": "execute_result"
    },
    {
     "data": {
      "text/plain": [
       "[3, 6, 9]"
      ]
     },
     "execution_count": 23,
     "metadata": {},
     "output_type": "execute_result"
    }
   ],
   "source": [
    "[M[row][0] for row in range(len(M))]\n",
    "[M[row][1] for row in range(len(M))]\n",
    "[M[row][2] for row in range(len(M))]"
   ]
  },
  {
   "cell_type": "markdown",
   "id": "080cfcac-ff48-4403-b334-010a2fb8b541",
   "metadata": {},
   "source": [
    "### Pulling out diagonal"
   ]
  },
  {
   "cell_type": "code",
   "execution_count": 24,
   "id": "924e5956-cef1-4dc7-9207-d9cb1c6599d0",
   "metadata": {
    "execution": {
     "iopub.execute_input": "2022-01-18T02:46:47.407184Z",
     "iopub.status.busy": "2022-01-18T02:46:47.406949Z",
     "iopub.status.idle": "2022-01-18T02:46:47.413127Z",
     "shell.execute_reply": "2022-01-18T02:46:47.412478Z",
     "shell.execute_reply.started": "2022-01-18T02:46:47.407159Z"
    },
    "tags": []
   },
   "outputs": [
    {
     "data": {
      "text/plain": [
       "[1, 5, 9]"
      ]
     },
     "execution_count": 24,
     "metadata": {},
     "output_type": "execute_result"
    },
    {
     "data": {
      "text/plain": [
       "[2, 3, 4]"
      ]
     },
     "execution_count": 24,
     "metadata": {},
     "output_type": "execute_result"
    }
   ],
   "source": [
    "# For square matrices\n",
    "[M[i][i] for i in range(len(M))]\n",
    "[N[i][i] for i in range(len(N))]"
   ]
  },
  {
   "cell_type": "code",
   "execution_count": 25,
   "id": "2f7e387d-833d-4400-b372-6c0d5c239559",
   "metadata": {
    "execution": {
     "iopub.execute_input": "2022-01-18T02:48:26.477914Z",
     "iopub.status.busy": "2022-01-18T02:48:26.477655Z",
     "iopub.status.idle": "2022-01-18T02:48:26.485655Z",
     "shell.execute_reply": "2022-01-18T02:48:26.484930Z",
     "shell.execute_reply.started": "2022-01-18T02:48:26.477887Z"
    },
    "tags": []
   },
   "outputs": [
    {
     "data": {
      "text/plain": [
       "[1, 5, 9]"
      ]
     },
     "execution_count": 25,
     "metadata": {},
     "output_type": "execute_result"
    },
    {
     "data": {
      "text/plain": [
       "[2, 3, 4]"
      ]
     },
     "execution_count": 25,
     "metadata": {},
     "output_type": "execute_result"
    }
   ],
   "source": [
    "# Or a less efficient but more explicitly, we could use zip\n",
    "[M[i][j] for i, j in zip(range(len(M)), range(len(M)))]\n",
    "[N[i][j] for i, j in zip(range(len(N)), range(len(N)))]"
   ]
  },
  {
   "cell_type": "markdown",
   "id": "5ba91ff8-78ef-4261-995b-7305f2adcb8a",
   "metadata": {},
   "source": [
    "### Off-diagonal"
   ]
  },
  {
   "cell_type": "code",
   "execution_count": 26,
   "id": "5e513d07-0957-4ec2-9115-33cb6f1b7a37",
   "metadata": {
    "execution": {
     "iopub.execute_input": "2022-01-18T02:58:50.807912Z",
     "iopub.status.busy": "2022-01-18T02:58:50.807600Z",
     "iopub.status.idle": "2022-01-18T02:58:50.817706Z",
     "shell.execute_reply": "2022-01-18T02:58:50.816980Z",
     "shell.execute_reply.started": "2022-01-18T02:58:50.807877Z"
    },
    "tags": []
   },
   "outputs": [
    {
     "data": {
      "text/plain": [
       "[0, 21, 9, 3, 72]"
      ]
     },
     "execution_count": 26,
     "metadata": {},
     "output_type": "execute_result"
    },
    {
     "data": {
      "text/plain": [
       "[0, 21, 9, 3, 72]"
      ]
     },
     "execution_count": 26,
     "metadata": {},
     "output_type": "execute_result"
    }
   ],
   "source": [
    "M = [[64, 2, 3, 23, 0], \n",
    "     [4, 5, 6, 21, 8], \n",
    "     [7, 8, 9, 2, 42],\n",
    "     [9, 3, 28, 90, 4],\n",
    "     [72, 54, 2, 2, 3]]\n",
    "# Forward \n",
    "[M[i][len(M) - 1 - i] for i in range(len(M))]\n",
    "# Or backward\n",
    "[M[i][- 1 - i] for i in range(len(M))]"
   ]
  },
  {
   "cell_type": "markdown",
   "id": "3c5739ad-dc38-46de-82e1-20494a9e328f",
   "metadata": {},
   "source": [
    "In the forward approach, we take the length of the square matrix (5) and subtract off 1 to obtain the integer offset (since Python uses 0-based indexing) for the last element of the first ($0^{th}$) row. Then, $i$ becomes 1, and we get the second to last element of the second (1st) row, and so on. In the backward approach, we begin with the last element -1, and decrease it by 1 each time we increase the row index $i$."
   ]
  },
  {
   "cell_type": "markdown",
   "id": "b02446cc-5ea3-46e0-8a68-0975318fe4c3",
   "metadata": {},
   "source": [
    "### Upadate matrix in place\n",
    "\n",
    "We can use offset assignment to update matrix in place:"
   ]
  },
  {
   "cell_type": "code",
   "execution_count": 27,
   "id": "931390f3-0210-444c-9c9e-44c857483382",
   "metadata": {
    "execution": {
     "iopub.execute_input": "2022-01-18T03:16:55.964454Z",
     "iopub.status.busy": "2022-01-18T03:16:55.964164Z",
     "iopub.status.idle": "2022-01-18T03:16:55.971644Z",
     "shell.execute_reply": "2022-01-18T03:16:55.970970Z",
     "shell.execute_reply.started": "2022-01-18T03:16:55.964428Z"
    },
    "tags": []
   },
   "outputs": [
    {
     "data": {
      "text/plain": [
       "[[64, 7, 3, 28, 0],\n",
       " [4, 5, 6, 21, 8],\n",
       " [7, 13, 9, 7, 42],\n",
       " [9, 3, 28, 90, 4],\n",
       " [72, 59, 2, 7, 3],\n",
       " [23, 33, 41, 9, 3],\n",
       " [0, 8, 99, 9, 10]]"
      ]
     },
     "execution_count": 27,
     "metadata": {},
     "output_type": "execute_result"
    }
   ],
   "source": [
    "# A 7 x 5 matrix\n",
    "M = [[64, 2, 3, 23, 0], \n",
    "     [4, 5, 6, 21, 8], \n",
    "     [7, 8, 9, 2, 42],\n",
    "     [9, 3, 28, 90, 4],\n",
    "     [72, 54, 2, 2, 3],\n",
    "     [23, 33, 41, 9, 3],\n",
    "     [0, 3, 99, 4, 10]]\n",
    "N = M\n",
    "# Using nested for loop\n",
    "for i in range(len(M)):\n",
    "    # Only update odd rows (0 based indexing so 0, 2, 4, 6 are actually odd rows)\n",
    "    if i % 2 == 0:\n",
    "        for j in range(len(M[i])):\n",
    "            # Only update even columns (1, 3, 5, 7, etc.)\n",
    "            if j % 2 == 1:\n",
    "                N[i][j] += 5\n",
    "N"
   ]
  },
  {
   "cell_type": "code",
   "execution_count": 28,
   "id": "bf595c8e-bfda-4461-91f4-11dddaaf7186",
   "metadata": {
    "execution": {
     "iopub.execute_input": "2022-01-18T03:17:30.941875Z",
     "iopub.status.busy": "2022-01-18T03:17:30.941521Z",
     "iopub.status.idle": "2022-01-18T03:17:30.946987Z",
     "shell.execute_reply": "2022-01-18T03:17:30.946124Z",
     "shell.execute_reply.started": "2022-01-18T03:17:30.941838Z"
    },
    "tags": []
   },
   "outputs": [
    {
     "data": {
      "text/plain": [
       "True"
      ]
     },
     "execution_count": 28,
     "metadata": {},
     "output_type": "execute_result"
    }
   ],
   "source": [
    "# M should be updated two since N references the same object \n",
    "N is M"
   ]
  },
  {
   "cell_type": "markdown",
   "id": "a388495d-a8ac-45b2-95ec-a205e35365f3",
   "metadata": {},
   "source": [
    "When list comprehension, we can achieve similar effect but technically we are created a new list:"
   ]
  },
  {
   "cell_type": "code",
   "execution_count": 29,
   "id": "633a854c-0f3d-43c1-8a4e-35b386685215",
   "metadata": {
    "execution": {
     "iopub.execute_input": "2022-01-18T03:32:03.199337Z",
     "iopub.status.busy": "2022-01-18T03:32:03.199074Z",
     "iopub.status.idle": "2022-01-18T03:32:03.205679Z",
     "shell.execute_reply": "2022-01-18T03:32:03.204728Z",
     "shell.execute_reply.started": "2022-01-18T03:32:03.199309Z"
    },
    "tags": []
   },
   "outputs": [
    {
     "data": {
      "text/plain": [
       "[[64, 2, 3, 23, 0],\n",
       " [4, 5, 6, 21, 8],\n",
       " [7, 8, 9, 7, 42],\n",
       " [9, 3, 28, 90, 4],\n",
       " [72, 54, 2, 2, 3],\n",
       " [23, 33, 41, 9, 3],\n",
       " [0, 3, 99, 4, 10]]"
      ]
     },
     "execution_count": 29,
     "metadata": {},
     "output_type": "execute_result"
    }
   ],
   "source": [
    "[[col - 5 if row.index(col) % 2 == 1 and M.index(row) % 2 == 0 else col for col in row] \n",
    "                                                                        for row in M]"
   ]
  },
  {
   "cell_type": "markdown",
   "id": "19cce302-590d-401a-aabe-d1714697ede2",
   "metadata": {},
   "source": [
    "As can be seen, we obtain the original matrix back. The expression does the following:\n",
    "\n",
    "* Each `row` in M is a sublist representing rows\n",
    "\n",
    "* Each `col` in `row` is an element in the sublist representing entries in a particular row in the matrix\n",
    "\n",
    "* We subtract 5 from the value represented by the variable `col` if two conditions are true:\n",
    "\n",
    "    - `row.index(col) % 2 == 1` means that the positional integer offset of the value `col` in `row` must be 0, 2, 4, 6, i.e. the even columns\n",
    "    \n",
    "    - `M.index(row) % 2 == 0` means that the positional integer offset of the value `row` in `M` must be 1, 3, 5, i.e. the odd rows"
   ]
  },
  {
   "cell_type": "markdown",
   "id": "3f28947a-0280-4ad0-863c-5a9b6658f233",
   "metadata": {},
   "source": [
    "### Matrix multiplication"
   ]
  },
  {
   "cell_type": "code",
   "execution_count": 30,
   "id": "174d24bc-ea66-46c2-a82e-60559349aa2c",
   "metadata": {
    "execution": {
     "iopub.execute_input": "2022-01-18T04:48:23.253435Z",
     "iopub.status.busy": "2022-01-18T04:48:23.253157Z",
     "iopub.status.idle": "2022-01-18T04:48:23.259488Z",
     "shell.execute_reply": "2022-01-18T04:48:23.258803Z",
     "shell.execute_reply.started": "2022-01-18T04:48:23.253398Z"
    },
    "tags": []
   },
   "outputs": [
    {
     "data": {
      "text/plain": [
       "[[0, 0, 0], [0, 0, 0], [0, 0, 0]]"
      ]
     },
     "execution_count": 30,
     "metadata": {},
     "output_type": "execute_result"
    }
   ],
   "source": [
    "# M is 3 x 2\n",
    "M = [[2, 4],\n",
    "     [9, 9],\n",
    "     [7, 3]]\n",
    "# N is 2 x 3\n",
    "N = [[9, 7, 5],\n",
    "     [8, 6, 3]]\n",
    "# Resultant matrix is 3 x 3\n",
    "MN = [[0 for j in range(len(N[1]))] for i in range(len(M))]\n",
    "MN"
   ]
  },
  {
   "cell_type": "markdown",
   "id": "b760ab7d-f87c-4ed3-af32-17dd0dac3899",
   "metadata": {
    "execution": {
     "iopub.execute_input": "2022-01-18T03:49:57.477320Z",
     "iopub.status.busy": "2022-01-18T03:49:57.476993Z",
     "iopub.status.idle": "2022-01-18T03:49:57.482583Z",
     "shell.execute_reply": "2022-01-18T03:49:57.481666Z",
     "shell.execute_reply.started": "2022-01-18T03:49:57.477287Z"
    },
    "tags": []
   },
   "source": [
    "Using for loop:"
   ]
  },
  {
   "cell_type": "code",
   "execution_count": 31,
   "id": "f8b2027e-0cfd-43e3-85ee-753c5eb95845",
   "metadata": {
    "execution": {
     "iopub.execute_input": "2022-01-18T04:47:39.164978Z",
     "iopub.status.busy": "2022-01-18T04:47:39.164767Z",
     "iopub.status.idle": "2022-01-18T04:47:39.169012Z",
     "shell.execute_reply": "2022-01-18T04:47:39.168260Z",
     "shell.execute_reply.started": "2022-01-18T04:47:39.164957Z"
    },
    "tags": []
   },
   "outputs": [],
   "source": [
    "# Each i is an offset representing row index in M (three rows from 0 to 2)\n",
    "for i in range(len(M)):\n",
    "    # Each j is an offset representing column index in N (three columns in N from 0 to 2)\n",
    "    for j in range(len(N[0])):\n",
    "        # Each k is an offset representing number of rows in N (two rows from 0 to 1)\n",
    "        for k in range(len(N)):\n",
    "            # M is 3 x 2 and N is 2 x 3\n",
    "            # Dot product\n",
    "            MN[i][j] += M[i][k] * N[k][j]"
   ]
  },
  {
   "cell_type": "code",
   "execution_count": 32,
   "id": "9c59ee4b-534f-4112-a23a-c685c210f3b8",
   "metadata": {
    "execution": {
     "iopub.execute_input": "2022-01-18T04:47:48.823975Z",
     "iopub.status.busy": "2022-01-18T04:47:48.823505Z",
     "iopub.status.idle": "2022-01-18T04:47:48.829128Z",
     "shell.execute_reply": "2022-01-18T04:47:48.828479Z",
     "shell.execute_reply.started": "2022-01-18T04:47:48.823939Z"
    },
    "tags": []
   },
   "outputs": [
    {
     "data": {
      "text/plain": [
       "[[50, 38, 22], [153, 117, 72], [87, 67, 44]]"
      ]
     },
     "execution_count": 32,
     "metadata": {},
     "output_type": "execute_result"
    }
   ],
   "source": [
    "MN"
   ]
  },
  {
   "cell_type": "markdown",
   "id": "0decf978-8d32-4bb7-a473-4514c1008ae6",
   "metadata": {
    "execution": {
     "iopub.execute_input": "2022-01-18T04:07:35.611499Z",
     "iopub.status.busy": "2022-01-18T04:07:35.611288Z",
     "iopub.status.idle": "2022-01-18T04:07:35.615505Z",
     "shell.execute_reply": "2022-01-18T04:07:35.614747Z",
     "shell.execute_reply.started": "2022-01-18T04:07:35.611478Z"
    },
    "tags": []
   },
   "source": [
    "To understand, we make the following statements:\n",
    "\n",
    "* For M (3 x 2), the first offset cannot exceed 3 and the second offset cannot exceed 2, so `i` and `k`\n",
    "\n",
    "* For N (2 x 3), the first offset cannot exceed 2 and the second cannot exceed 3, so `k` and `j`\n",
    "\n",
    "* The resultant matrix MN has elements `i` (row of M) and `j` (column of N) since matrix multiplication is row times column\n",
    "\n",
    "The brute force approach above can be replaced by a list comprehension:"
   ]
  },
  {
   "cell_type": "code",
   "execution_count": 33,
   "id": "b1f82f72-28c0-4278-975f-d591a7f80037",
   "metadata": {
    "execution": {
     "iopub.execute_input": "2022-01-18T04:48:38.102765Z",
     "iopub.status.busy": "2022-01-18T04:48:38.102506Z",
     "iopub.status.idle": "2022-01-18T04:48:38.110372Z",
     "shell.execute_reply": "2022-01-18T04:48:38.109718Z",
     "shell.execute_reply.started": "2022-01-18T04:48:38.102737Z"
    },
    "tags": []
   },
   "outputs": [
    {
     "data": {
      "text/plain": [
       "[[0, 0, 0], [0, 0, 0], [0, 0, 0]]"
      ]
     },
     "execution_count": 33,
     "metadata": {},
     "output_type": "execute_result"
    },
    {
     "data": {
      "text/plain": [
       "[[50, 38, 22], [153, 117, 72], [87, 67, 44]]"
      ]
     },
     "execution_count": 33,
     "metadata": {},
     "output_type": "execute_result"
    }
   ],
   "source": [
    "MN_list_comp = [[0 for j in range(len(N[1]))] for i in range(len(M))]\n",
    "MN_list_comp\n",
    "# List comprehension\n",
    "[[sum([x * y for (x, y) in zip(row, col)]) for col in zip(*N)] for row in M]"
   ]
  },
  {
   "cell_type": "markdown",
   "id": "ebd6f22d-05aa-4d71-b55a-cce3eac3941e",
   "metadata": {},
   "source": [
    "To understand:\n",
    "\n",
    "* Each `row in M` is a list representing a particular row in matrix M\n",
    "\n",
    "* Each `col in zip(*N)` is a tuple representing a particular column in N\n",
    "\n",
    "To understand `zip(*N)`:"
   ]
  },
  {
   "cell_type": "code",
   "execution_count": 34,
   "id": "2ce6d6b9-38d9-4c4c-9cca-1068531a56a9",
   "metadata": {
    "execution": {
     "iopub.execute_input": "2022-01-18T05:04:50.224358Z",
     "iopub.status.busy": "2022-01-18T05:04:50.224090Z",
     "iopub.status.idle": "2022-01-18T05:04:50.229444Z",
     "shell.execute_reply": "2022-01-18T05:04:50.228693Z",
     "shell.execute_reply.started": "2022-01-18T05:04:50.224333Z"
    },
    "tags": []
   },
   "outputs": [
    {
     "data": {
      "text/plain": [
       "[(9, 8), (7, 6), (5, 3)]"
      ]
     },
     "execution_count": 34,
     "metadata": {},
     "output_type": "execute_result"
    }
   ],
   "source": [
    "list(zip(*N))"
   ]
  },
  {
   "cell_type": "markdown",
   "id": "fded27bf-0c79-4377-9d2f-44666816e102",
   "metadata": {},
   "source": [
    "Then:\n",
    "\n",
    "* Since there are two elements in each `row in M` (two columns in each row) and two elements in each tuple `col` in N (two rows in each column), the iterable object `zip(row, col)` matches up nicely.\n",
    "\n",
    "* Then each x in a particular row in M is multiplied by each y in a particular column in N, and their products compose a list via a list comprehension `[x * y for (x, y) in zip(row, col)]`\n",
    "\n",
    "* This list is then summed using the `sum` function, which is the dot product of the row and column of M and N"
   ]
  },
  {
   "cell_type": "code",
   "execution_count": 35,
   "id": "8acfd862-981f-4c56-a364-15606e38f61d",
   "metadata": {
    "execution": {
     "iopub.execute_input": "2022-01-18T05:14:34.421549Z",
     "iopub.status.busy": "2022-01-18T05:14:34.421288Z",
     "iopub.status.idle": "2022-01-18T05:14:34.429263Z",
     "shell.execute_reply": "2022-01-18T05:14:34.428658Z",
     "shell.execute_reply.started": "2022-01-18T05:14:34.421521Z"
    },
    "tags": []
   },
   "outputs": [
    {
     "data": {
      "text/plain": [
       "array([[ 50,  38,  22],\n",
       "       [153, 117,  72],\n",
       "       [ 87,  67,  44]])"
      ]
     },
     "execution_count": 35,
     "metadata": {},
     "output_type": "execute_result"
    },
    {
     "data": {
      "text/plain": [
       "array([[ 50,  38,  22],\n",
       "       [153, 117,  72],\n",
       "       [ 87,  67,  44]])"
      ]
     },
     "execution_count": 35,
     "metadata": {},
     "output_type": "execute_result"
    }
   ],
   "source": [
    "# Lastly, using numpy functions\n",
    "import numpy as np\n",
    "np.matmul(M, N)\n",
    "np.dot(M, N)"
   ]
  },
  {
   "cell_type": "markdown",
   "id": "6500500e-be44-48f1-b0a6-8210bb7933e3",
   "metadata": {},
   "source": [
    "## Scope\n",
    "\n",
    "An important aspect of list comprehensions is that list comprehension variables are localized in Python 3.x. In contrast, for loop statements never localize their variables to the statement block in any Python. In other words, list comprehenstions do not clash with bindings in the parent environment of the local scope of a iteration context:"
   ]
  },
  {
   "cell_type": "code",
   "execution_count": 36,
   "id": "ae6c301a-e2d9-4111-8233-c24663a9b92b",
   "metadata": {
    "execution": {
     "iopub.execute_input": "2022-01-22T22:42:22.854491Z",
     "iopub.status.busy": "2022-01-22T22:42:22.854213Z",
     "iopub.status.idle": "2022-01-22T22:42:22.866667Z",
     "shell.execute_reply": "2022-01-22T22:42:22.865911Z",
     "shell.execute_reply.started": "2022-01-22T22:42:22.854426Z"
    },
    "tags": []
   },
   "outputs": [
    {
     "data": {
      "text/plain": [
       "4"
      ]
     },
     "execution_count": 36,
     "metadata": {},
     "output_type": "execute_result"
    }
   ],
   "source": [
    "X = 99\n",
    "for X in range(5):\n",
    "    pass\n",
    "# Binding from X to the integer object 99 in the global environment is not retained\n",
    "X"
   ]
  },
  {
   "cell_type": "code",
   "execution_count": 37,
   "id": "dcb039a9-41ac-481d-bcd6-4b4ece9becb1",
   "metadata": {
    "execution": {
     "iopub.execute_input": "2022-01-22T22:42:42.839749Z",
     "iopub.status.busy": "2022-01-22T22:42:42.839279Z",
     "iopub.status.idle": "2022-01-22T22:42:42.844860Z",
     "shell.execute_reply": "2022-01-22T22:42:42.844172Z",
     "shell.execute_reply.started": "2022-01-22T22:42:42.839713Z"
    },
    "tags": []
   },
   "outputs": [
    {
     "data": {
      "text/plain": [
       "[0, 1, 2, 3, 4]"
      ]
     },
     "execution_count": 37,
     "metadata": {},
     "output_type": "execute_result"
    }
   ],
   "source": [
    "Y = 99\n",
    "[Y for Y in range(5)]"
   ]
  },
  {
   "cell_type": "code",
   "execution_count": 38,
   "id": "f576518e-5bc2-42cb-a85a-e14156d8973d",
   "metadata": {
    "execution": {
     "iopub.execute_input": "2022-01-22T22:42:44.492245Z",
     "iopub.status.busy": "2022-01-22T22:42:44.492001Z",
     "iopub.status.idle": "2022-01-22T22:42:44.495921Z",
     "shell.execute_reply": "2022-01-22T22:42:44.495484Z",
     "shell.execute_reply.started": "2022-01-22T22:42:44.492220Z"
    },
    "tags": []
   },
   "outputs": [
    {
     "data": {
      "text/plain": [
       "99"
      ]
     },
     "execution_count": 38,
     "metadata": {},
     "output_type": "execute_result"
    }
   ],
   "source": [
    "# Binding is retained\n",
    "Y"
   ]
  }
 ],
 "metadata": {
  "kernelspec": {
   "display_name": "Python 3 (ipykernel)",
   "language": "python",
   "name": "python3"
  },
  "language_info": {
   "codemirror_mode": {
    "name": "ipython",
    "version": 3
   },
   "file_extension": ".py",
   "mimetype": "text/x-python",
   "name": "python",
   "nbconvert_exporter": "python",
   "pygments_lexer": "ipython3",
   "version": "3.9.12"
  }
 },
 "nbformat": 4,
 "nbformat_minor": 5
}
