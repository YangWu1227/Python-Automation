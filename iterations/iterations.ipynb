{
 "cells": [
  {
   "cell_type": "code",
   "execution_count": 1,
   "id": "c594e518-cc6d-4a98-a100-3b1a87a50d37",
   "metadata": {
    "execution": {
     "iopub.execute_input": "2022-01-16T01:39:03.966588Z",
     "iopub.status.busy": "2022-01-16T01:39:03.966253Z",
     "iopub.status.idle": "2022-01-16T01:39:03.971610Z",
     "shell.execute_reply": "2022-01-16T01:39:03.970282Z",
     "shell.execute_reply.started": "2022-01-16T01:39:03.966552Z"
    },
    "tags": []
   },
   "outputs": [],
   "source": [
    "from IPython.core.interactiveshell import InteractiveShell\n",
    "InteractiveShell.ast_node_interactivity = \"all\""
   ]
  },
  {
   "cell_type": "markdown",
   "id": "3a6435d8-aa6d-4a3c-91da-30c3e09af959",
   "metadata": {},
   "source": [
    "## Iteration Protocal\n",
    "\n",
    "The concept of “iterable objects” is essentially a generalization of the notion of sequences. An object is considered *iterable* if it is either a physically stored sequence, or an object that produces one result at a time in the context of an iteration tool like a `for` loop. In a sense, iterable objects include both physical sequences and virtual sequences computed on demand. The formal definition of Python's iteration protocal is based on two objects:\n",
    "\n",
    "* The **iterable** object we request iteration for, whose `__iter__` method is run by the `iter` function\n",
    "\n",
    "* The **iterator** object returned by the **iterable** that actually produces values during the iteration, whose `__next__` method is run by the `next` built-in function (Python 3.x) and raises `StopIteration` exception when finished producing results\n",
    "\n",
    "To make the ideal more concrete:\n",
    "\n",
    "* An iterator is an object representing a stream of data\n",
    "\n",
    "* An iterator returns the data one element at a time during the iteration\n",
    "\n",
    "* An iterator must support the method `__next__()` that takes no arguments and always returns the next element of the stream\n",
    "\n",
    "* Iterators do not have to be finite as it is reasonable to write an iterator that produces an infinite stream of data\n",
    "\n",
    "On the other side of the coin:\n",
    "\n",
    "* An object is called an iterable if an iterator can be returned from it\n",
    "\n",
    "* An iterable must have the `__iter__` method, and calling the `iter` function on an iterable returns an iterator\n",
    "\n",
    "**Every iterator is also an iterable, but not every iterable is an iterator.** For example, a list is iterable but a list is not an iterator. The figure below shows the iteration protocal in Python:\n",
    "\n",
    "<p align=\"center\">\n",
    "  <img width=\"600\" height=\"250\" img src=\"images/iteration_protocal.png\">\n",
    "</p>\n",
    "\n",
    "The Python iteration protocol is used by for loops, comprehensions, maps, and more, and supported by files, lists, dictionaries, generators, and more. Some objects are both iteration context and iterable object, such as generator expressions and 3.X’s map and zip. Some objects are both iterable and iterator, returning themselves for the `iter()` call, which is then a no-operation (`pass`). In code:"
   ]
  },
  {
   "cell_type": "code",
   "execution_count": 2,
   "id": "88f70a18-e32e-45ed-94a9-8cd198a2b882",
   "metadata": {
    "execution": {
     "iopub.execute_input": "2022-01-16T02:26:26.796783Z",
     "iopub.status.busy": "2022-01-16T02:26:26.796423Z",
     "iopub.status.idle": "2022-01-16T02:26:26.835634Z",
     "shell.execute_reply": "2022-01-16T02:26:26.834724Z",
     "shell.execute_reply.started": "2022-01-16T02:26:26.796745Z"
    },
    "tags": []
   },
   "outputs": [
    {
     "data": {
      "text/plain": [
       "1"
      ]
     },
     "execution_count": 2,
     "metadata": {},
     "output_type": "execute_result"
    },
    {
     "data": {
      "text/plain": [
       "3"
      ]
     },
     "execution_count": 2,
     "metadata": {},
     "output_type": "execute_result"
    },
    {
     "data": {
      "text/plain": [
       "5"
      ]
     },
     "execution_count": 2,
     "metadata": {},
     "output_type": "execute_result"
    },
    {
     "data": {
      "text/plain": [
       "7"
      ]
     },
     "execution_count": 2,
     "metadata": {},
     "output_type": "execute_result"
    },
    {
     "data": {
      "text/plain": [
       "9"
      ]
     },
     "execution_count": 2,
     "metadata": {},
     "output_type": "execute_result"
    }
   ],
   "source": [
    "# List object is an iterable\n",
    "l = [1, 3, 5, 7, 9]\n",
    "# Obtain an iterator object from an iterable\n",
    "i = iter(l)\n",
    "# Call iterator's next method to advance to next item\n",
    "i.__next__()\n",
    "i.__next__()\n",
    "i.__next__()\n",
    "i.__next__()\n",
    "i.__next__()"
   ]
  },
  {
   "cell_type": "code",
   "execution_count": 3,
   "id": "4590b040-58c2-4dd7-ad2a-eb1b98bde978",
   "metadata": {
    "execution": {
     "iopub.execute_input": "2022-01-16T02:29:12.691121Z",
     "iopub.status.busy": "2022-01-16T02:29:12.690854Z",
     "iopub.status.idle": "2022-01-16T02:29:12.697047Z",
     "shell.execute_reply": "2022-01-16T02:29:12.694911Z",
     "shell.execute_reply.started": "2022-01-16T02:29:12.691095Z"
    },
    "tags": []
   },
   "outputs": [
    {
     "name": "stdout",
     "output_type": "stream",
     "text": [
      "A StopIteration exception has been raised\n"
     ]
    }
   ],
   "source": [
    "# This next call should raise the exception\n",
    "try:\n",
    "    i.__next__()\n",
    "except StopIteration:\n",
    "    print(\"A StopIteration exception has been raised\")"
   ]
  },
  {
   "cell_type": "markdown",
   "id": "e95cbd99-73e1-43ab-b078-7bd30e84bf66",
   "metadata": {},
   "source": [
    "### Files\n",
    "\n",
    "Files are their own iterators; they have their own `__next__` method and do not need to return a different object (an iterator) that does:"
   ]
  },
  {
   "cell_type": "code",
   "execution_count": 4,
   "id": "6a23e4d7-af5b-42b4-bf3d-5dfb5673962c",
   "metadata": {
    "execution": {
     "iopub.execute_input": "2022-01-16T02:34:18.781542Z",
     "iopub.status.busy": "2022-01-16T02:34:18.781202Z",
     "iopub.status.idle": "2022-01-16T02:34:18.796751Z",
     "shell.execute_reply": "2022-01-16T02:34:18.795656Z",
     "shell.execute_reply.started": "2022-01-16T02:34:18.781508Z"
    },
    "tags": []
   },
   "outputs": [
    {
     "data": {
      "text/plain": [
       "True"
      ]
     },
     "execution_count": 4,
     "metadata": {},
     "output_type": "execute_result"
    },
    {
     "data": {
      "text/plain": [
       "True"
      ]
     },
     "execution_count": 4,
     "metadata": {},
     "output_type": "execute_result"
    },
    {
     "data": {
      "text/plain": [
       "'# ---------------------------------------------------------------------------- #\\n'"
      ]
     },
     "execution_count": 4,
     "metadata": {},
     "output_type": "execute_result"
    },
    {
     "data": {
      "text/plain": [
       "'#                                    Import                                    #\\n'"
      ]
     },
     "execution_count": 4,
     "metadata": {},
     "output_type": "execute_result"
    },
    {
     "data": {
      "text/plain": [
       "'# ---------------------------------------------------------------------------- #\\n'"
      ]
     },
     "execution_count": 4,
     "metadata": {},
     "output_type": "execute_result"
    }
   ],
   "source": [
    "with open('/Users/kenwu/Desktop/Python/Python Automation/json_toolkit/parse_load_dump.py') as file:\n",
    "    # Calling iter() on a file object should return itself\n",
    "    iter(file) is file\n",
    "    iter(file) is file.__iter__()\n",
    "    # Calling next\n",
    "    file.__next__()\n",
    "    file.__next__()\n",
    "    file.__next__()"
   ]
  },
  {
   "cell_type": "markdown",
   "id": "96bf474f-834e-42c7-be12-91545f738159",
   "metadata": {},
   "source": [
    "### List\n",
    "\n",
    "Lists are not their own iterators, since they support multiple open iterations:"
   ]
  },
  {
   "cell_type": "code",
   "execution_count": 5,
   "id": "cdce9a7a-e1f7-4fa9-adb9-3b80629324b3",
   "metadata": {
    "execution": {
     "iopub.execute_input": "2022-01-16T02:37:48.733481Z",
     "iopub.status.busy": "2022-01-16T02:37:48.733126Z",
     "iopub.status.idle": "2022-01-16T02:37:48.742360Z",
     "shell.execute_reply": "2022-01-16T02:37:48.741311Z",
     "shell.execute_reply.started": "2022-01-16T02:37:48.733445Z"
    },
    "tags": []
   },
   "outputs": [
    {
     "data": {
      "text/plain": [
       "True"
      ]
     },
     "execution_count": 5,
     "metadata": {},
     "output_type": "execute_result"
    },
    {
     "data": {
      "text/plain": [
       "False"
      ]
     },
     "execution_count": 5,
     "metadata": {},
     "output_type": "execute_result"
    }
   ],
   "source": [
    "from collections.abc import Iterable\n",
    "# List is an iterable\n",
    "isinstance(l, Iterable)\n",
    "# Not an iterator\n",
    "iter(l) is l"
   ]
  },
  {
   "cell_type": "code",
   "execution_count": 6,
   "id": "a036f83c-9c3b-47c4-8ed2-a9e315f8c077",
   "metadata": {
    "execution": {
     "iopub.execute_input": "2022-01-16T02:39:01.999115Z",
     "iopub.status.busy": "2022-01-16T02:39:01.998769Z",
     "iopub.status.idle": "2022-01-16T02:39:02.004490Z",
     "shell.execute_reply": "2022-01-16T02:39:02.003199Z",
     "shell.execute_reply.started": "2022-01-16T02:39:01.999079Z"
    },
    "tags": []
   },
   "outputs": [
    {
     "name": "stdout",
     "output_type": "stream",
     "text": [
      "'list' object has no attribute '__next__'\n"
     ]
    }
   ],
   "source": [
    "# Lists do not have the next method that defines an iterator\n",
    "try:\n",
    "    l.__next__()\n",
    "except AttributeError as e:\n",
    "    print(e)"
   ]
  },
  {
   "cell_type": "code",
   "execution_count": 7,
   "id": "815bd533-547d-48e8-9792-806980c5ca92",
   "metadata": {
    "execution": {
     "iopub.execute_input": "2022-01-16T02:40:38.721624Z",
     "iopub.status.busy": "2022-01-16T02:40:38.721296Z",
     "iopub.status.idle": "2022-01-16T02:40:38.729795Z",
     "shell.execute_reply": "2022-01-16T02:40:38.729099Z",
     "shell.execute_reply.started": "2022-01-16T02:40:38.721590Z"
    },
    "tags": []
   },
   "outputs": [
    {
     "data": {
      "text/plain": [
       "1"
      ]
     },
     "execution_count": 7,
     "metadata": {},
     "output_type": "execute_result"
    },
    {
     "data": {
      "text/plain": [
       "3"
      ]
     },
     "execution_count": 7,
     "metadata": {},
     "output_type": "execute_result"
    }
   ],
   "source": [
    "# We need to call the iter function on the iterable to produce the iterator\n",
    "i = l.__iter__()\n",
    "i.__next__()\n",
    "next(i)"
   ]
  },
  {
   "cell_type": "markdown",
   "id": "47ac76d6-f291-439c-bedc-dba1fdabda06",
   "metadata": {},
   "source": [
    "For an interator, repeated calls to the iterator’s `__next__()` method (or passing it to the built-in function `next()`) return successive items in the stream. When no more data are available a StopIteration exception is raised instead. At this point, the iterator object is exhausted and any further calls to its `__next__()` method just raise StopIteration again. Iterators are required to have an `__iter__()` method that returns the iterator object itself so every iterator is also iterable and may be used in most places where other iterables are accepted. **One notable exception is code which attempts multiple iteration passes**. A container object (such as a list) produces a fresh new iterator each time we pass it to the iter() function or use it in a for loop. Attempting this with an iterator will just return the same exhausted iterator object used in the previous iteration pass, making it appear like an empty container."
   ]
  },
  {
   "cell_type": "markdown",
   "id": "12f46205-efb0-4fab-85c0-6be05949968c",
   "metadata": {},
   "source": [
    "### Automatic and Manual Iteration"
   ]
  },
  {
   "cell_type": "code",
   "execution_count": 8,
   "id": "2ffbc4fb-d084-46df-ae39-531b13789c60",
   "metadata": {
    "execution": {
     "iopub.execute_input": "2022-01-16T02:43:38.621006Z",
     "iopub.status.busy": "2022-01-16T02:43:38.620760Z",
     "iopub.status.idle": "2022-01-16T02:43:38.624793Z",
     "shell.execute_reply": "2022-01-16T02:43:38.624264Z",
     "shell.execute_reply.started": "2022-01-16T02:43:38.620980Z"
    },
    "tags": []
   },
   "outputs": [
    {
     "name": "stdout",
     "output_type": "stream",
     "text": [
      "1 9 25 49 81 "
     ]
    }
   ],
   "source": [
    "# For automatically calls the internal equivalent of I.__next__\n",
    "for x in l:\n",
    "    # Obtains iter, calls __next__, catches exceptions (all automatically taken care of)\n",
    "    print(x ** 2, end=' ')"
   ]
  },
  {
   "cell_type": "code",
   "execution_count": 9,
   "id": "5bd4790d-f813-4ce6-aede-604ff069466d",
   "metadata": {
    "execution": {
     "iopub.execute_input": "2022-01-16T02:45:43.636811Z",
     "iopub.status.busy": "2022-01-16T02:45:43.636485Z",
     "iopub.status.idle": "2022-01-16T02:45:43.642085Z",
     "shell.execute_reply": "2022-01-16T02:45:43.641066Z",
     "shell.execute_reply.started": "2022-01-16T02:45:43.636779Z"
    },
    "tags": []
   },
   "outputs": [
    {
     "name": "stdout",
     "output_type": "stream",
     "text": [
      "1 9 25 49 81 "
     ]
    }
   ],
   "source": [
    "# Manual iteration\n",
    "i = iter(l) \n",
    "while True:\n",
    "    try:\n",
    "        x = i.__next__()\n",
    "    except StopIteration: \n",
    "        break\n",
    "    print(x ** 2, end=' ')"
   ]
  },
  {
   "cell_type": "markdown",
   "id": "a5e96303-9566-406a-a86e-6015a45731bb",
   "metadata": {
    "execution": {
     "iopub.execute_input": "2022-01-16T02:49:31.720218Z",
     "iopub.status.busy": "2022-01-16T02:49:31.719652Z",
     "iopub.status.idle": "2022-01-16T02:49:31.724713Z",
     "shell.execute_reply": "2022-01-16T02:49:31.723609Z",
     "shell.execute_reply.started": "2022-01-16T02:49:31.720175Z"
    },
    "tags": []
   },
   "source": [
    "## Other Buit-in Type Iterables\n",
    "\n",
    "### Dictionary\n",
    "\n",
    "In recent Python versions, dictionaries are iterables with an iterator that automatically returns one key at a time in an iteration context:"
   ]
  },
  {
   "cell_type": "code",
   "execution_count": 10,
   "id": "60d3ac9f-0afd-4661-b9f3-026f326fd7ba",
   "metadata": {
    "execution": {
     "iopub.execute_input": "2022-01-16T02:51:49.638638Z",
     "iopub.status.busy": "2022-01-16T02:51:49.638375Z",
     "iopub.status.idle": "2022-01-16T02:51:49.643552Z",
     "shell.execute_reply": "2022-01-16T02:51:49.642934Z",
     "shell.execute_reply.started": "2022-01-16T02:51:49.638609Z"
    },
    "tags": []
   },
   "outputs": [
    {
     "data": {
      "text/plain": [
       "True"
      ]
     },
     "execution_count": 10,
     "metadata": {},
     "output_type": "execute_result"
    }
   ],
   "source": [
    "# Dictionary\n",
    "d = {'name': 'wu', \"age\": 23}\n",
    "isinstance(d, dict)"
   ]
  },
  {
   "cell_type": "code",
   "execution_count": 11,
   "id": "cb832783-9677-4327-8306-f97660afee58",
   "metadata": {
    "execution": {
     "iopub.execute_input": "2022-01-16T03:05:22.695288Z",
     "iopub.status.busy": "2022-01-16T03:05:22.694838Z",
     "iopub.status.idle": "2022-01-16T03:05:22.700892Z",
     "shell.execute_reply": "2022-01-16T03:05:22.700208Z",
     "shell.execute_reply.started": "2022-01-16T03:05:22.695254Z"
    },
    "tags": []
   },
   "outputs": [
    {
     "data": {
      "text/plain": [
       "False"
      ]
     },
     "execution_count": 11,
     "metadata": {},
     "output_type": "execute_result"
    }
   ],
   "source": [
    "# Dictionary is not an iterator\n",
    "d.__iter__() is d"
   ]
  },
  {
   "cell_type": "code",
   "execution_count": 12,
   "id": "a5fe36e7-ae80-42f2-a6d7-25025adbbded",
   "metadata": {
    "execution": {
     "iopub.execute_input": "2022-01-16T02:52:18.736977Z",
     "iopub.status.busy": "2022-01-16T02:52:18.736517Z",
     "iopub.status.idle": "2022-01-16T02:52:18.741776Z",
     "shell.execute_reply": "2022-01-16T02:52:18.740817Z",
     "shell.execute_reply.started": "2022-01-16T02:52:18.736942Z"
    },
    "tags": []
   },
   "outputs": [
    {
     "name": "stdout",
     "output_type": "stream",
     "text": [
      "name wu\n",
      "age 23\n"
     ]
    }
   ],
   "source": [
    "# Classic stepping thru a dictionary\n",
    "for key in d.keys():\n",
    "    print(key, d[key])"
   ]
  },
  {
   "cell_type": "code",
   "execution_count": 13,
   "id": "bb39b801-d195-466b-afef-be71b923d9c6",
   "metadata": {
    "execution": {
     "iopub.execute_input": "2022-01-16T02:53:49.917100Z",
     "iopub.status.busy": "2022-01-16T02:53:49.916641Z",
     "iopub.status.idle": "2022-01-16T02:53:49.923293Z",
     "shell.execute_reply": "2022-01-16T02:53:49.922514Z",
     "shell.execute_reply.started": "2022-01-16T02:53:49.917065Z"
    },
    "tags": []
   },
   "outputs": [
    {
     "data": {
      "text/plain": [
       "'name'"
      ]
     },
     "execution_count": 13,
     "metadata": {},
     "output_type": "execute_result"
    },
    {
     "data": {
      "text/plain": [
       "'age'"
      ]
     },
     "execution_count": 13,
     "metadata": {},
     "output_type": "execute_result"
    }
   ],
   "source": [
    "# Now dictionaries are iterables\n",
    "i = iter(d)\n",
    "i.__next__()\n",
    "next(i)"
   ]
  },
  {
   "cell_type": "code",
   "execution_count": 14,
   "id": "49fd3b85-7d54-4a68-a365-53aeb3adb3db",
   "metadata": {
    "execution": {
     "iopub.execute_input": "2022-01-16T02:54:58.291798Z",
     "iopub.status.busy": "2022-01-16T02:54:58.291065Z",
     "iopub.status.idle": "2022-01-16T02:54:58.295746Z",
     "shell.execute_reply": "2022-01-16T02:54:58.294812Z",
     "shell.execute_reply.started": "2022-01-16T02:54:58.291765Z"
    },
    "tags": []
   },
   "outputs": [
    {
     "name": "stdout",
     "output_type": "stream",
     "text": [
      "name wu\n",
      "age 23\n"
     ]
    }
   ],
   "source": [
    "# For loop automatically employ the iteration protocal\n",
    "for key in d:\n",
    "    print(key, d[key])"
   ]
  },
  {
   "cell_type": "markdown",
   "id": "21c771bc-3b59-4452-9243-c5369d655f68",
   "metadata": {},
   "source": [
    "### Tuple"
   ]
  },
  {
   "cell_type": "code",
   "execution_count": 15,
   "id": "7a45159d-3e0f-4667-b810-17611008b09d",
   "metadata": {
    "execution": {
     "iopub.execute_input": "2022-01-16T03:03:38.738828Z",
     "iopub.status.busy": "2022-01-16T03:03:38.738364Z",
     "iopub.status.idle": "2022-01-16T03:03:38.745648Z",
     "shell.execute_reply": "2022-01-16T03:03:38.744745Z",
     "shell.execute_reply.started": "2022-01-16T03:03:38.738793Z"
    },
    "tags": []
   },
   "outputs": [
    {
     "data": {
      "text/plain": [
       "True"
      ]
     },
     "execution_count": 15,
     "metadata": {},
     "output_type": "execute_result"
    }
   ],
   "source": [
    "t = (1, 2, 'jaja', True)\n",
    "isinstance(t, Iterable)"
   ]
  },
  {
   "cell_type": "code",
   "execution_count": 16,
   "id": "e24c8d0c-d516-41a8-9b99-189299e61745",
   "metadata": {
    "execution": {
     "iopub.execute_input": "2022-01-16T03:04:06.573578Z",
     "iopub.status.busy": "2022-01-16T03:04:06.573309Z",
     "iopub.status.idle": "2022-01-16T03:04:06.578372Z",
     "shell.execute_reply": "2022-01-16T03:04:06.577615Z",
     "shell.execute_reply.started": "2022-01-16T03:04:06.573552Z"
    },
    "tags": []
   },
   "outputs": [
    {
     "data": {
      "text/plain": [
       "False"
      ]
     },
     "execution_count": 16,
     "metadata": {},
     "output_type": "execute_result"
    }
   ],
   "source": [
    "# Tuples are not iterators\n",
    "iter(t) is t"
   ]
  },
  {
   "cell_type": "code",
   "execution_count": 17,
   "id": "e8822e02-152d-439b-87bb-7f4abb322d25",
   "metadata": {
    "execution": {
     "iopub.execute_input": "2022-01-16T03:04:49.458182Z",
     "iopub.status.busy": "2022-01-16T03:04:49.457926Z",
     "iopub.status.idle": "2022-01-16T03:04:49.468164Z",
     "shell.execute_reply": "2022-01-16T03:04:49.467219Z",
     "shell.execute_reply.started": "2022-01-16T03:04:49.458155Z"
    },
    "tags": []
   },
   "outputs": [
    {
     "data": {
      "text/plain": [
       "1"
      ]
     },
     "execution_count": 17,
     "metadata": {},
     "output_type": "execute_result"
    },
    {
     "data": {
      "text/plain": [
       "2"
      ]
     },
     "execution_count": 17,
     "metadata": {},
     "output_type": "execute_result"
    },
    {
     "data": {
      "text/plain": [
       "'jaja'"
      ]
     },
     "execution_count": 17,
     "metadata": {},
     "output_type": "execute_result"
    },
    {
     "data": {
      "text/plain": [
       "True"
      ]
     },
     "execution_count": 17,
     "metadata": {},
     "output_type": "execute_result"
    }
   ],
   "source": [
    "i = t.__iter__()\n",
    "i.__next__()\n",
    "i.__next__()\n",
    "i.__next__()\n",
    "i.__next__()"
   ]
  },
  {
   "cell_type": "markdown",
   "id": "25e2ba58-a692-4a28-9582-2aa53acc20cc",
   "metadata": {},
   "source": [
    "### Set"
   ]
  },
  {
   "cell_type": "code",
   "execution_count": 18,
   "id": "dbd36476-7842-44d4-906d-9c1cb0ca32e9",
   "metadata": {
    "execution": {
     "iopub.execute_input": "2022-01-16T03:07:54.547309Z",
     "iopub.status.busy": "2022-01-16T03:07:54.547038Z",
     "iopub.status.idle": "2022-01-16T03:07:54.551678Z",
     "shell.execute_reply": "2022-01-16T03:07:54.551117Z",
     "shell.execute_reply.started": "2022-01-16T03:07:54.547284Z"
    },
    "tags": []
   },
   "outputs": [
    {
     "data": {
      "text/plain": [
       "True"
      ]
     },
     "execution_count": 18,
     "metadata": {},
     "output_type": "execute_result"
    }
   ],
   "source": [
    "s = {1, 3, \"yang\"}\n",
    "isinstance(s, Iterable)"
   ]
  },
  {
   "cell_type": "code",
   "execution_count": 19,
   "id": "5ed4c959-9e0d-4cd0-a0fa-17c9f5afada1",
   "metadata": {
    "execution": {
     "iopub.execute_input": "2022-01-16T03:07:21.544518Z",
     "iopub.status.busy": "2022-01-16T03:07:21.543687Z",
     "iopub.status.idle": "2022-01-16T03:07:21.550064Z",
     "shell.execute_reply": "2022-01-16T03:07:21.549336Z",
     "shell.execute_reply.started": "2022-01-16T03:07:21.544474Z"
    },
    "tags": []
   },
   "outputs": [
    {
     "data": {
      "text/plain": [
       "False"
      ]
     },
     "execution_count": 19,
     "metadata": {},
     "output_type": "execute_result"
    }
   ],
   "source": [
    "# Not an iterator\n",
    "iter(s) is s"
   ]
  },
  {
   "cell_type": "code",
   "execution_count": 20,
   "id": "9f8750a8-28d8-45c7-83c0-a72404bca218",
   "metadata": {
    "execution": {
     "iopub.execute_input": "2022-01-16T03:07:56.190535Z",
     "iopub.status.busy": "2022-01-16T03:07:56.190294Z",
     "iopub.status.idle": "2022-01-16T03:07:56.198001Z",
     "shell.execute_reply": "2022-01-16T03:07:56.197498Z",
     "shell.execute_reply.started": "2022-01-16T03:07:56.190513Z"
    },
    "tags": []
   },
   "outputs": [
    {
     "data": {
      "text/plain": [
       "1"
      ]
     },
     "execution_count": 20,
     "metadata": {},
     "output_type": "execute_result"
    },
    {
     "data": {
      "text/plain": [
       "3"
      ]
     },
     "execution_count": 20,
     "metadata": {},
     "output_type": "execute_result"
    },
    {
     "data": {
      "text/plain": [
       "'yang'"
      ]
     },
     "execution_count": 20,
     "metadata": {},
     "output_type": "execute_result"
    }
   ],
   "source": [
    "i = s.__iter__()\n",
    "i.__next__()\n",
    "i.__next__()\n",
    "i.__next__()"
   ]
  },
  {
   "cell_type": "code",
   "execution_count": 21,
   "id": "c02a3df2-a3bb-481c-9415-73b80a34d566",
   "metadata": {
    "execution": {
     "iopub.execute_input": "2022-01-16T03:12:57.184231Z",
     "iopub.status.busy": "2022-01-16T03:12:57.183892Z",
     "iopub.status.idle": "2022-01-16T03:12:57.189476Z",
     "shell.execute_reply": "2022-01-16T03:12:57.188671Z",
     "shell.execute_reply.started": "2022-01-16T03:12:57.184197Z"
    },
    "tags": []
   },
   "outputs": [
    {
     "data": {
      "text/plain": [
       "True"
      ]
     },
     "execution_count": 21,
     "metadata": {},
     "output_type": "execute_result"
    }
   ],
   "source": [
    "string = 'yang loves python'\n",
    "isinstance(string, Iterable)"
   ]
  },
  {
   "cell_type": "code",
   "execution_count": 22,
   "id": "f0586c93-430d-4e54-9042-9869a2e10131",
   "metadata": {
    "execution": {
     "iopub.execute_input": "2022-01-16T03:12:58.656449Z",
     "iopub.status.busy": "2022-01-16T03:12:58.656212Z",
     "iopub.status.idle": "2022-01-16T03:12:58.660886Z",
     "shell.execute_reply": "2022-01-16T03:12:58.660325Z",
     "shell.execute_reply.started": "2022-01-16T03:12:58.656425Z"
    },
    "tags": []
   },
   "outputs": [
    {
     "data": {
      "text/plain": [
       "False"
      ]
     },
     "execution_count": 22,
     "metadata": {},
     "output_type": "execute_result"
    }
   ],
   "source": [
    "# Not an interator\n",
    "iter(string) is string"
   ]
  },
  {
   "cell_type": "code",
   "execution_count": 23,
   "id": "2e0d117d-7b05-42a0-be53-600b8e12eafc",
   "metadata": {
    "execution": {
     "iopub.execute_input": "2022-01-16T03:12:59.190758Z",
     "iopub.status.busy": "2022-01-16T03:12:59.190392Z",
     "iopub.status.idle": "2022-01-16T03:12:59.195351Z",
     "shell.execute_reply": "2022-01-16T03:12:59.194716Z",
     "shell.execute_reply.started": "2022-01-16T03:12:59.190723Z"
    },
    "tags": []
   },
   "outputs": [
    {
     "name": "stdout",
     "output_type": "stream",
     "text": [
      "y\n",
      "a\n",
      "n\n",
      "g\n",
      " \n",
      "l\n",
      "o\n",
      "v\n",
      "e\n",
      "s\n",
      " \n",
      "p\n",
      "y\n",
      "t\n",
      "h\n",
      "o\n",
      "n\n"
     ]
    }
   ],
   "source": [
    "i = string.__iter__()\n",
    "while True:\n",
    "    try:\n",
    "        x = i.__next__()\n",
    "    except StopIteration:\n",
    "        break\n",
    "    print(x)"
   ]
  }
 ],
 "metadata": {
  "kernelspec": {
   "display_name": "Python 3 (ipykernel)",
   "language": "python",
   "name": "python3"
  },
  "language_info": {
   "codemirror_mode": {
    "name": "ipython",
    "version": 3
   },
   "file_extension": ".py",
   "mimetype": "text/x-python",
   "name": "python",
   "nbconvert_exporter": "python",
   "pygments_lexer": "ipython3",
   "version": "3.9.12"
  }
 },
 "nbformat": 4,
 "nbformat_minor": 5
}
