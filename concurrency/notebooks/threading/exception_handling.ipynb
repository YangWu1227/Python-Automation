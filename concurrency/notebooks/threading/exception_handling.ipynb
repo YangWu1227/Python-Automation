{
 "cells": [
  {
   "cell_type": "code",
   "execution_count": 1,
   "metadata": {},
   "outputs": [],
   "source": [
    "from concurrent.futures import ThreadPoolExecutor\n",
    "from random import random\n",
    "from time import sleep"
   ]
  },
  {
   "cell_type": "markdown",
   "metadata": {},
   "source": [
    "There are three points you may need to consider exception handling when using the ThreadPoolExecutor; they are:\n",
    "\n",
    "* Exception Handling During Thread Initialization\n",
    "* Exception Handling During Task Execution\n",
    "* Exception Handling During Task Completion Callbacks\n",
    "\n",
    "\n",
    "## Exception Handling During Thread Initialization\n",
    "\n",
    "We can specify a custom initialization function when configuring `ThreadPoolExecutor`.\n",
    "\n",
    "This can be set via the `initializer` argument to specify the function name and `initargs` to specify a tuple of arguments to the function.\n",
    "\n",
    "Each thread started by the thread pool will call the initialization function before starting the thread.\n",
    "\n",
    "If the initialization function raises an exception, it will break the thread pool.\n",
    "\n",
    "All current tasks and any future tasks executed by the thread pool will not run and will raise a `BrokenThreadPool` exception.\n",
    "\n",
    "We can demonstrate this with an example of a contrived initializer function that raises an exception."
   ]
  },
  {
   "cell_type": "code",
   "execution_count": 3,
   "metadata": {},
   "outputs": [
    {
     "name": "stderr",
     "output_type": "stream",
     "text": [
      "Exception in initializer:\n",
      "Traceback (most recent call last):\n",
      "  File \"/Users/kenwu/opt/anaconda3/envs/python_for_machine_learning/lib/python3.9/concurrent/futures/thread.py\", line 72, in _worker\n",
      "    initializer(*initargs)\n",
      "  File \"/var/folders/z_/pqnd1zt14yb6fdthpr75md480000gn/T/ipykernel_24974/3471916382.py\", line 3, in initializer_worker\n",
      "    raise Exception('Something bad happened!')\n",
      "Exception: Something bad happened!\n",
      "Exception in initializer:\n",
      "Traceback (most recent call last):\n",
      "  File \"/Users/kenwu/opt/anaconda3/envs/python_for_machine_learning/lib/python3.9/concurrent/futures/thread.py\", line 72, in _worker\n",
      "    initializer(*initargs)\n",
      "  File \"/var/folders/z_/pqnd1zt14yb6fdthpr75md480000gn/T/ipykernel_24974/3471916382.py\", line 3, in initializer_worker\n",
      "    raise Exception('Something bad happened!')\n",
      "Exception: Something bad happened!\n"
     ]
    },
    {
     "ename": "BrokenThreadPool",
     "evalue": "A thread initializer failed, the thread pool is not usable anymore",
     "output_type": "error",
     "traceback": [
      "\u001b[0;31m---------------------------------------------------------------------------\u001b[0m",
      "\u001b[0;31mBrokenThreadPool\u001b[0m                          Traceback (most recent call last)",
      "Cell \u001b[0;32mIn[3], line 13\u001b[0m\n\u001b[1;32m     10\u001b[0m \u001b[38;5;66;03m# Create a thread pool\u001b[39;00m\n\u001b[1;32m     11\u001b[0m \u001b[38;5;28;01mwith\u001b[39;00m ThreadPoolExecutor(max_workers\u001b[38;5;241m=\u001b[39m\u001b[38;5;241m2\u001b[39m, initializer\u001b[38;5;241m=\u001b[39minitializer_worker) \u001b[38;5;28;01mas\u001b[39;00m executor:\n\u001b[1;32m     12\u001b[0m     \u001b[38;5;66;03m# Execute tasks\u001b[39;00m\n\u001b[0;32m---> 13\u001b[0m     \u001b[38;5;28;01mfor\u001b[39;00m result \u001b[38;5;129;01min\u001b[39;00m executor\u001b[38;5;241m.\u001b[39mmap(task, \u001b[38;5;28mrange\u001b[39m(\u001b[38;5;241m10\u001b[39m)):\n\u001b[1;32m     14\u001b[0m         \u001b[38;5;28mprint\u001b[39m(result)\n",
      "File \u001b[0;32m~/opt/anaconda3/envs/python_for_machine_learning/lib/python3.9/concurrent/futures/_base.py:609\u001b[0m, in \u001b[0;36mExecutor.map.<locals>.result_iterator\u001b[0;34m()\u001b[0m\n\u001b[1;32m    606\u001b[0m \u001b[38;5;28;01mwhile\u001b[39;00m fs:\n\u001b[1;32m    607\u001b[0m     \u001b[38;5;66;03m# Careful not to keep a reference to the popped future\u001b[39;00m\n\u001b[1;32m    608\u001b[0m     \u001b[38;5;28;01mif\u001b[39;00m timeout \u001b[38;5;129;01mis\u001b[39;00m \u001b[38;5;28;01mNone\u001b[39;00m:\n\u001b[0;32m--> 609\u001b[0m         \u001b[38;5;28;01myield\u001b[39;00m \u001b[43mfs\u001b[49m\u001b[38;5;241;43m.\u001b[39;49m\u001b[43mpop\u001b[49m\u001b[43m(\u001b[49m\u001b[43m)\u001b[49m\u001b[38;5;241;43m.\u001b[39;49m\u001b[43mresult\u001b[49m\u001b[43m(\u001b[49m\u001b[43m)\u001b[49m\n\u001b[1;32m    610\u001b[0m     \u001b[38;5;28;01melse\u001b[39;00m:\n\u001b[1;32m    611\u001b[0m         \u001b[38;5;28;01myield\u001b[39;00m fs\u001b[38;5;241m.\u001b[39mpop()\u001b[38;5;241m.\u001b[39mresult(end_time \u001b[38;5;241m-\u001b[39m time\u001b[38;5;241m.\u001b[39mmonotonic())\n",
      "File \u001b[0;32m~/opt/anaconda3/envs/python_for_machine_learning/lib/python3.9/concurrent/futures/_base.py:446\u001b[0m, in \u001b[0;36mFuture.result\u001b[0;34m(self, timeout)\u001b[0m\n\u001b[1;32m    444\u001b[0m     \u001b[38;5;28;01mraise\u001b[39;00m CancelledError()\n\u001b[1;32m    445\u001b[0m \u001b[38;5;28;01melif\u001b[39;00m \u001b[38;5;28mself\u001b[39m\u001b[38;5;241m.\u001b[39m_state \u001b[38;5;241m==\u001b[39m FINISHED:\n\u001b[0;32m--> 446\u001b[0m     \u001b[38;5;28;01mreturn\u001b[39;00m \u001b[38;5;28;43mself\u001b[39;49m\u001b[38;5;241;43m.\u001b[39;49m\u001b[43m__get_result\u001b[49m\u001b[43m(\u001b[49m\u001b[43m)\u001b[49m\n\u001b[1;32m    447\u001b[0m \u001b[38;5;28;01melse\u001b[39;00m:\n\u001b[1;32m    448\u001b[0m     \u001b[38;5;28;01mraise\u001b[39;00m \u001b[38;5;167;01mTimeoutError\u001b[39;00m()\n",
      "File \u001b[0;32m~/opt/anaconda3/envs/python_for_machine_learning/lib/python3.9/concurrent/futures/_base.py:391\u001b[0m, in \u001b[0;36mFuture.__get_result\u001b[0;34m(self)\u001b[0m\n\u001b[1;32m    389\u001b[0m \u001b[38;5;28;01mif\u001b[39;00m \u001b[38;5;28mself\u001b[39m\u001b[38;5;241m.\u001b[39m_exception:\n\u001b[1;32m    390\u001b[0m     \u001b[38;5;28;01mtry\u001b[39;00m:\n\u001b[0;32m--> 391\u001b[0m         \u001b[38;5;28;01mraise\u001b[39;00m \u001b[38;5;28mself\u001b[39m\u001b[38;5;241m.\u001b[39m_exception\n\u001b[1;32m    392\u001b[0m     \u001b[38;5;28;01mfinally\u001b[39;00m:\n\u001b[1;32m    393\u001b[0m         \u001b[38;5;66;03m# Break a reference cycle with the exception in self._exception\u001b[39;00m\n\u001b[1;32m    394\u001b[0m         \u001b[38;5;28mself\u001b[39m \u001b[38;5;241m=\u001b[39m \u001b[38;5;28;01mNone\u001b[39;00m\n",
      "\u001b[0;31mBrokenThreadPool\u001b[0m: A thread initializer failed, the thread pool is not usable anymore"
     ]
    }
   ],
   "source": [
    "# Function for initializing the worker thread\n",
    "def initializer_worker():\n",
    "    raise Exception(\"Something bad happened!\")\n",
    "\n",
    "\n",
    "# A mock task that sleeps for a random amount of time less than one second\n",
    "def task(identifier):\n",
    "    sleep(random())\n",
    "    return identifier\n",
    "\n",
    "\n",
    "# Create a thread pool\n",
    "with ThreadPoolExecutor(max_workers=2, initializer=initializer_worker) as executor:\n",
    "    # Execute tasks\n",
    "    for result in executor.map(task, range(10)):\n",
    "        print(result)"
   ]
  },
  {
   "cell_type": "markdown",
   "metadata": {},
   "source": [
    "The thread pool is created as per normal, but as soon as we try to execute tasks, new worker threads are created, the custom worker thread initialization function is called, and raises an exception.\n",
    "\n",
    "Multiple threads attempted to start, and in turn, multiple threads failed with an Exception. Finally, the thread pool itself logged a message that the pool is broken and cannot be used any longer.\n",
    "\n",
    "## Exception Handling During Task Execution\n",
    "\n",
    "An exception occurring while executing tasks will cause the task to stop executing, but will not break the thread pool. Instead, the exception will be caught by the thread pool and will be available via the `Future` object associated with the task via the `exception()` function.\n",
    "\n",
    "Alternately, the exception will be re-raised if we call `result()` in the `Future` object. This will impact both calls to `submit()` and `map()` when adding tasks to the thread pool.\n",
    "\n",
    "We have two options for handling exceptions in tasks:\n",
    "\n",
    "1. Handle exceptions within the task function.\n",
    "2. Handle exceptions when getting results from tasks.\n",
    "\n",
    "### Handle Exception Within the Task\n",
    "\n",
    "Handling the exception within the task means that we need some mechanism (try catch) to let the recipient of the result know that something unexpected happened.\n",
    "\n",
    "This could be via the return value from the function, e.g. `None`.\n"
   ]
  },
  {
   "cell_type": "code",
   "execution_count": 4,
   "metadata": {},
   "outputs": [
    {
     "name": "stdout",
     "output_type": "stream",
     "text": [
      "Unable to get the result\n"
     ]
    }
   ],
   "source": [
    "def work():\n",
    "    sleep(1)\n",
    "    try:\n",
    "        raise Exception(\"Something bad happened!\")\n",
    "    except Exception:\n",
    "        return \"Unable to get the result\"\n",
    "    return \"never gets here\"\n",
    "\n",
    "\n",
    "# Create a thread pool\n",
    "with ThreadPoolExecutor() as executor:\n",
    "    # execute our task\n",
    "    future = executor.submit(work)\n",
    "    # Get the result from the task\n",
    "    result = future.result()\n",
    "    print(result)"
   ]
  },
  {
   "cell_type": "markdown",
   "metadata": {},
   "source": [
    "Alternatively, we can re-raise an exception and have the recipient handle it directly."
   ]
  },
  {
   "cell_type": "code",
   "execution_count": 5,
   "metadata": {},
   "outputs": [
    {
     "name": "stdout",
     "output_type": "stream",
     "text": [
      "Unable to get the result\n"
     ]
    }
   ],
   "source": [
    "def work():\n",
    "    sleep(1)\n",
    "    raise Exception(\"Something bad happened!\")\n",
    "    return \"never gets here\"\n",
    "\n",
    "\n",
    "# Create a thread pool\n",
    "with ThreadPoolExecutor() as executor:\n",
    "    future = executor.submit(work)\n",
    "    # Get the result from the task\n",
    "    try:\n",
    "        result = future.result()\n",
    "    except Exception:\n",
    "        print(\"Unable to get the result\")"
   ]
  },
  {
   "cell_type": "markdown",
   "metadata": {},
   "source": [
    "We can also check for the exception directly via a call to the `exception()` function on the `Future` object. This function blocks until an exception occurs and takes a timeout, just like a call to `result()`.\n",
    "\n",
    "If an exception never occurs and the task is cancelled or completes successfully, then `exception()` will return `None`.\n",
    "\n"
   ]
  },
  {
   "cell_type": "code",
   "execution_count": 6,
   "metadata": {},
   "outputs": [
    {
     "name": "stdout",
     "output_type": "stream",
     "text": [
      "Something bad happened!\n"
     ]
    }
   ],
   "source": [
    "def work():\n",
    "    sleep(1)\n",
    "    raise Exception(\"Something bad happened!\")\n",
    "    return \"never gets here\"\n",
    "\n",
    "\n",
    "with ThreadPoolExecutor() as executor:\n",
    "    future = executor.submit(work)\n",
    "    exception = future.exception()\n",
    "    # Handle exceptional case\n",
    "    if exception:\n",
    "        print(exception)\n",
    "    else:\n",
    "        result = future.result()\n",
    "        print(result)"
   ]
  },
  {
   "cell_type": "markdown",
   "metadata": {},
   "source": [
    "We cannot check the `exception()` function of the `Future` object for each task when using `map()`, since it does not provide access to Future objects.\n",
    "\n",
    "If `map()` is used to submit tasks to the thread pool, then the tasks should handle their own exceptions or be simple enough that exceptions are not expected.\n",
    "\n",
    "## Exception Handling in Callbacks\n",
    "\n",
    "When issuing tasks to the thread pool with a call to `submit()`, we receive a `Future` object in return on which we can register callback functions to call when the task completes via the `add_done_callback()` function.\n",
    "\n",
    "This allows one or more callback functions to be registered that will be executed in the order in which they are registered.\n",
    "\n",
    "These callbacks are always called, even if the task is cancelled or fails itself with an exception.\n",
    "\n",
    "A callback can fail with an exception and it **will not impact other callback functions** that have been registered or the task.\n",
    "\n",
    "The exception is caught by the thread pool, logged as an exception type message, and the procedure moves on. In a sense, **callbacks are able to fail silently**."
   ]
  },
  {
   "cell_type": "code",
   "execution_count": 7,
   "metadata": {},
   "outputs": [
    {
     "name": "stderr",
     "output_type": "stream",
     "text": [
      "exception calling callback for <Future at 0x10b12cc10 state=finished returned str>\n",
      "Traceback (most recent call last):\n",
      "  File \"/Users/kenwu/opt/anaconda3/envs/python_for_machine_learning/lib/python3.9/concurrent/futures/_base.py\", line 330, in _invoke_callbacks\n",
      "    callback(self)\n",
      "  File \"/var/folders/z_/pqnd1zt14yb6fdthpr75md480000gn/T/ipykernel_24974/1074310337.py\", line 2, in custom_callback1\n",
      "    raise Exception('Something bad happened!')\n",
      "Exception: Something bad happened!\n"
     ]
    },
    {
     "name": "stdout",
     "output_type": "stream",
     "text": [
      "Callback 2 called.\n",
      "Task is done\n"
     ]
    }
   ],
   "source": [
    "def custom_callback1(future):\n",
    "    raise Exception(\"Something bad happened!\")\n",
    "    # Never gets here\n",
    "    print(\"Callback 1 called.\")\n",
    "\n",
    "\n",
    "# Callback function to call when a task is completed\n",
    "def custom_callback2(future):\n",
    "    print(\"Callback 2 called.\")\n",
    "\n",
    "\n",
    "def work():\n",
    "    sleep(1)\n",
    "    return \"Task is done\"\n",
    "\n",
    "\n",
    "with ThreadPoolExecutor() as executor:\n",
    "    future = executor.submit(work)\n",
    "    # Add the custom callbacks\n",
    "    future.add_done_callback(custom_callback1)\n",
    "    future.add_done_callback(custom_callback2)\n",
    "    # Wait for the task to complete and get the result\n",
    "    result = future.result()\n",
    "    sleep(0.1)\n",
    "    print(result)"
   ]
  },
  {
   "cell_type": "markdown",
   "metadata": {},
   "source": [
    "When the task completes, the first callback is called, which fails with an exception. The exception is logged and reported on the console (the default behavior for logging).\n",
    "\n",
    "The thread pool is not broken and carries on.\n",
    "\n",
    "The second callback is called successfully, and finally, the main thread gets the result of the task."
   ]
  }
 ],
 "metadata": {
  "kernelspec": {
   "display_name": "Python 3.9.12 ('python_automation')",
   "language": "python",
   "name": "python3"
  },
  "language_info": {
   "codemirror_mode": {
    "name": "ipython",
    "version": 3
   },
   "file_extension": ".py",
   "mimetype": "text/x-python",
   "name": "python",
   "nbconvert_exporter": "python",
   "pygments_lexer": "ipython3",
   "version": "3.9.12"
  },
  "orig_nbformat": 4,
  "vscode": {
   "interpreter": {
    "hash": "aa9b2e6bdcb8968c6d10db2e0d5683f090ebf92f3ed72dc81de49ae715e3557f"
   }
  }
 },
 "nbformat": 4,
 "nbformat_minor": 2
}
