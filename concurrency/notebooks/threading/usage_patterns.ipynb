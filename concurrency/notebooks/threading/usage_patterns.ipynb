{
 "cells": [
  {
   "cell_type": "code",
   "execution_count": 1,
   "metadata": {},
   "outputs": [],
   "source": [
    "from random import random\n",
    "from time import sleep\n",
    "from concurrent.futures import ThreadPoolExecutor\n",
    "from concurrent.futures import as_completed\n"
   ]
  },
  {
   "cell_type": "markdown",
   "metadata": {},
   "source": [
    "## Map and Wait\n",
    "\n",
    "Perhaps the most common pattern when using the `ThreadPoolExecutor` is to convert a for loop that executes a function on each item in a collection to use threads.\n",
    "\n",
    "It assumes that the function has no side effects, meaning it does not access any data outside of the function and does not change the data provided to it. It takes data and produces a result.\n",
    "\n",
    "Each application of the function to an item in the collection is a task that is executed asynchronously."
   ]
  },
  {
   "cell_type": "code",
   "execution_count": 2,
   "metadata": {},
   "outputs": [
    {
     "name": "stdout",
     "output_type": "stream",
     "text": [
      "('1', 'a')\n",
      "('2', 'b')\n",
      "('3', 'c')\n"
     ]
    }
   ],
   "source": [
    "def task(value1, value2):\n",
    "    # Sleep for less than a second\n",
    "    sleep(random())\n",
    "    return (value1, value2)\n",
    "\n",
    "\n",
    "# Start the thread pool\n",
    "with ThreadPoolExecutor() as executor:\n",
    "    # Submit all tasks\n",
    "    for result in executor.map(task, ['1', '2', '3'], ['a', 'b', 'c']):\n",
    "        print(result)\n"
   ]
  },
  {
   "cell_type": "markdown",
   "metadata": {},
   "source": [
    "## Submit and Use As Completed\n",
    "\n",
    "The second most common pattern when using the `ThreadPoolExecutor` is to submit tasks and use the results **as they become available**.\n",
    "\n",
    "This can be achieved using the `submit()` function to push tasks into the thread pool that returns `Future` objects, then calling the module method `as_completed()` on the list of Future objects that will return each `Future` object as its task is completed.\n",
    "\n",
    "The function `as_completed()` returns `Future` objects from a collection as they complete their execution **in whatever order**.\n",
    "\n",
    "The example below demonstrates this pattern, submitting the tasks in order from 0 to 9 and showing results in the order that they were completed."
   ]
  },
  {
   "cell_type": "code",
   "execution_count": 3,
   "metadata": {},
   "outputs": [
    {
     "name": "stdout",
     "output_type": "stream",
     "text": [
      "9\n",
      "1\n",
      "6\n",
      "7\n",
      "8\n",
      "4\n",
      "3\n",
      "2\n",
      "0\n",
      "5\n"
     ]
    }
   ],
   "source": [
    "def task(name):\n",
    "    # Sleep for less than a second\n",
    "    sleep(random())\n",
    "    return name\n",
    " \n",
    "# Start the thread pool\n",
    "with ThreadPoolExecutor(10) as executor:\n",
    "    # Submit tasks and collect futures\n",
    "    futures = [executor.submit(task, i) for i in range(10)]\n",
    "    # Process task results as they are available\n",
    "    for future in as_completed(futures):\n",
    "        # Retrieve the result\n",
    "        print(future.result())\n"
   ]
  },
  {
   "cell_type": "markdown",
   "metadata": {},
   "source": [
    "This is different from iterating over the results from calling `map()` in two ways. \n",
    "\n",
    "* First, `map()` returns an iterator over objects, not over `Future` objects. \n",
    "  \n",
    "* Second, `map()` returns results **in the order that the tasks were submitted**, not in the order that they are completed.\n",
    "\n",
    "## Submit and Use Sequentially\n",
    "\n",
    "We may require the results from tasks in the order that the tasks were submitted, e.g., the tasks have a natural ordering.\n",
    "\n",
    "We can implement this pattern by calling `submit()` for each task to obtain a list of `Future` objects, then iterating over the `Future` objects **in the order** that the tasks were submitted and retrieving the results.\n",
    "\n",
    "The main difference between this pattern and the \"as completed\" pattern is that we enumerate the list of futures directly, instead of calling the `as_completed()` function."
   ]
  },
  {
   "cell_type": "code",
   "execution_count": 4,
   "metadata": {},
   "outputs": [
    {
     "name": "stdout",
     "output_type": "stream",
     "text": [
      "0\n",
      "1\n",
      "2\n",
      "3\n",
      "4\n",
      "5\n",
      "6\n",
      "7\n",
      "8\n",
      "9\n"
     ]
    }
   ],
   "source": [
    "def task(name):\n",
    "    sleep(random())\n",
    "    return name\n",
    " \n",
    "with ThreadPoolExecutor(10) as executor:\n",
    "    # Submit tasks and collect futures\n",
    "    futures = [executor.submit(task, i) for i in range(10)]\n",
    "    # Process task results in the order they were submitted\n",
    "    for future in futures:\n",
    "        print(future.result())\n"
   ]
  },
  {
   "cell_type": "markdown",
   "metadata": {},
   "source": [
    "## Submit and Use Callback\n",
    "\n",
    "We may not want to explicitly process the results once they are available; instead, we want to call a function on the result.\n",
    "\n",
    "Instead of doing this manually, such as in the as completed pattern above, we can have the thread pool call the function for us with the result automatically.\n",
    "\n",
    "This can be achieved by setting a `callback` on each `Future` object by calling the `add_done_callback()` function and passing the name of the function.\n",
    "\n",
    "The thread pool will then call the callback function as each task completes, passing in `Future` objects for the task.\n"
   ]
  },
  {
   "cell_type": "code",
   "execution_count": 5,
   "metadata": {},
   "outputs": [
    {
     "name": "stdout",
     "output_type": "stream",
     "text": [
      "The future object 5 is acted upon\n",
      "The future object 5 is acted upon, again\n",
      "The future object 6 is acted upon\n",
      "The future object 6 is acted upon, again\n",
      "The future object 8 is acted upon\n",
      "The future object 8 is acted upon, again\n",
      "The future object 7 is acted upon\n",
      "The future object 7 is acted upon, again\n",
      "The future object 1 is acted upon\n",
      "The future object 1 is acted upon, again\n",
      "The future object 3 is acted upon\n",
      "The future object 3 is acted upon, again\n",
      "The future object 2 is acted upon\n",
      "The future object 2 is acted upon, again\n",
      "The future object 4 is acted upon\n",
      "The future object 4 is acted upon, again\n",
      "The future object 9 is acted upon\n",
      "The future object 9 is acted upon, again\n",
      "The future object 0 is acted upon\n",
      "The future object 0 is acted upon, again\n"
     ]
    }
   ],
   "source": [
    "def task(name):\n",
    "    sleep(random())\n",
    "    return name\n",
    " \n",
    "# Custom callback function called on tasks when they complete\n",
    "def custom_callback(future):\n",
    "    print('The future object', future.result(), 'is acted upon')\n",
    "    \n",
    "def custom_callback2(future):\n",
    "    print('The future object', future.result(), 'is acted upon, again')\n",
    " \n",
    "with ThreadPoolExecutor(10) as executor:\n",
    "    # Submit tasks and collect futures\n",
    "    futures = [executor.submit(task, i) for i in range(10)]\n",
    "    # Register the callback on all tasks\n",
    "    for future in futures:\n",
    "        future.add_done_callback(custom_callback)\n",
    "        # Second callback\n",
    "        future.add_done_callback(custom_callback2)\n"
   ]
  },
  {
   "cell_type": "markdown",
   "metadata": {},
   "source": [
    "Notice that the returned results is no longer in the order that they were submitted. In addition, we can also see that the two callback functions are called for each task in the order that we registered them with each Future object.\n",
    "\n",
    "## Submit and Wait for All\n",
    "\n",
    "It is common to submit all tasks and then wait for all tasks in the thread pool to complete.\n",
    "\n",
    "This pattern may be useful when tasks do not return a result directly, such as if each task stores the result in a resource directly such as a file.\n",
    "\n"
   ]
  },
  {
   "cell_type": "code",
   "execution_count": 6,
   "metadata": {},
   "outputs": [
    {
     "name": "stdout",
     "output_type": "stream",
     "text": [
      "96\n",
      "\n",
      "2\n",
      "7\n",
      "1\n",
      "3\n",
      "5\n",
      "0\n",
      "8\n",
      "4\n",
      "All tasks are done!\n"
     ]
    }
   ],
   "source": [
    "def task(name):\n",
    "    sleep(random())\n",
    "    # Display the result, rather than return\n",
    "    print(name)\n",
    " \n",
    "with ThreadPoolExecutor(10) as executor:\n",
    "    # submit tasks and collect futures\n",
    "    futures = [executor.submit(task, i) for i in range(10)]\n",
    "    # wait for all tasks to complete\n",
    "print('All tasks are done!')\n"
   ]
  },
  {
   "cell_type": "markdown",
   "metadata": {},
   "source": [
    "The main thread does not move on and print the message until all tasks are completed, after the thread pool has been automatically shut down by the context manager.\n",
    "\n",
    "## Submit and Wait for First\n",
    "\n",
    "It is common to issue many tasks and only be concerned with the first result returned.\n",
    "\n",
    "That is, not the result of the first task, but a result from any task that happens to be the first to complete its execution.\n",
    "\n",
    "This may be the case if we are trying to access the same resource from multiple locations, like a file or some data.\n",
    "\n",
    "This pattern can be achieved using the `wait()` module function and setting the `return_when` argument to the `FIRST_COMPLETED` constant."
   ]
  },
  {
   "cell_type": "code",
   "execution_count": 7,
   "metadata": {},
   "outputs": [
    {
     "name": "stdout",
     "output_type": "stream",
     "text": [
      "3\n"
     ]
    }
   ],
   "source": [
    "from concurrent.futures import FIRST_COMPLETED, wait\n",
    "\n",
    "def task(name):\n",
    "    sleep(random())\n",
    "    return name\n",
    " \n",
    "# Start the thread pool\n",
    "executor = ThreadPoolExecutor(10)\n",
    "# Submit tasks and collect futures\n",
    "futures = [executor.submit(task, i) for i in range(10)]\n",
    "\n",
    "# Wait until any task completes first\n",
    "done, not_done = wait(futures, return_when=FIRST_COMPLETED)\n",
    "# Fet the result from the first task to complete\n",
    "print(done.pop().result())\n",
    "# Shutdown without waiting\n",
    "executor.shutdown(wait=False, cancel_futures=True)\n"
   ]
  },
  {
   "cell_type": "markdown",
   "metadata": {},
   "source": [
    "Running the example will wait for any of the tasks to complete, then retrieve the result of the first completed task and shut down the thread pool.\n",
    "\n",
    "Importantly, the tasks will continue to execute in the thread pool in the background and the main thread will not close until all tasks have completed."
   ]
  }
 ],
 "metadata": {
  "kernelspec": {
   "display_name": "Python 3.9.12 ('python_automation')",
   "language": "python",
   "name": "python3"
  },
  "language_info": {
   "codemirror_mode": {
    "name": "ipython",
    "version": 3
   },
   "file_extension": ".py",
   "mimetype": "text/x-python",
   "name": "python",
   "nbconvert_exporter": "python",
   "pygments_lexer": "ipython3",
   "version": "3.9.12"
  },
  "orig_nbformat": 4,
  "vscode": {
   "interpreter": {
    "hash": "aa9b2e6bdcb8968c6d10db2e0d5683f090ebf92f3ed72dc81de49ae715e3557f"
   }
  }
 },
 "nbformat": 4,
 "nbformat_minor": 2
}
