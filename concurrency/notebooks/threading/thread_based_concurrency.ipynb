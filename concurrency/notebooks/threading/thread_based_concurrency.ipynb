{
 "cells": [
  {
   "cell_type": "code",
   "execution_count": 1,
   "metadata": {},
   "outputs": [],
   "source": [
    "import os \n",
    "\n",
    "os.chdir(\"../../scripts/threading_examples\")\n"
   ]
  },
  {
   "cell_type": "markdown",
   "metadata": {},
   "source": [
    "## Thread-based Concurrency\n",
    "\n",
    "A thread refers to a thread of execution in a computer program. \n",
    "\n",
    "Each program is a process and has at least one thread that executes instructions for that process. \n",
    "\n",
    "When we run a Python script, it starts an instance of the Python interpreter (a process) that runs our code in the main thread. The main thread is the default thread of a Python process. \n",
    "\n",
    "The underlying operating system controls how new threads are created, when threads are executed, and which CPU core executes them.\n",
    "\n",
    "### Problem\n",
    "\n",
    "Sometimes we may need to create and start new threads to run additional tasks concurrently, rather than wait until the main thread finishes first. \n",
    "\n",
    "### Solution\n",
    "\n",
    "A task can be run in a new thread by manually creating an instance of the `Thread` class and specifying the function to run in the new thread via the `target` argument:"
   ]
  },
  {
   "cell_type": "code",
   "execution_count": 2,
   "metadata": {},
   "outputs": [
    {
     "name": "stdout",
     "output_type": "stream",
     "text": [
      "This is another thread\n"
     ]
    }
   ],
   "source": [
    "!python3 manual_thread_creation.py\n"
   ]
  },
  {
   "cell_type": "markdown",
   "metadata": {},
   "source": [
    "Running the script (a python program, which is a process) above creates an instance of the `Thread` class configured to run the `task()` function.\n",
    "\n",
    "The thread is then started by calling the `start()` method on the instance. The main thread of the Python process then blocks until the new thread terminates. Blocked means execution of the main thread gets stuck there; put another way, the thread is put to sleep by the system and yields the processor to the new thread. \n",
    "\n",
    "The new thread executes the `task()` function before terminating. The main thread then continues on and the program ends.\n",
    "\n",
    "## Thread Pool\n",
    "\n",
    "Manually managing threads is not efficient since creating and destroying many threads frequently are very computationally expensive.\n",
    "\n",
    "Instead, we would prefer to keep worker threads around for reuse if we expect to run many ad hoc tasks throughout our program, which can be achieved using a thread pool.\n",
    "\n",
    "*A thread pool is a programming pattern for automatically managing a pool of worker threads*. The pool is responsible for a fixed number of threads, where each thread in the pool is called a worker.\n",
    "\n",
    "* It controls when the threads are created, such as when they are needed.\n",
    "  \n",
    "* It controls how many tasks each worker thread can execute before being replaced.\n",
    "  \n",
    "* It also controls what the workers should do when they are not being used, such as making them *wait* (i.e., waiting for a signal from another thread) without consuming computational resources.\n",
    "  \n",
    "The pool can provide a generic interface for executing ad hoc tasks with a variable number of arguments, much like the target attribute on the Thread class, but does not require that we choose a thread to run the task, start the thread, or wait for the task to complete.\n",
    "\n",
    "<p align=\"center\">\n",
    "  <img width=\"650\" height=\"400\" img src=\"../../doc/images/thread_pool.png\">\n",
    "</p>\n",
    "\n",
    "### The `concurrent` Package\n",
    "\n",
    "\n",
    "The `concurrent.futures` module provides a high-level interface for asynchronously executing callables. The `ThreadPoolExecutor` class extends the `Executor` class and returns a `Future` object. Note, the `Executor` is an abstract class that provides methods to execute calls asynchronously. It should not be used directly, but through its concrete subclasses.\n",
    "\n",
    "#### The `Executor` Class\n",
    "\n",
    "The `Executor` class has three methods:\n",
    "\n",
    "- `submit(fn, /, *args, **kwargs)` – dispatch a function to be executed as `fn(*args, **kwargs)` and return a `Future` object. \n",
    "  \n",
    "- `map(func, *iterables, timeout=None, chunksize=1)` – execute a function asynchronously for each element in an iterable.\n",
    "\n",
    "  - Similar to `map(func, *iterables)` except:\n",
    "\n",
    "    - the iterables are collected immediately rather than lazily.\n",
    "\n",
    "    - `func` is executed asynchronously and several calls to func may be made concurrently.\n",
    "  \n",
    "- `shutdown(wait=True, *, cancel_futures=False)` – shut down the executor. Calls to `Executor.submit()` and `Executor.map()` made after shutdown will raise `RuntimeError`.\n",
    "  \n",
    "When we create a new instance of the `ThreadPoolExecutor` class, Python starts the `Executor`.\n",
    "\n",
    "\n",
    "#### The `Future` Class\n",
    "\n",
    "The `Future` class encapsulates the asynchronous execution of a callable. `Future` instances are created by `Executor.submit()` and should not be created directly except for testing. The `Future` class has two important methods:\n",
    "\n",
    "- `result(timeout=None)` – return the result of an asynchronous operation. If the call hasn’t yet completed then this method will wait up to `timeout` seconds. If the call hasn’t completed in timeout seconds, then a `concurrent.futures.TimeoutError` will be raised. If `timeout` is not specified or `None`, there is no limit to the wait time.\n",
    "  \n",
    "- `exception(timeout=None)` – return the exception of an asynchronous operation in case an exception occurs. \n",
    "\n",
    "- `cancel()` - Attempt to cancel the call. If the call is currently being executed or finished running and cannot be cancelled then the method will return False, otherwise the call will be cancelled and the method will return True.\n",
    "\n",
    "- `done()` - Return `True` if the call was successfully cancelled or finished running.\n",
    "\n",
    "### Configurations\n",
    "\n",
    "#### Number of Thread Workers\n",
    "\n",
    "By default the number of workers is stored in the `_max_workers` property."
   ]
  },
  {
   "cell_type": "code",
   "execution_count": 3,
   "metadata": {},
   "outputs": [
    {
     "name": "stdout",
     "output_type": "stream",
     "text": [
      "12\n"
     ]
    }
   ],
   "source": [
    "# Report the default number of worker threads on our system\n",
    "from concurrent.futures import ThreadPoolExecutor\n",
    "# Create a thread pool with the default number of worker threads\n",
    "# Use the argument 'max_workers' to specify the number of worker threads\n",
    "pool = ThreadPoolExecutor()\n",
    "# report the number of worker threads chosen by default\n",
    "print(pool._max_workers)\n"
   ]
  },
  {
   "cell_type": "markdown",
   "metadata": {},
   "source": [
    "#### Thread Names"
   ]
  },
  {
   "cell_type": "code",
   "execution_count": 4,
   "metadata": {},
   "outputs": [
    {
     "name": "stdout",
     "output_type": "stream",
     "text": [
      "python3: can't open file '/Users/kenwu/Desktop/Python/python_automation/concurrency/scripts/threading_examples/configure_thread_name.py': [Errno 2] No such file or directory\n"
     ]
    }
   ],
   "source": [
    "!python3 configure_thread_name.py\n"
   ]
  },
  {
   "cell_type": "markdown",
   "metadata": {},
   "source": [
    "#### Initializer\n",
    "\n",
    "We might choose to set an initializer function for worker threads if we would like each thread to set up resources specific to the thread.\n",
    "\n",
    "If the initializer function takes arguments, they can be passed in via the `initargs` argument to the thread pool, which is a tuple of arguments to pass to the initializer function.\n",
    "\n",
    "Examples might include a thread-specific log file or a thread-specific connection to a remote resource like a server or database. The resource would then be available to all tasks executed by the thread, rather than being created and discarded or opened and closed for each task.\n",
    "\n",
    "These thread-specific resources can then be stored somewhere where the worker thread can reference, like a global variable, or in a thread local variable. Care must be taken to correctly close these resources once you are finished with the thread pool."
   ]
  },
  {
   "cell_type": "code",
   "execution_count": 5,
   "metadata": {},
   "outputs": [
    {
     "name": "stdout",
     "output_type": "stream",
     "text": [
      "python3: can't open file '/Users/kenwu/Desktop/Python/python_automation/concurrency/scripts/threading_examples/configure_initializer.py': [Errno 2] No such file or directory\n"
     ]
    }
   ],
   "source": [
    "!python3 configure_initializer.py\n"
   ]
  },
  {
   "cell_type": "markdown",
   "metadata": {},
   "source": [
    "## `ThreadPoolExecutor` Life-Cycle\n",
    "\n",
    "There are four main steps in the lifecycle of the `ThreadPoolExecutor` class:\n",
    "\n",
    "- Create: Create the thread pool by calling the constructor `ThreadPoolExecutor()`\n",
    "- Submit: Submit tasks and get futures.\n",
    "    - Submit tasks with `map()`\n",
    "    - Submit tasks with `submit()`\n",
    "- Wait: Wait and get results as tasks complete (optional)\n",
    "    - Wait for results to complete with `wait()`\n",
    "    - Wait for results with `as_completed()`\n",
    "- Shutdown: Shut down the thread pool.\n",
    "    - Shutdown manually by calling `shutdown()`\n",
    "    - Shutdown automatically with the context manager\n",
    "\n",
    "<p align=\"center\">\n",
    "  <img width=\"300\" height=\"400\" img src=\"../../doc/images/thread_pool_lifecycle.png\">\n",
    "</p>\n",
    "\n",
    "### Single Threaded\n",
    "\n",
    "Since the `task(id)` function takes 1 second, calling it four times takes about 4 seconds."
   ]
  },
  {
   "cell_type": "code",
   "execution_count": 6,
   "metadata": {},
   "outputs": [
    {
     "name": "stdout",
     "output_type": "stream",
     "text": [
      "Starting task 0\n",
      "Finished task 0\n",
      "Starting task 1\n",
      "Finished task 1\n",
      "Starting task 2\n",
      "Finished task 2\n",
      "Starting task 3\n",
      "Finished task 3\n",
      "It took 4.014967162 second(s) to finish.\n"
     ]
    }
   ],
   "source": [
    "!python3 single_thread.py\n"
   ]
  },
  {
   "cell_type": "markdown",
   "metadata": {},
   "source": [
    "### Multi-threaded"
   ]
  },
  {
   "cell_type": "code",
   "execution_count": 7,
   "metadata": {},
   "outputs": [
    {
     "name": "stdout",
     "output_type": "stream",
     "text": [
      "Starting task 0\n",
      "Starting task 1\n",
      "Starting task 2\n",
      "Starting task 3\n",
      "Finished task 0\n",
      "Finished task 1\n",
      "Finished task 2\n",
      "Finished task 3\n",
      "It took 1.001994466 second(s) to finish.\n"
     ]
    }
   ],
   "source": [
    "# Using map\n",
    "!python3 multi_thread_map.py\n"
   ]
  },
  {
   "cell_type": "code",
   "execution_count": 8,
   "metadata": {},
   "outputs": [
    {
     "name": "stdout",
     "output_type": "stream",
     "text": [
      "Starting task 0\n",
      "Starting task 1\n",
      "Starting task 2Starting task 3\n",
      "\n",
      "Finished task 0\n",
      "Finished task 1\n",
      "Finished task 2\n",
      "Finished task 3\n",
      "It took 1.004299569 second(s) to finish.\n"
     ]
    }
   ],
   "source": [
    "# Using submit() and result()\n",
    "!python3 multi_thread_submit.py\n"
   ]
  },
  {
   "cell_type": "markdown",
   "metadata": {},
   "source": [
    "### Downloading Images To Disk\n",
    "\n",
    "The program below downloads 20 images from Wikipedia using a thread pool:\n"
   ]
  },
  {
   "cell_type": "code",
   "execution_count": 9,
   "metadata": {},
   "outputs": [
    {
     "name": "stdout",
     "output_type": "stream",
     "text": [
      "Python_bivittatus_1701.jpg was downloaded successfully\n",
      "Python_Regius.jpg was downloaded successfully\n",
      "Baby_carpet_python_caudal_luring.jpg was downloaded successfully\n",
      "Rock_python_pratik.JPG was downloaded successfully\n",
      "Dulip_Wilpattu_Python1.jpg was downloaded successfully\n",
      "File:Image_created_with_a_mobile_phone.png was downloaded successfully\n",
      "File:TEIDE.JPG was downloaded successfully\n",
      "File:Pencil_drawing_of_a_girl_in_ecstasy.jpg was downloaded successfully\n",
      "File:Cristiano_Ronaldo_2018.jpg was downloaded successfully\n",
      "File:Ronaldo_-_Manchester_United_vs_Chelsea.jpg was downloaded successfully\n",
      "File:Ronaldo_in_2018.jpg was downloaded successfully\n",
      "File:Cristiano_Ronaldo_20120609.jpg was downloaded successfully\n",
      "File:1_cristiano_ronaldo_2016.jpg was downloaded successfully\n",
      "File:Contr%C3%B4le_de_Cristiano_Ronaldo.jpg was downloaded successfully\n",
      "File:ANSI_ISO_C++_WP.jpg was downloaded successfully\n",
      "File:Python_3._The_standard_type_hierarchy.png was downloaded successfully\n",
      "File:Python_Powered.png was downloaded successfully\n",
      "File:Muhammad_Ali_NYWTS.jpg was downloaded successfully\n",
      "File:JoeEMartinCassiusClay1960.jpg was downloaded successfully\n",
      "File:Muhammad_Ali_and_Jimmy_Carter.jpg was downloaded successfully\n",
      "It took 11.263567007999999 second(s) to finish.\n"
     ]
    }
   ],
   "source": [
    "# Single threaded sequential\n",
    "!python3 download_seq.py\n"
   ]
  },
  {
   "cell_type": "code",
   "execution_count": 10,
   "metadata": {},
   "outputs": [],
   "source": [
    "# Remove all files ending with .jpg or .JPG\n",
    "!rm *.[jJ][pP][gG]\n",
    "!rm *.[pP][nN][gG]\n"
   ]
  },
  {
   "cell_type": "code",
   "execution_count": 11,
   "metadata": {},
   "outputs": [
    {
     "name": "stdout",
     "output_type": "stream",
     "text": [
      "File:TEIDE.JPG was downloaded successfully\n",
      "File:Image_created_with_a_mobile_phone.png was downloaded successfully\n",
      "File:Pencil_drawing_of_a_girl_in_ecstasy.jpg was downloaded successfully\n",
      "Python_Regius.jpg was downloaded successfully\n",
      "Python_bivittatus_1701.jpg was downloaded successfully\n",
      "Baby_carpet_python_caudal_luring.jpg was downloaded successfully\n",
      "File:Python_3._The_standard_type_hierarchy.png was downloaded successfully\n",
      "File:Cristiano_Ronaldo_20120609.jpg was downloaded successfully\n",
      "File:Ronaldo_-_Manchester_United_vs_Chelsea.jpg was downloaded successfully\n",
      "File:Python_Powered.png was downloaded successfully\n",
      "File:Muhammad_Ali_NYWTS.jpg was downloaded successfully\n",
      "File:Cristiano_Ronaldo_2018.jpg was downloaded successfully\n",
      "File:Ronaldo_in_2018.jpg was downloaded successfully\n",
      "Dulip_Wilpattu_Python1.jpg was downloaded successfully\n",
      "File:JoeEMartinCassiusClay1960.jpg was downloaded successfully\n",
      "File:Muhammad_Ali_and_Jimmy_Carter.jpg was downloaded successfully\n",
      "File:ANSI_ISO_C++_WP.jpg was downloaded successfully\n",
      "File:1_cristiano_ronaldo_2016.jpg was downloaded successfully\n",
      "Rock_python_pratik.JPG was downloaded successfully\n",
      "File:Contr%C3%B4le_de_Cristiano_Ronaldo.jpg was downloaded successfully\n",
      "It took 4.61636497 second(s) to finish.\n"
     ]
    }
   ],
   "source": [
    "# Concurrent download\n",
    "!python3 download_multithread.py\n"
   ]
  },
  {
   "cell_type": "code",
   "execution_count": 12,
   "metadata": {},
   "outputs": [],
   "source": [
    "!rm *.[jJ][pP][gG]\n",
    "!rm *.[pP][nN][gG]\n"
   ]
  },
  {
   "cell_type": "markdown",
   "metadata": {},
   "source": [
    "As can be seen, the thread pool implementation is much faster. \n",
    "\n",
    "### Reading Many CSV From Disk\n",
    "\n",
    "The program below reads 10 csv files (~ 8.77 GB on disk) into memory using a thread pool:\n",
    "\n"
   ]
  },
  {
   "cell_type": "code",
   "execution_count": 13,
   "metadata": {},
   "outputs": [
    {
     "name": "stdout",
     "output_type": "stream",
     "text": [
      "It took  0.00020584100000009542  seconds to finish reading the csv files.\n"
     ]
    }
   ],
   "source": [
    "# Sequential\n",
    "!python3 read_csv_seq.py\n"
   ]
  },
  {
   "cell_type": "code",
   "execution_count": 14,
   "metadata": {},
   "outputs": [
    {
     "name": "stdout",
     "output_type": "stream",
     "text": [
      "It took  0.00021250700000008393  seconds to finish reading the csv files.\n"
     ]
    }
   ],
   "source": [
    "# Concurrent\n",
    "!python3 read_csv_multithread.py\n"
   ]
  },
  {
   "cell_type": "markdown",
   "metadata": {},
   "source": [
    "### Types of Tasks\n",
    "\n",
    "We can use the `ThreadPoolExecutor` when:\n",
    "\n",
    "- Our tasks can be defined by a pure function that has no state or side effects.\n",
    "\n",
    "- Our task can fit within a single Python function, likely making it simple and easy to understand.\n",
    "  \n",
    "- We need to perform the same task many times with different arguments, e.g. homogeneous tasks.\n",
    "\n",
    "- We need to apply the same function to each object in a collection in a for-loop.\n",
    "  \n",
    "*Thread pools work best when applying the same pure function on a set of different data, e.g. homogeneous tasks, heterogeneous data.*\n",
    "\n",
    "In addition, we should use threads and the ThreadPool for IO-bound tasks. An IO-bound task is a type of task that involves reading from or writing to a device, file, or socket connection. The operations involve input and output (IO), and the speed of these operations is bound by the device, hard drive, or network connection. This is why these tasks are referred to as IO-bound. Here are some examples:\n",
    "\n",
    "- Reading or writing a file from the hard drive.\n",
    "  \n",
    "- Reading or writing to standard output, input or error (stdin, stdout, stderr).\n",
    "\n",
    "- Printing a document.\n",
    "\n",
    "- Downloading or uploading a file.\n",
    "\n",
    "- Querying a server.\n",
    "\n",
    "- Querying a database.\n",
    "\n",
    "- Taking a photo or recording a video."
   ]
  }
 ],
 "metadata": {
  "kernelspec": {
   "display_name": "Python 3.9.12 ('python_automation')",
   "language": "python",
   "name": "python3"
  },
  "language_info": {
   "codemirror_mode": {
    "name": "ipython",
    "version": 3
   },
   "file_extension": ".py",
   "mimetype": "text/x-python",
   "name": "python",
   "nbconvert_exporter": "python",
   "pygments_lexer": "ipython3",
   "version": "3.9.12"
  },
  "orig_nbformat": 4,
  "vscode": {
   "interpreter": {
    "hash": "aa9b2e6bdcb8968c6d10db2e0d5683f090ebf92f3ed72dc81de49ae715e3557f"
   }
  }
 },
 "nbformat": 4,
 "nbformat_minor": 2
}
