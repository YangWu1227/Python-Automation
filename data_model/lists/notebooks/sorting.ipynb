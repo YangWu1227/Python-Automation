{
 "cells": [
  {
   "cell_type": "markdown",
   "metadata": {},
   "source": [
    "## Key Functions\n",
    "\n",
    "Both `list.sort()` and `sorted()` have a `key` parameter to specify a function to be called on each list element prior to making comparisons:"
   ]
  },
  {
   "cell_type": "code",
   "execution_count": 1,
   "metadata": {},
   "outputs": [
    {
     "data": {
      "text/plain": [
       "['a', 'is', 'language', 'programming', 'Python']"
      ]
     },
     "execution_count": 1,
     "metadata": {},
     "output_type": "execute_result"
    }
   ],
   "source": [
    "sorted(\"Python is a programming language\".split(), key=str.lower)\n"
   ]
  },
  {
   "cell_type": "markdown",
   "metadata": {},
   "source": [
    "The `key` parameters should be a function or callable that\n",
    "\n",
    "- Takes a single argument\n",
    "- Returns a key to be used for sorting purposes"
   ]
  },
  {
   "cell_type": "markdown",
   "metadata": {},
   "source": [
    "### Sorting Complex Objects"
   ]
  },
  {
   "cell_type": "code",
   "execution_count": 5,
   "metadata": {},
   "outputs": [
    {
     "data": {
      "text/plain": [
       "[('Wu', 'Z', 12), ('Ken', 'A', 18), ('Yang', 'D', 89)]"
      ]
     },
     "execution_count": 5,
     "metadata": {},
     "output_type": "execute_result"
    }
   ],
   "source": [
    "class Student(object):\n",
    "    __slots__ = (\"name\", \"grade\", \"age\")\n",
    "    def __init__(self, name: str, grade: str, age: int):\n",
    "        self.name = name\n",
    "        self.grade = grade\n",
    "        self.age = age\n",
    "    def __repr__(self):\n",
    "        return repr((self.name, self.grade, self.age))\n",
    "\n",
    "student_instances = [Student('Yang', 'D', 89), Student('Wu', 'Z', 12), Student('Ken', 'A', 18)]\n",
    "\n",
    "sorted(student_instances, key=lambda student: student.age)\n"
   ]
  },
  {
   "cell_type": "code",
   "execution_count": 22,
   "metadata": {},
   "outputs": [
    {
     "data": {
      "text/plain": [
       "[('wu', -4), ('yang', 2), ('python', 9), ('r', 10)]"
      ]
     },
     "execution_count": 22,
     "metadata": {},
     "output_type": "execute_result"
    }
   ],
   "source": [
    "student_tuples = [('yang', 2), ('wu', -4), ('python', 9), ('r', 10)]\n",
    "\n",
    "sorted(student_tuples, key=lambda student: student[1])\n"
   ]
  },
  {
   "cell_type": "markdown",
   "metadata": {},
   "source": [
    "### Operator Module"
   ]
  },
  {
   "cell_type": "code",
   "execution_count": 10,
   "metadata": {},
   "outputs": [],
   "source": [
    "from operator import itemgetter, attrgetter\n"
   ]
  },
  {
   "cell_type": "markdown",
   "metadata": {},
   "source": [
    "Sort by specific index in a tuple:"
   ]
  },
  {
   "cell_type": "code",
   "execution_count": 23,
   "metadata": {},
   "outputs": [
    {
     "data": {
      "text/plain": [
       "[('wu', -4), ('yang', 2), ('python', 9), ('r', 10)]"
      ]
     },
     "execution_count": 23,
     "metadata": {},
     "output_type": "execute_result"
    }
   ],
   "source": [
    "sorted(student_tuples, key=itemgetter(1))\n"
   ]
  },
  {
   "cell_type": "markdown",
   "metadata": {},
   "source": [
    "Sort by specific attribute in a class:"
   ]
  },
  {
   "cell_type": "code",
   "execution_count": 14,
   "metadata": {},
   "outputs": [
    {
     "data": {
      "text/plain": [
       "[('Ken', 'A', 18), ('Yang', 'D', 89), ('Wu', 'Z', 12)]"
      ]
     },
     "execution_count": 14,
     "metadata": {},
     "output_type": "execute_result"
    }
   ],
   "source": [
    "sorted(student_instances, key=attrgetter('grade'))\n"
   ]
  },
  {
   "cell_type": "markdown",
   "metadata": {},
   "source": [
    "Muli-level sorting:"
   ]
  },
  {
   "cell_type": "code",
   "execution_count": 16,
   "metadata": {},
   "outputs": [
    {
     "data": {
      "text/plain": [
       "[('Wu', 'Z', 12), ('Ken', 'A', 18), ('Yang', 'D', 89)]"
      ]
     },
     "execution_count": 16,
     "metadata": {},
     "output_type": "execute_result"
    }
   ],
   "source": [
    "sorted(student_instances, key=attrgetter('age', 'name'))\n"
   ]
  },
  {
   "cell_type": "code",
   "execution_count": 24,
   "metadata": {},
   "outputs": [
    {
     "data": {
      "text/plain": [
       "[('python', 9), ('r', 10), ('wu', -4), ('yang', 2)]"
      ]
     },
     "execution_count": 24,
     "metadata": {},
     "output_type": "execute_result"
    }
   ],
   "source": [
    "sorted(student_tuples, key=itemgetter(0, 1))\n"
   ]
  },
  {
   "cell_type": "markdown",
   "metadata": {},
   "source": [
    "## Ascending and Descending Order"
   ]
  },
  {
   "cell_type": "markdown",
   "metadata": {},
   "source": [
    "Ascending is the default:"
   ]
  },
  {
   "cell_type": "code",
   "execution_count": 26,
   "metadata": {},
   "outputs": [
    {
     "data": {
      "text/plain": [
       "[('Ken', 'A', 18), ('Wu', 'Z', 12), ('Yang', 'D', 89)]"
      ]
     },
     "execution_count": 26,
     "metadata": {},
     "output_type": "execute_result"
    }
   ],
   "source": [
    "sorted(student_instances, key=attrgetter('name'), reverse=False)\n"
   ]
  },
  {
   "cell_type": "markdown",
   "metadata": {},
   "source": [
    "Descending requires `reverse=True`:"
   ]
  },
  {
   "cell_type": "code",
   "execution_count": 28,
   "metadata": {},
   "outputs": [
    {
     "data": {
      "text/plain": [
       "[('Yang', 'D', 89), ('Ken', 'A', 18), ('Wu', 'Z', 12)]"
      ]
     },
     "execution_count": 28,
     "metadata": {},
     "output_type": "execute_result"
    }
   ],
   "source": [
    "sorted(student_instances, key=attrgetter('age'), reverse=True)\n"
   ]
  },
  {
   "cell_type": "markdown",
   "metadata": {},
   "source": [
    "## Multi-Level Sorting"
   ]
  },
  {
   "cell_type": "code",
   "execution_count": 40,
   "metadata": {},
   "outputs": [
    {
     "data": {
      "text/plain": [
       "(2024-12-27 03:13:03 - credit - $120,\n",
       " 2024-02-03 01:19:03 - debit - $200,\n",
       " 2022-07-18 03:15:03 - credit - $100,\n",
       " 2023-08-01 03:06:03 - debit - $50)"
      ]
     },
     "execution_count": 40,
     "metadata": {},
     "output_type": "execute_result"
    }
   ],
   "source": [
    "from datetime import datetime\n",
    "\n",
    "class Transaction(object):\n",
    "    def __init__(self, date_time: datetime, type: str, amount: float):\n",
    "        self.date_time = date_time\n",
    "        self.type = type \n",
    "        self.amount = amount\n",
    "\n",
    "    def __repr__(self):\n",
    "        return f\"{self.date_time} - {self.type} - ${self.amount}\"\n",
    "\n",
    "transactions = (\n",
    "    Transaction(datetime(*(2024, 12, 27, 3, 13, 3)), 'credit', 120),\n",
    "    Transaction(datetime(*(2024, 2, 3, 1, 19, 3)), 'debit', 200),\n",
    "    Transaction(datetime(*(2022, 7, 18, 3, 15, 3)), 'credit', 100),\n",
    "    Transaction(datetime(*(2023, 8, 1, 3, 6, 3)), 'debit', 50)\n",
    ")\n",
    "\n",
    "transactions\n"
   ]
  },
  {
   "cell_type": "code",
   "execution_count": 47,
   "metadata": {},
   "outputs": [],
   "source": [
    "from typing import Tuple, List\n",
    "\n",
    "def multi_sort(transactions: List[Transaction], specs: List[Tuple[str, bool]]) -> List[Transaction]:\n",
    "    \"\"\"\n",
    "    Sort the transitions based on `specs`.\n",
    "\n",
    "    Parameters\n",
    "    ----------\n",
    "    transactions : List[Transaction]\n",
    "        A list of instances of the Transaction class\n",
    "    specs : List[Tuple[str, bool]]\n",
    "        A list of `(attribute name, reverse)` pairs where `reverse` is a boolean (True = Descending, False = Ascending)\n",
    "\n",
    "    Returns\n",
    "    -------\n",
    "    List[Transaction]\n",
    "        Sorted list of transaction objects\n",
    "    \"\"\"\n",
    "    for attribute_name, reverse in specs:\n",
    "        transactions.sort(key=attrgetter(attribute_name), reverse=reverse)\n",
    "    return transactions\n"
   ]
  },
  {
   "cell_type": "markdown",
   "metadata": {},
   "source": [
    "Sort by:\n",
    "\n",
    "* date time in ascending order\n",
    "* amount in descending order\n"
   ]
  },
  {
   "cell_type": "code",
   "execution_count": 54,
   "metadata": {},
   "outputs": [
    {
     "data": {
      "text/plain": [
       "[2024-02-03 01:19:03 - debit - $200,\n",
       " 2024-12-27 03:13:03 - credit - $120,\n",
       " 2022-07-18 03:15:03 - credit - $100,\n",
       " 2023-08-01 03:06:03 - debit - $50]"
      ]
     },
     "execution_count": 54,
     "metadata": {},
     "output_type": "execute_result"
    }
   ],
   "source": [
    "multi_sort(list(transactions), [('date_time', False), ('amount', True)])\n"
   ]
  },
  {
   "cell_type": "markdown",
   "metadata": {},
   "source": [
    "Sort by:\n",
    "\n",
    "* amount in ascending order\n",
    "* date time in descending order"
   ]
  },
  {
   "cell_type": "code",
   "execution_count": 55,
   "metadata": {},
   "outputs": [
    {
     "data": {
      "text/plain": [
       "[2024-12-27 03:13:03 - credit - $120,\n",
       " 2024-02-03 01:19:03 - debit - $200,\n",
       " 2023-08-01 03:06:03 - debit - $50,\n",
       " 2022-07-18 03:15:03 - credit - $100]"
      ]
     },
     "execution_count": 55,
     "metadata": {},
     "output_type": "execute_result"
    }
   ],
   "source": [
    "multi_sort(list(transactions), [('amount', False), ('date_time', True)])\n"
   ]
  }
 ],
 "metadata": {
  "kernelspec": {
   "display_name": "python_learning",
   "language": "python",
   "name": "python3"
  },
  "language_info": {
   "codemirror_mode": {
    "name": "ipython",
    "version": 3
   },
   "file_extension": ".py",
   "mimetype": "text/x-python",
   "name": "python",
   "nbconvert_exporter": "python",
   "pygments_lexer": "ipython3",
   "version": "3.11.9"
  }
 },
 "nbformat": 4,
 "nbformat_minor": 2
}
