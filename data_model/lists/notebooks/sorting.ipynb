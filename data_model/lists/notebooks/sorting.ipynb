{
 "cells": [
  {
   "cell_type": "markdown",
   "metadata": {},
   "source": [
    "## Key Functions\n",
    "\n",
    "Both `list.sort()` and `sorted()` have a `key` parameter to specify a function to be called on each list element prior to making comparisons:"
   ]
  },
  {
   "cell_type": "code",
   "execution_count": 1,
   "metadata": {},
   "outputs": [
    {
     "data": {
      "text/plain": [
       "['a', 'is', 'language', 'programming', 'Python']"
      ]
     },
     "execution_count": 1,
     "metadata": {},
     "output_type": "execute_result"
    }
   ],
   "source": [
    "sorted(\"Python is a programming language\".split(), key=str.lower)"
   ]
  },
  {
   "cell_type": "markdown",
   "metadata": {},
   "source": [
    "The `key` parameters should be a function or callable that\n",
    "\n",
    "- Takes a single argument\n",
    "- Returns a key to be used for sorting purposes"
   ]
  },
  {
   "cell_type": "markdown",
   "metadata": {},
   "source": [
    "### Sorting Complex Objects"
   ]
  },
  {
   "cell_type": "code",
   "execution_count": 2,
   "metadata": {},
   "outputs": [
    {
     "data": {
      "text/plain": [
       "[('Wu', 'Z', 12), ('Ken', 'A', 18), ('Yang', 'D', 89)]"
      ]
     },
     "execution_count": 2,
     "metadata": {},
     "output_type": "execute_result"
    }
   ],
   "source": [
    "class Student(object):\n",
    "    __slots__ = (\"name\", \"grade\", \"age\")\n",
    "\n",
    "    def __init__(self, name: str, grade: str, age: int):\n",
    "        self.name = name\n",
    "        self.grade = grade\n",
    "        self.age = age\n",
    "\n",
    "    def __repr__(self):\n",
    "        return repr((self.name, self.grade, self.age))\n",
    "\n",
    "\n",
    "student_instances = [\n",
    "    Student(\"Yang\", \"D\", 89),\n",
    "    Student(\"Wu\", \"Z\", 12),\n",
    "    Student(\"Ken\", \"A\", 18),\n",
    "]\n",
    "\n",
    "sorted(student_instances, key=lambda student: student.age)"
   ]
  },
  {
   "cell_type": "code",
   "execution_count": 3,
   "metadata": {},
   "outputs": [
    {
     "data": {
      "text/plain": [
       "[('wu', -4), ('yang', 2), ('python', 9), ('r', 10)]"
      ]
     },
     "execution_count": 3,
     "metadata": {},
     "output_type": "execute_result"
    }
   ],
   "source": [
    "student_tuples = [(\"yang\", 2), (\"wu\", -4), (\"python\", 9), (\"r\", 10)]\n",
    "\n",
    "sorted(student_tuples, key=lambda student: student[1])"
   ]
  },
  {
   "cell_type": "markdown",
   "metadata": {},
   "source": [
    "### Operator Module"
   ]
  },
  {
   "cell_type": "code",
   "execution_count": 4,
   "metadata": {},
   "outputs": [],
   "source": [
    "from operator import itemgetter, attrgetter"
   ]
  },
  {
   "cell_type": "markdown",
   "metadata": {},
   "source": [
    "Sort by specific index in a tuple:"
   ]
  },
  {
   "cell_type": "code",
   "execution_count": 5,
   "metadata": {},
   "outputs": [
    {
     "data": {
      "text/plain": [
       "[('wu', -4), ('yang', 2), ('python', 9), ('r', 10)]"
      ]
     },
     "execution_count": 5,
     "metadata": {},
     "output_type": "execute_result"
    }
   ],
   "source": [
    "sorted(student_tuples, key=itemgetter(1))"
   ]
  },
  {
   "cell_type": "markdown",
   "metadata": {},
   "source": [
    "Sort by specific attribute in a class:"
   ]
  },
  {
   "cell_type": "code",
   "execution_count": 6,
   "metadata": {},
   "outputs": [
    {
     "data": {
      "text/plain": [
       "[('Ken', 'A', 18), ('Yang', 'D', 89), ('Wu', 'Z', 12)]"
      ]
     },
     "execution_count": 6,
     "metadata": {},
     "output_type": "execute_result"
    }
   ],
   "source": [
    "sorted(student_instances, key=attrgetter(\"grade\"))"
   ]
  },
  {
   "cell_type": "markdown",
   "metadata": {},
   "source": [
    "Muli-level sorting:"
   ]
  },
  {
   "cell_type": "code",
   "execution_count": 7,
   "metadata": {},
   "outputs": [
    {
     "data": {
      "text/plain": [
       "[('Wu', 'Z', 12), ('Ken', 'A', 18), ('Yang', 'D', 89)]"
      ]
     },
     "execution_count": 7,
     "metadata": {},
     "output_type": "execute_result"
    }
   ],
   "source": [
    "sorted(student_instances, key=attrgetter(\"age\", \"name\"))"
   ]
  },
  {
   "cell_type": "code",
   "execution_count": 8,
   "metadata": {},
   "outputs": [
    {
     "data": {
      "text/plain": [
       "[('python', 9), ('r', 10), ('wu', -4), ('yang', 2)]"
      ]
     },
     "execution_count": 8,
     "metadata": {},
     "output_type": "execute_result"
    }
   ],
   "source": [
    "sorted(student_tuples, key=itemgetter(0, 1))"
   ]
  },
  {
   "cell_type": "markdown",
   "metadata": {},
   "source": [
    "## Ascending and Descending Order"
   ]
  },
  {
   "cell_type": "markdown",
   "metadata": {},
   "source": [
    "Ascending is the default:"
   ]
  },
  {
   "cell_type": "code",
   "execution_count": 9,
   "metadata": {},
   "outputs": [
    {
     "data": {
      "text/plain": [
       "[('Ken', 'A', 18), ('Wu', 'Z', 12), ('Yang', 'D', 89)]"
      ]
     },
     "execution_count": 9,
     "metadata": {},
     "output_type": "execute_result"
    }
   ],
   "source": [
    "sorted(student_instances, key=attrgetter(\"name\"), reverse=False)"
   ]
  },
  {
   "cell_type": "markdown",
   "metadata": {},
   "source": [
    "Descending requires `reverse=True`:"
   ]
  },
  {
   "cell_type": "code",
   "execution_count": 10,
   "metadata": {},
   "outputs": [
    {
     "data": {
      "text/plain": [
       "[('Yang', 'D', 89), ('Ken', 'A', 18), ('Wu', 'Z', 12)]"
      ]
     },
     "execution_count": 10,
     "metadata": {},
     "output_type": "execute_result"
    }
   ],
   "source": [
    "sorted(student_instances, key=attrgetter(\"age\"), reverse=True)"
   ]
  },
  {
   "cell_type": "markdown",
   "metadata": {},
   "source": [
    "## Multi-Level Sorting"
   ]
  },
  {
   "cell_type": "code",
   "execution_count": 11,
   "metadata": {},
   "outputs": [
    {
     "data": {
      "text/plain": [
       "(2024-12-27 03:13:03 - credit - $120,\n",
       " 2024-02-03 01:19:03 - debit - $200,\n",
       " 2022-07-18 03:15:03 - credit - $100,\n",
       " 2023-08-01 03:06:03 - debit - $50)"
      ]
     },
     "execution_count": 11,
     "metadata": {},
     "output_type": "execute_result"
    }
   ],
   "source": [
    "from datetime import datetime\n",
    "\n",
    "\n",
    "class Transaction(object):\n",
    "    def __init__(self, date_time: datetime, type: str, amount: float):\n",
    "        self.date_time = date_time\n",
    "        self.type = type\n",
    "        self.amount = amount\n",
    "\n",
    "    def __repr__(self):\n",
    "        return f\"{self.date_time} - {self.type} - ${self.amount}\"\n",
    "\n",
    "\n",
    "transactions = (\n",
    "    Transaction(datetime(*(2024, 12, 27, 3, 13, 3)), \"credit\", 120),\n",
    "    Transaction(datetime(*(2024, 2, 3, 1, 19, 3)), \"debit\", 200),\n",
    "    Transaction(datetime(*(2022, 7, 18, 3, 15, 3)), \"credit\", 100),\n",
    "    Transaction(datetime(*(2023, 8, 1, 3, 6, 3)), \"debit\", 50),\n",
    ")\n",
    "\n",
    "transactions"
   ]
  },
  {
   "cell_type": "code",
   "execution_count": 12,
   "metadata": {},
   "outputs": [],
   "source": [
    "from typing import Tuple, List\n",
    "\n",
    "\n",
    "def multi_sort(\n",
    "    transactions: List[Transaction], specs: List[Tuple[str, bool]]\n",
    ") -> List[Transaction]:\n",
    "    \"\"\"\n",
    "    Sort the transitions based on `specs`.\n",
    "\n",
    "    Parameters\n",
    "    ----------\n",
    "    transactions : List[Transaction]\n",
    "        A list of instances of the Transaction class\n",
    "    specs : List[Tuple[str, bool]]\n",
    "        A list of `(attribute name, reverse)` pairs where `reverse` is a boolean (True = Descending, False = Ascending)\n",
    "\n",
    "    Returns\n",
    "    -------\n",
    "    List[Transaction]\n",
    "        Sorted list of transaction objects\n",
    "    \"\"\"\n",
    "    for attribute_name, reverse in specs:\n",
    "        transactions.sort(key=attrgetter(attribute_name), reverse=reverse)\n",
    "    return transactions"
   ]
  },
  {
   "cell_type": "markdown",
   "metadata": {},
   "source": [
    "Sort by:\n",
    "\n",
    "* date time in ascending order\n",
    "* amount in descending order\n"
   ]
  },
  {
   "cell_type": "code",
   "execution_count": 13,
   "metadata": {},
   "outputs": [
    {
     "data": {
      "text/plain": [
       "[2024-02-03 01:19:03 - debit - $200,\n",
       " 2024-12-27 03:13:03 - credit - $120,\n",
       " 2022-07-18 03:15:03 - credit - $100,\n",
       " 2023-08-01 03:06:03 - debit - $50]"
      ]
     },
     "execution_count": 13,
     "metadata": {},
     "output_type": "execute_result"
    }
   ],
   "source": [
    "multi_sort(list(transactions), [(\"date_time\", False), (\"amount\", True)])"
   ]
  },
  {
   "cell_type": "markdown",
   "metadata": {},
   "source": [
    "Sort by:\n",
    "\n",
    "* amount in ascending order\n",
    "* date time in descending order"
   ]
  },
  {
   "cell_type": "code",
   "execution_count": 14,
   "metadata": {},
   "outputs": [
    {
     "data": {
      "text/plain": [
       "[2024-12-27 03:13:03 - credit - $120,\n",
       " 2024-02-03 01:19:03 - debit - $200,\n",
       " 2023-08-01 03:06:03 - debit - $50,\n",
       " 2022-07-18 03:15:03 - credit - $100]"
      ]
     },
     "execution_count": 14,
     "metadata": {},
     "output_type": "execute_result"
    }
   ],
   "source": [
    "multi_sort(list(transactions), [(\"amount\", False), (\"date_time\", True)])"
   ]
  }
 ],
 "metadata": {
  "kernelspec": {
   "display_name": "python_learning",
   "language": "python",
   "name": "python3"
  },
  "language_info": {
   "codemirror_mode": {
    "name": "ipython",
    "version": 3
   },
   "file_extension": ".py",
   "mimetype": "text/x-python",
   "name": "python",
   "nbconvert_exporter": "python",
   "pygments_lexer": "ipython3",
   "version": "3.11.9"
  }
 },
 "nbformat": 4,
 "nbformat_minor": 2
}
